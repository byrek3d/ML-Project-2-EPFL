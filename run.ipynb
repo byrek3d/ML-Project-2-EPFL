{
 "cells": [
  {
   "cell_type": "markdown",
   "metadata": {},
   "source": [
    "# Netflix "
   ]
  },
  {
   "cell_type": "markdown",
   "metadata": {},
   "source": [
    "## Load libraries"
   ]
  },
  {
   "cell_type": "code",
   "execution_count": 1,
   "metadata": {},
   "outputs": [],
   "source": [
    "# Useful starting lines\n",
    "%matplotlib inline\n",
    "\n",
    "import numpy as np\n",
    "import seaborn as sns \n",
    "import pandas as pd\n",
    "\n",
    "from scipy import sparse\n",
    "from scipy.sparse import csr_matrix\n",
    "\n",
    "import scipy\n",
    "import scipy.io\n",
    "import scipy.sparse as sp\n",
    "import matplotlib.pyplot as plt\n",
    "\n",
    "from sklearn.metrics.pairwise import cosine_similarity\n",
    "\n",
    "import models as m\n",
    "import utils as u\n",
    "\n",
    "from surprise.dataset import * \n",
    "from surprise.model_selection import train_test_split\n",
    "from surprise.model_selection import cross_validate\n",
    "from surprise.model_selection import KFold\n",
    "from surprise import accuracy\n",
    "from surprise.model_selection import GridSearchCV\n",
    "from surprise import BaselineOnly,CoClustering,SVD,SVDpp,NMF,SlopeOne,KNNBasic\n",
    "\n",
    "%load_ext autoreload\n",
    "%autoreload 2"
   ]
  },
  {
   "cell_type": "markdown",
   "metadata": {},
   "source": [
    "## Load data"
   ]
  },
  {
   "cell_type": "code",
   "execution_count": 2,
   "metadata": {},
   "outputs": [],
   "source": [
    "raw_data = pd.read_csv('data/data_train.csv', header=0, index_col=0, names=['Id', 'rating'])\n",
    "data = u.preprocess(raw_data).reset_index().drop(columns=['Id'])"
   ]
  },
  {
   "cell_type": "code",
   "execution_count": 3,
   "metadata": {},
   "outputs": [
    {
     "name": "stdout",
     "output_type": "stream",
     "text": [
      "Total data \n",
      "--------------------------------------------------\n",
      "\n",
      "Total no of ratings : 1176952\n",
      "Total No of Users   : 10000\n",
      "Total No of movies  : 1000\n"
     ]
    }
   ],
   "source": [
    "print(\"Total data \")\n",
    "print(\"-\"*50)\n",
    "print(\"\\nTotal no of ratings :\",data.shape[0])\n",
    "print(\"Total No of Users   :\", len(np.unique(data.user)))\n",
    "print(\"Total No of movies  :\", len(np.unique(data.item)))"
   ]
  },
  {
   "cell_type": "markdown",
   "metadata": {},
   "source": [
    "## Surprise models"
   ]
  },
  {
   "cell_type": "markdown",
   "metadata": {},
   "source": [
    "### Suprise Reader"
   ]
  },
  {
   "cell_type": "code",
   "execution_count": 4,
   "metadata": {},
   "outputs": [],
   "source": [
    "reader=Reader(rating_scale=(1.0,5.0))\n",
    "formatted_data= Dataset.load_from_df(data[['user','item','rating']],reader)"
   ]
  },
  {
   "cell_type": "code",
   "execution_count": 12,
   "metadata": {},
   "outputs": [],
   "source": [
    "n_factorsNMF= 15\n",
    "n_epochsNMF= 50\n",
    "reg_puNMF=0.06\n",
    "reg_qiNMF= 0.06 \n",
    "reg_buNMF= 0.02\n",
    "reg_biNMF=0.06\n",
    "\n",
    "n_factorsSVD=80\n",
    "n_epochsSVD=800\n",
    "lr_allSVD=0.001667\n",
    "reg_allSVD=0.1\n",
    "\n",
    "epochs_SVDpp= 20\n",
    "\n",
    "n_cltr_uCC=13\n",
    "n_cltr_iCC=13\n",
    "n_epochsCC=200\n",
    "\n",
    "bsl_options= {'method': 'als', 'n_epochs': 10, 'reg_u': 15, 'reg_i': 5}\n",
    "\n",
    "model_parameters_user = {\n",
    "      'name': 'pearson',\n",
    "      'user_based': True\n",
    "    }\n",
    "\n",
    "k_user=100\n",
    "\n",
    "model_parameters_movie = {\n",
    "      'name': 'pearson',\n",
    "      'user_based': False\n",
    "    }\n",
    "\n",
    "k_movie=300"
   ]
  },
  {
   "cell_type": "code",
   "execution_count": 6,
   "metadata": {},
   "outputs": [
    {
     "name": "stdout",
     "output_type": "stream",
     "text": [
      "Seperating the data in 2 datasets: one for training the models and one for training the blending model:\n"
     ]
    }
   ],
   "source": [
    "#Split the data\n",
    "print(\"Seperating the data in 2 datasets: one for training the models and one for training the blending model:\")\n",
    "trainset, blending_trainset = train_test_split(formatted_data, test_size=.2 ,random_state=1)"
   ]
  },
  {
   "cell_type": "code",
   "execution_count": 7,
   "metadata": {},
   "outputs": [
    {
     "name": "stdout",
     "output_type": "stream",
     "text": [
      "The training matrix shape is : (movie, user) :  (1000, 10000)\n"
     ]
    }
   ],
   "source": [
    "import utils as u \n",
    "df_trainset = u.trainset_from_surprise_to_df(trainset)\n",
    "ratings = sparse.csr_matrix((df_trainset.Rating.values, (df_trainset.Movie.values,df_trainset.User.values)))\n",
    "print(\"The training matrix shape is : (movie, user) : \",ratings.shape)"
   ]
  },
  {
   "cell_type": "code",
   "execution_count": 8,
   "metadata": {},
   "outputs": [],
   "source": [
    "num_items_per_user, num_users_per_item = u.stat_data(ratings)"
   ]
  },
  {
   "cell_type": "code",
   "execution_count": 9,
   "metadata": {},
   "outputs": [
    {
     "name": "stdout",
     "output_type": "stream",
     "text": [
      "Total number of nonzero elements in train data:855655\n",
      "Total number of nonzero elements in test data:85906\n"
     ]
    }
   ],
   "source": [
    "train, test = m.split_data(ratings, num_items_per_user, num_users_per_item, p_test=0.1)"
   ]
  },
  {
   "cell_type": "code",
   "execution_count": 10,
   "metadata": {},
   "outputs": [
    {
     "name": "stdout",
     "output_type": "stream",
     "text": [
      "-Training MF SGD\n",
      "learn the matrix factorization using SGD...\n",
      "iter: 0, RMSE on training set: 1.0406707832491695.\n",
      "iter: 1, RMSE on training set: 1.0319200459052986.\n",
      "iter: 2, RMSE on training set: 1.0234073855331058.\n",
      "iter: 3, RMSE on training set: 1.0182289781349412.\n",
      "iter: 4, RMSE on training set: 1.0112441959865646.\n",
      "iter: 5, RMSE on training set: 1.0076287591183628.\n",
      "iter: 6, RMSE on training set: 1.0031645255155202.\n",
      "iter: 7, RMSE on training set: 1.0009344004246836.\n",
      "iter: 8, RMSE on training set: 0.9982715951812604.\n",
      "iter: 9, RMSE on training set: 0.9962776414148165.\n",
      "iter: 10, RMSE on training set: 0.9946291604088592.\n",
      "iter: 11, RMSE on training set: 0.9933364909883697.\n",
      "iter: 12, RMSE on training set: 0.9923116667826084.\n",
      "iter: 13, RMSE on training set: 0.9914241232736605.\n",
      "iter: 14, RMSE on training set: 0.9909842193152002.\n",
      "iter: 15, RMSE on training set: 0.990520605617766.\n",
      "iter: 16, RMSE on training set: 0.9902073248588171.\n",
      "iter: 17, RMSE on training set: 0.9899859783014069.\n",
      "iter: 18, RMSE on training set: 0.989822985692264.\n",
      "iter: 19, RMSE on training set: 0.9897083165143643.\n",
      "RMSE on test data: 1.001952290088686.\n"
     ]
    }
   ],
   "source": [
    "print(\"-Training MF SGD\")\n",
    "user_sgd, movie_sgd = m.matrix_factorization_SGD(train, test)"
   ]
  },
  {
   "cell_type": "code",
   "execution_count": 13,
   "metadata": {},
   "outputs": [],
   "source": [
    "dfMFSGD=[]\n",
    "\n",
    "for uid,iid,_ in blending_trainset: #(row,col) => (user,movie)\n",
    "\n",
    "    user_data = user_sgd[:,uid]  \n",
    "    movie_data = movie_sgd[:,iid]\n",
    "            \n",
    "    prediciton= movie_data @ user_data.T\n",
    "    \n",
    "    dfMFSGD.append(prediciton)\n",
    "dfMFSGD=pd.DataFrame([dfMFSGD]).transpose()"
   ]
  },
  {
   "cell_type": "code",
   "execution_count": 14,
   "metadata": {},
   "outputs": [
    {
     "name": "stdout",
     "output_type": "stream",
     "text": [
      "\n",
      "start the ALS algorithm...\n",
      "RMSE on training set: 1.0096213223343775.\n",
      "RMSE on training set: 0.9897623997863326.\n",
      "RMSE on training set: 0.9882554305466036.\n",
      "RMSE on training set: 0.9785814843517239.\n",
      "RMSE on training set: 0.9655358439160899.\n",
      "RMSE on training set: 0.9398782693596247.\n",
      "RMSE on training set: 0.9055869127154883.\n",
      "RMSE on training set: 0.8821395758380728.\n",
      "RMSE on training set: 0.8728425787937345.\n",
      "RMSE on training set: 0.8696054316454422.\n",
      "RMSE on training set: 0.8680908124294271.\n",
      "RMSE on training set: 0.867163991961797.\n",
      "RMSE on training set: 0.8665206662208795.\n",
      "RMSE on training set: 0.8660479766196768.\n",
      "RMSE on training set: 0.8656902166834826.\n",
      "RMSE on training set: 0.8654147525722957.\n",
      "RMSE on training set: 0.8652004701576148.\n",
      "RMSE on training set: 0.865032813346032.\n",
      "RMSE on training set: 0.8649012922439743.\n",
      "RMSE on training set: 0.8647980964022626.\n",
      "RMSE on training set: 0.8647172652430879.\n",
      "RMSE on training set: 0.8646541641003642.\n",
      "RMSE on training set: 0.8646051386056399.\n",
      "RMSE on training set: 0.8645672781152665.\n",
      "RMSE on training set: 0.8645382482919314.\n",
      "RMSE on training set: 0.8645161689453568.\n",
      "RMSE on training set: 0.8644995224017641.\n",
      "RMSE on training set: 0.864487083107201.\n",
      "RMSE on training set: 0.864477862467729.\n",
      "test RMSE after running ALS: 0.9947006666985309.\n"
     ]
    }
   ],
   "source": [
    "user_als,movie_als = m.ALS(train, test)"
   ]
  },
  {
   "cell_type": "code",
   "execution_count": 15,
   "metadata": {},
   "outputs": [],
   "source": [
    "dfMFALS=[]\n",
    "\n",
    "for uid,iid,_ in blending_trainset: #(row,col) => (user,movie)\n",
    "\n",
    "    user_data = user_als[:,uid]  \n",
    "    movie_data = movie_als[:,iid]\n",
    "            \n",
    "    prediciton= movie_data @ user_data.T\n",
    "    \n",
    "    dfMFALS.append(prediciton)\n",
    "dfMFALS=pd.DataFrame([dfMFALS]).transpose()"
   ]
  },
  {
   "cell_type": "code",
   "execution_count": 16,
   "metadata": {},
   "outputs": [
    {
     "name": "stdout",
     "output_type": "stream",
     "text": [
      "-Training global baseline\n",
      "Baseline global RMSE on test:  1.1183490490057697\n"
     ]
    }
   ],
   "source": [
    "print(\"-Training global baseline\")\n",
    "baseline_global=m.baseline_global_mean(train, test)"
   ]
  },
  {
   "cell_type": "code",
   "execution_count": 17,
   "metadata": {},
   "outputs": [],
   "source": [
    "dfBLGlobal = pd.DataFrame( [baseline_global] *len(blending_trainset) )"
   ]
  },
  {
   "cell_type": "code",
   "execution_count": 18,
   "metadata": {},
   "outputs": [
    {
     "name": "stdout",
     "output_type": "stream",
     "text": [
      "-Training user baseline\n",
      "Baseline User RMSE on test:  1.0952021069845412\n"
     ]
    }
   ],
   "source": [
    "print(\"-Training user baseline\")\n",
    "baseline_user=m.baseline_user_mean(train, test)"
   ]
  },
  {
   "cell_type": "code",
   "execution_count": 19,
   "metadata": {},
   "outputs": [],
   "source": [
    "dfBLUser = []\n",
    "for user,movie,_ in blending_trainset:\n",
    "    dfBLUser.append(baseline_user[0,user])\n",
    "dfBLUser = pd.DataFrame(dfBLUser)"
   ]
  },
  {
   "cell_type": "code",
   "execution_count": 20,
   "metadata": {},
   "outputs": [
    {
     "name": "stdout",
     "output_type": "stream",
     "text": [
      "-Training movie baseline\n",
      "Baseline Movie RMSE on test:  1.0310268689565203\n"
     ]
    }
   ],
   "source": [
    "print(\"-Training movie baseline\")\n",
    "baseline_movie=m.baseline_movie_mean(train, test)"
   ]
  },
  {
   "cell_type": "code",
   "execution_count": 21,
   "metadata": {},
   "outputs": [],
   "source": [
    "dfBLMovie = []\n",
    "for user,movie,_ in blending_trainset:\n",
    "    dfBLMovie.append(baseline_movie [movie,0])\n",
    "dfBLMovie = pd.DataFrame(dfBLMovie)  "
   ]
  },
  {
   "cell_type": "code",
   "execution_count": 22,
   "metadata": {},
   "outputs": [],
   "source": [
    "#Save the label of the second dataset in a dataframe\n",
    "label_blending_trainset = []\n",
    "\n",
    "for a,b,c in blending_trainset:\n",
    "    label_blending_trainset.append(c)\n",
    "\n",
    "df_label_blending_trainset=pd.DataFrame(label_blending_trainset)"
   ]
  },
  {
   "cell_type": "code",
   "execution_count": 23,
   "metadata": {},
   "outputs": [
    {
     "name": "stdout",
     "output_type": "stream",
     "text": [
      "-Training CoCluster\n",
      "-Training Baseline\n",
      "Estimating biases using als...\n",
      "-Training SVD\n",
      "-Training SVD++\n",
      "-Training NMF\n",
      "-Training KNN on movie\n",
      "Computing the msd similarity matrix...\n",
      "Done computing similarity matrix.\n",
      "-Training KNN on user\n",
      "Computing the msd similarity matrix...\n",
      "Done computing similarity matrix.\n",
      "-Training Slope One\n",
      "-For the Blending algorithm, we predict on the second dataset using the trained models\n"
     ]
    }
   ],
   "source": [
    "print(\"-Training CoCluster\")\n",
    "algoCC= CoClustering(n_cltr_i=n_cltr_iCC, n_cltr_u=n_cltr_uCC, n_epochs=n_epochsCC)\n",
    "algoCC.fit(trainset)\n",
    "\n",
    "print(\"-Training Baseline\")\n",
    "algoBL=BaselineOnly(bsl_options=bsl_options)\n",
    "algoBL.fit(trainset)\n",
    "\n",
    "print(\"-Training SVD\")\n",
    "algoSVD=SVD( n_factors=n_factorsSVD, n_epochs=n_epochsSVD, lr_all=lr_allSVD,reg_all=reg_allSVD)\n",
    "algoSVD.fit(trainset)\n",
    "\n",
    "print(\"-Training SVD++\")\n",
    "algoSVDpp = SVDpp(n_factors=n_factorsSVD, n_epochs=epochs_SVDpp, lr_all=lr_allSVD,reg_all=reg_allSVD)\n",
    "algoSVDpp.fit(trainset)\n",
    "\n",
    "print(\"-Training NMF\")\n",
    "algoNMF = NMF(n_factors=n_factorsNMF, n_epochs=n_epochsNMF, reg_pu=reg_puNMF, reg_qi=reg_qiNMF, reg_bu=reg_buNMF, reg_bi=reg_biNMF)\n",
    "algoNMF.fit(trainset)\n",
    "\n",
    "print(\"-Training KNN on movie\")\n",
    "algoKNNMovie =KNNBasic(model_parameters=model_parameters_movie, k=k_movie)\n",
    "algoKNNMovie.fit(trainset)\n",
    "\n",
    "print(\"-Training KNN on user\")\n",
    "algoKNNUser =KNNBasic(model_parameters=model_parameters_user,k=k_user)\n",
    "algoKNNUser.fit(trainset)\n",
    "\n",
    "print(\"-Training Slope One\")\n",
    "algoSO = SlopeOne()\n",
    "algoSO.fit(trainset)\n",
    "\n",
    "print(\"-For the Blending algorithm, we predict on the second dataset using the trained models\")\n",
    "predCC=algoCC.test(blending_trainset)\n",
    "dfCC=u.pred_from_suprise_to_df(predCC)\n",
    "\n",
    "predBL=algoBL.test(blending_trainset)\n",
    "dfBL=u.pred_from_suprise_to_df(predBL)\n",
    "\n",
    "predSVD=algoSVD.test(blending_trainset)\n",
    "dfSVD=u.pred_from_suprise_to_df(predSVD)\n",
    "\n",
    "predSVDpp=algoSVDpp.test(blending_trainset)\n",
    "dfSVDpp=u.pred_from_suprise_to_df(predSVDpp)\n",
    "\n",
    "predNMF=algoNMF.test(blending_trainset)\n",
    "dfNMF=u.pred_from_suprise_to_df(predNMF)\n",
    "\n",
    "predKNNMovie=algoKNNMovie.test(blending_trainset)\n",
    "dfKNNMovie=u.pred_from_suprise_to_df(predKNNMovie)\n",
    "\n",
    "predKNNUser=algoKNNUser.test(blending_trainset)\n",
    "dfKNNUser=u.pred_from_suprise_to_df(predKNNUser)\n",
    "\n",
    "predSO=algoSO.test(blending_trainset)\n",
    "dfSO=u.pred_from_suprise_to_df(predSO)"
   ]
  },
  {
   "cell_type": "markdown",
   "metadata": {},
   "source": [
    "## Sparse Matrix Training "
   ]
  },
  {
   "cell_type": "code",
   "execution_count": 289,
   "metadata": {},
   "outputs": [
    {
     "name": "stdout",
     "output_type": "stream",
     "text": [
      "The training matrix shape is : (user, movie) :  (10000, 1000)\n"
     ]
    }
   ],
   "source": [
    "sparse_matrix = sparse.csr_matrix((df_trainset.Rating.values, (df_trainset.User.values,df_trainset.Movie.values)))\n",
    "print(\"The training matrix shape is : (user, movie) : \",sparse_matrix.shape)"
   ]
  },
  {
   "cell_type": "code",
   "execution_count": 118,
   "metadata": {},
   "outputs": [
    {
     "name": "stdout",
     "output_type": "stream",
     "text": [
      "Sparsity of the training matrix : 90.58439 % \n"
     ]
    }
   ],
   "source": [
    "users, movies = sparse_matrix.shape\n",
    "elem = sparse_matrix.count_nonzero()\n",
    "\n",
    "print(\"Sparsity of the training matrix : {0} % \".format((1 - (elem / (users * movies))) * 100))"
   ]
  },
  {
   "cell_type": "markdown",
   "metadata": {},
   "source": [
    "## Rating's averages"
   ]
  },
  {
   "cell_type": "markdown",
   "metadata": {},
   "source": [
    "### Rating's average over all data"
   ]
  },
  {
   "cell_type": "code",
   "execution_count": 119,
   "metadata": {},
   "outputs": [
    {
     "name": "stdout",
     "output_type": "stream",
     "text": [
      "The average rating over all movies of trainset is : 3.8565276174353014 \n"
     ]
    }
   ],
   "source": [
    "global_average = sparse_matrix.sum() / sparse_matrix.count_nonzero()\n",
    "print(\"The average rating over all movies of trainset is : {0} \".format(global_average) )"
   ]
  },
  {
   "cell_type": "markdown",
   "metadata": {},
   "source": [
    "### Rating's average per user"
   ]
  },
  {
   "cell_type": "code",
   "execution_count": 120,
   "metadata": {},
   "outputs": [
    {
     "name": "stdout",
     "output_type": "stream",
     "text": [
      "Computing the rating's average per user\n"
     ]
    }
   ],
   "source": [
    "print(\"Computing the rating's average per user\")\n",
    "\n",
    "user_mean = []   #contains the mean rating for user i at index i\n",
    "\n",
    "for user_index in range(users):\n",
    "    \n",
    "        # find the non-zero ratings for each user in the dataset\n",
    "        ratings = sparse_matrix[user_index, :]\n",
    "        nonzeros_ratings = ratings[ratings.nonzero()]\n",
    "        \n",
    "        # calculate the mean if the number of elements is not 0\n",
    "        if nonzeros_ratings.shape[1] != 0:\n",
    "            user_mean.append(nonzeros_ratings.mean())\n",
    "        else:\n",
    "            user_mean.append(0)"
   ]
  },
  {
   "cell_type": "markdown",
   "metadata": {},
   "source": [
    "### Rating's average per movie"
   ]
  },
  {
   "cell_type": "code",
   "execution_count": 121,
   "metadata": {},
   "outputs": [
    {
     "name": "stdout",
     "output_type": "stream",
     "text": [
      "Computing the rating's average per movie\n"
     ]
    }
   ],
   "source": [
    "print(\"Computing the rating's average per movie\")\n",
    "\n",
    "movie_mean = []   #contains the mean rating for movie j at index j\n",
    "\n",
    "for movie_index in range(movies):\n",
    "    \n",
    "        # find the non-zero ratings for each user in the dataset\n",
    "        ratings = sparse_matrix[:, movie_index]\n",
    "        nonzeros_ratings = ratings[ratings.nonzero()]\n",
    "        \n",
    "        # calculate the mean if the number of elements is not 0\n",
    "        if nonzeros_ratings.shape[1] != 0:\n",
    "            movie_mean.append(nonzeros_ratings.mean())\n",
    "        else:\n",
    "            movie_mean.append(0)"
   ]
  },
  {
   "cell_type": "markdown",
   "metadata": {},
   "source": [
    "### Similarity Matrix "
   ]
  },
  {
   "cell_type": "code",
   "execution_count": 122,
   "metadata": {},
   "outputs": [],
   "source": [
    "# get the indices of  non zero rows(users) from our sparse matrix\n",
    "row_ind, col_ind = sparse_matrix.nonzero()\n",
    "\n",
    "row_ind = sorted(set(row_ind))   #to have unique values and sorted if needed  \n",
    "col_ind = sorted(set(col_ind))"
   ]
  },
  {
   "cell_type": "markdown",
   "metadata": {},
   "source": [
    "#### User-User similarity "
   ]
  },
  {
   "cell_type": "code",
   "execution_count": 123,
   "metadata": {},
   "outputs": [
    {
     "name": "stdout",
     "output_type": "stream",
     "text": [
      "Computing top 5 similar user for each user\n"
     ]
    }
   ],
   "source": [
    "top = 5 \n",
    "print(\"Computing top\",top,\"similar user for each user\")"
   ]
  },
  {
   "cell_type": "code",
   "execution_count": 124,
   "metadata": {},
   "outputs": [],
   "source": [
    "user_simil_matrix = []\n",
    "\n",
    "for row in row_ind: \n",
    "    # get the similarity row for this user with all other users\n",
    "    simil = cosine_similarity(sparse_matrix.getrow(row), sparse_matrix).ravel()\n",
    "    \n",
    "    # get the index of the top 5 \n",
    "    top_users = np.argsort((simil))[::-1][1:top+1]\n",
    "    user_simil_matrix.append(top_users)"
   ]
  },
  {
   "cell_type": "markdown",
   "metadata": {},
   "source": [
    "#### Movie-Movie similarity"
   ]
  },
  {
   "cell_type": "code",
   "execution_count": 125,
   "metadata": {},
   "outputs": [
    {
     "name": "stdout",
     "output_type": "stream",
     "text": [
      "Computing top 5 similar movie for each movie\n"
     ]
    }
   ],
   "source": [
    "top = 5 \n",
    "print(\"Computing top\",top,\"similar movie for each movie\")"
   ]
  },
  {
   "cell_type": "code",
   "execution_count": 126,
   "metadata": {},
   "outputs": [],
   "source": [
    "movie_simil_matrix = []\n",
    "\n",
    "for col in col_ind: \n",
    "    # get the similarity col for this movie with all other movies\n",
    "    simil = cosine_similarity(sparse_matrix.getcol(col).T, sparse_matrix.T).ravel()\n",
    "    # get the index of the top 5 \n",
    "    top_movies = np.argsort((simil))[::-1][1:top+1]\n",
    "    movie_simil_matrix.append(top_movies)"
   ]
  },
  {
   "cell_type": "markdown",
   "metadata": {},
   "source": [
    "### Featurizing the trainset"
   ]
  },
  {
   "cell_type": "markdown",
   "metadata": {},
   "source": [
    "Global_Average : Average rating of all the ratings\n",
    " \n",
    "User_Average : User's Average rating\n",
    "\n",
    "Movie_Average : Average rating of this movie\n",
    "\n",
    "Similar users rating of this movie:\n",
    "SimUser1, SimUser2, SimUser3, SimUser4, SimUser5 ( top 5 similar users who rated that movie.. )\n",
    "\n",
    "Similar movies rated by this user:\n",
    "SimMovie1, SimMovie2, SimMovie3, SimMovie4, SimMovie5 ( top 5 similar movies rated by this user.. )"
   ]
  },
  {
   "cell_type": "code",
   "execution_count": 127,
   "metadata": {},
   "outputs": [],
   "source": [
    "row_ind, col_ind = sparse_matrix.nonzero()"
   ]
  },
  {
   "cell_type": "code",
   "execution_count": 128,
   "metadata": {},
   "outputs": [],
   "source": [
    "df_featured_data = pd.DataFrame({'User': row_ind, 'Movie' : col_ind, 'Grade' : sparse_matrix.data, 'Global_Average' : global_average })"
   ]
  },
  {
   "cell_type": "code",
   "execution_count": 129,
   "metadata": {},
   "outputs": [],
   "source": [
    "df_featured_data['User_Average'] = df_featured_data['User'].map(lambda x: user_mean[x])\n",
    "df_featured_data['Movie_Average'] = df_featured_data['Movie'].map(lambda x: movie_mean[x])"
   ]
  },
  {
   "cell_type": "markdown",
   "metadata": {},
   "source": [
    "Get the indices of the similar users"
   ]
  },
  {
   "cell_type": "code",
   "execution_count": 130,
   "metadata": {},
   "outputs": [],
   "source": [
    "df_featured_data['SimUser1'] = df_featured_data['User'].map(lambda x: int(user_simil_matrix[x][0]))\n",
    "df_featured_data['SimUser2'] = df_featured_data['User'].map(lambda x: int(user_simil_matrix[x][1]))\n",
    "df_featured_data['SimUser3'] = df_featured_data['User'].map(lambda x: int(user_simil_matrix[x][2]))\n",
    "df_featured_data['SimUser4'] = df_featured_data['User'].map(lambda x: int(user_simil_matrix[x][3]))\n",
    "df_featured_data['SimUser5'] = df_featured_data['User'].map(lambda x: int(user_simil_matrix[x][4]))"
   ]
  },
  {
   "cell_type": "markdown",
   "metadata": {},
   "source": [
    "For each similar user need to find the rating that he put for that movie if not available put the average rating of that user as an estimator. "
   ]
  },
  {
   "cell_type": "code",
   "execution_count": 131,
   "metadata": {},
   "outputs": [],
   "source": [
    "def Userfunction1(row):\n",
    "    if(sparse_matrix[row['SimUser1'],row['Movie']] == 0):\n",
    "        return user_mean[int(row['SimUser1'])]\n",
    "    else:\n",
    "        return sparse_matrix[row['SimUser1'],row['Movie']]"
   ]
  },
  {
   "cell_type": "code",
   "execution_count": 132,
   "metadata": {},
   "outputs": [],
   "source": [
    "df_featured_data['SimUser1'] = df_featured_data.apply(Userfunction1,axis=1)"
   ]
  },
  {
   "cell_type": "code",
   "execution_count": 133,
   "metadata": {},
   "outputs": [],
   "source": [
    "def Userfunction2(row):\n",
    "    if(sparse_matrix[row['SimUser2'],row['Movie']] == 0):\n",
    "        return user_mean[int(row['SimUser2'])]\n",
    "    else:\n",
    "        return sparse_matrix[row['SimUser2'],row['Movie']]"
   ]
  },
  {
   "cell_type": "code",
   "execution_count": 134,
   "metadata": {},
   "outputs": [],
   "source": [
    "df_featured_data['SimUser2'] = df_featured_data.apply(Userfunction2,axis=1)"
   ]
  },
  {
   "cell_type": "code",
   "execution_count": 135,
   "metadata": {},
   "outputs": [],
   "source": [
    "def Userfunction3(row):\n",
    "    if(sparse_matrix[row['SimUser3'],row['Movie']] == 0):\n",
    "        return user_mean[int(row['SimUser3'])]\n",
    "    else:\n",
    "        return sparse_matrix[row['SimUser3'],row['Movie']]"
   ]
  },
  {
   "cell_type": "code",
   "execution_count": 136,
   "metadata": {},
   "outputs": [],
   "source": [
    "df_featured_data['SimUser3'] = df_featured_data.apply(Userfunction3,axis=1)"
   ]
  },
  {
   "cell_type": "code",
   "execution_count": 137,
   "metadata": {},
   "outputs": [],
   "source": [
    "def Userfunction4(row):\n",
    "    if(sparse_matrix[row['SimUser4'],row['Movie']] == 0):\n",
    "        return user_mean[int(row['SimUser4'])]\n",
    "    else:\n",
    "        return sparse_matrix[row['SimUser4'],row['Movie']]"
   ]
  },
  {
   "cell_type": "code",
   "execution_count": 138,
   "metadata": {},
   "outputs": [],
   "source": [
    "df_featured_data['SimUser4'] = df_featured_data.apply(Userfunction4,axis=1)"
   ]
  },
  {
   "cell_type": "code",
   "execution_count": 139,
   "metadata": {},
   "outputs": [],
   "source": [
    "def Userfunction5(row):\n",
    "    if(sparse_matrix[row['SimUser5'],row['Movie']] == 0):\n",
    "        return user_mean[int(row['SimUser5'])]\n",
    "    else:\n",
    "        return sparse_matrix[row['SimUser5'],row['Movie']]"
   ]
  },
  {
   "cell_type": "code",
   "execution_count": 140,
   "metadata": {},
   "outputs": [],
   "source": [
    "df_featured_data['SimUser5'] = df_featured_data.apply(Userfunction5,axis=1)"
   ]
  },
  {
   "cell_type": "markdown",
   "metadata": {},
   "source": [
    "Get the indices of the similar movies"
   ]
  },
  {
   "cell_type": "code",
   "execution_count": 141,
   "metadata": {},
   "outputs": [],
   "source": [
    "df_featured_data['SimMovie1'] = df_featured_data['Movie'].map(lambda x: int(movie_simil_matrix[x][0]))\n",
    "df_featured_data['SimMovie2'] = df_featured_data['Movie'].map(lambda x: int(movie_simil_matrix[x][1]))\n",
    "df_featured_data['SimMovie3'] = df_featured_data['Movie'].map(lambda x: int(movie_simil_matrix[x][2]))\n",
    "df_featured_data['SimMovie4'] = df_featured_data['Movie'].map(lambda x: int(movie_simil_matrix[x][3]))\n",
    "df_featured_data['SimMovie5'] = df_featured_data['Movie'].map(lambda x: int(movie_simil_matrix[x][4]))"
   ]
  },
  {
   "cell_type": "markdown",
   "metadata": {},
   "source": [
    "For each similar movie we need to find the rating that the user has given to it if not available give the similar movie average rating.  "
   ]
  },
  {
   "cell_type": "code",
   "execution_count": 142,
   "metadata": {},
   "outputs": [],
   "source": [
    "def Moviefunction1(row):\n",
    "    if(sparse_matrix[row['User'],row['SimMovie1']] == 0):\n",
    "        return movie_mean[int(row['SimMovie1'])]\n",
    "    else:\n",
    "        return sparse_matrix[row['User'],row['SimMovie1']]"
   ]
  },
  {
   "cell_type": "code",
   "execution_count": 143,
   "metadata": {},
   "outputs": [],
   "source": [
    "df_featured_data['SimMovie1'] = df_featured_data.apply(Moviefunction1,axis=1)"
   ]
  },
  {
   "cell_type": "code",
   "execution_count": 144,
   "metadata": {},
   "outputs": [],
   "source": [
    "def Moviefunction2(row):\n",
    "    if(sparse_matrix[row['User'],row['SimMovie2']] == 0):\n",
    "        return movie_mean[int(row['SimMovie2'])]\n",
    "    else:\n",
    "        return sparse_matrix[row['User'],row['SimMovie2']]"
   ]
  },
  {
   "cell_type": "code",
   "execution_count": 145,
   "metadata": {},
   "outputs": [],
   "source": [
    "df_featured_data['SimMovie2'] = df_featured_data.apply(Moviefunction2,axis=1)"
   ]
  },
  {
   "cell_type": "code",
   "execution_count": 146,
   "metadata": {},
   "outputs": [],
   "source": [
    "def Moviefunction3(row):\n",
    "    if(sparse_matrix[row['User'],row['SimMovie3']] == 0):\n",
    "        return movie_mean[int(row['SimMovie3'])]\n",
    "    else:\n",
    "        return sparse_matrix[row['User'],row['SimMovie3']]"
   ]
  },
  {
   "cell_type": "code",
   "execution_count": 147,
   "metadata": {},
   "outputs": [],
   "source": [
    "df_featured_data['SimMovie3'] = df_featured_data.apply(Moviefunction3,axis=1)"
   ]
  },
  {
   "cell_type": "code",
   "execution_count": 148,
   "metadata": {},
   "outputs": [],
   "source": [
    "def Moviefunction4(row):\n",
    "    if(sparse_matrix[row['User'],row['SimMovie4']] == 0):\n",
    "        return movie_mean[int(row['SimMovie4'])]\n",
    "    else:\n",
    "        return sparse_matrix[row['User'],row['SimMovie4']]"
   ]
  },
  {
   "cell_type": "code",
   "execution_count": 149,
   "metadata": {},
   "outputs": [],
   "source": [
    "df_featured_data['SimMovie4'] = df_featured_data.apply(Moviefunction4,axis=1)"
   ]
  },
  {
   "cell_type": "code",
   "execution_count": 150,
   "metadata": {},
   "outputs": [],
   "source": [
    "def Moviefunction5(row):\n",
    "    if(sparse_matrix[row['User'],row['SimMovie5']] == 0):\n",
    "        return movie_mean[int(row['SimMovie5'])]\n",
    "    else:\n",
    "        return sparse_matrix[row['User'],row['SimMovie5']]"
   ]
  },
  {
   "cell_type": "code",
   "execution_count": 151,
   "metadata": {},
   "outputs": [],
   "source": [
    "df_featured_data['SimMovie5'] = df_featured_data.apply(Moviefunction5,axis=1)"
   ]
  },
  {
   "cell_type": "markdown",
   "metadata": {},
   "source": [
    "### Featurizing the blending trainset"
   ]
  },
  {
   "cell_type": "code",
   "execution_count": 301,
   "metadata": {},
   "outputs": [],
   "source": [
    "df_blending_trainset=[]\n",
    "\n",
    "for u,m,r in blending_trainset:\n",
    "    df_blending_trainset.append([u,m,r])\n",
    "    \n",
    "df_featured_blending_trainset = pd.DataFrame(df_blending_trainset)\n",
    "df_featured_blending_trainset = df_featured_blending_trainset.rename({0:'User',1:'Movie',2:'Rating'},axis =1)"
   ]
  },
  {
   "cell_type": "code",
   "execution_count": 302,
   "metadata": {},
   "outputs": [],
   "source": [
    "df_featured_blending_trainset['User_Average'] = df_featured_blending_trainset['User'].map(lambda x: user_mean[x])\n",
    "df_featured_blending_trainset['Movie_Average'] = df_featured_blending_trainset['Movie'].map(lambda x: movie_mean[x])"
   ]
  },
  {
   "cell_type": "markdown",
   "metadata": {},
   "source": [
    "Get the indices of the similar users"
   ]
  },
  {
   "cell_type": "code",
   "execution_count": 303,
   "metadata": {},
   "outputs": [],
   "source": [
    "df_featured_blending_trainset['SimUser1'] = df_featured_blending_trainset['User'].map(lambda x: int(user_simil_matrix[x][0]))\n",
    "df_featured_blending_trainset['SimUser2'] = df_featured_blending_trainset['User'].map(lambda x: int(user_simil_matrix[x][1]))\n",
    "df_featured_blending_trainset['SimUser3'] = df_featured_blending_trainset['User'].map(lambda x: int(user_simil_matrix[x][2]))\n",
    "df_featured_blending_trainset['SimUser4'] = df_featured_blending_trainset['User'].map(lambda x: int(user_simil_matrix[x][3]))\n",
    "df_featured_blending_trainset['SimUser5'] = df_featured_blending_trainset['User'].map(lambda x: int(user_simil_matrix[x][4]))"
   ]
  },
  {
   "cell_type": "markdown",
   "metadata": {},
   "source": [
    "For each similar user need to find the rating that he put for that movie if not available put the average rating of that user as an estimator. "
   ]
  },
  {
   "cell_type": "code",
   "execution_count": 304,
   "metadata": {},
   "outputs": [],
   "source": [
    "df_featured_blending_trainset['SimUser1'] = df_featured_blending_trainset.apply(Userfunction1,axis=1)\n",
    "df_featured_blending_trainset['SimUser2'] = df_featured_blending_trainset.apply(Userfunction2,axis=1)\n",
    "df_featured_blending_trainset['SimUser3'] = df_featured_blending_trainset.apply(Userfunction3,axis=1)\n",
    "df_featured_blending_trainset['SimUser4'] = df_featured_blending_trainset.apply(Userfunction4,axis=1)\n",
    "df_featured_blending_trainset['SimUser5'] = df_featured_blending_trainset.apply(Userfunction5,axis=1)"
   ]
  },
  {
   "cell_type": "code",
   "execution_count": 305,
   "metadata": {},
   "outputs": [],
   "source": [
    "df_featured_blending_trainset['SimMovie1'] = df_featured_blending_trainset['Movie'].map(lambda x: int(movie_simil_matrix[x][0]))\n",
    "df_featured_blending_trainset['SimMovie2'] = df_featured_blending_trainset['Movie'].map(lambda x: int(movie_simil_matrix[x][1]))\n",
    "df_featured_blending_trainset['SimMovie3'] = df_featured_blending_trainset['Movie'].map(lambda x: int(movie_simil_matrix[x][2]))\n",
    "df_featured_blending_trainset['SimMovie4'] = df_featured_blending_trainset['Movie'].map(lambda x: int(movie_simil_matrix[x][3]))\n",
    "df_featured_blending_trainset['SimMovie5'] = df_featured_blending_trainset['Movie'].map(lambda x: int(movie_simil_matrix[x][4]))"
   ]
  },
  {
   "cell_type": "markdown",
   "metadata": {},
   "source": [
    "For each similar movie we need to find the rating that the user has given to it if not available give the similar movie average rating.  "
   ]
  },
  {
   "cell_type": "code",
   "execution_count": 306,
   "metadata": {},
   "outputs": [],
   "source": [
    "df_featured_blending_trainset['SimMovie1'] = df_featured_blending_trainset.apply(Moviefunction1,axis=1)\n",
    "df_featured_blending_trainset['SimMovie2'] = df_featured_blending_trainset.apply(Moviefunction2,axis=1)\n",
    "df_featured_blending_trainset['SimMovie3'] = df_featured_blending_trainset.apply(Moviefunction3,axis=1)\n",
    "df_featured_blending_trainset['SimMovie4'] = df_featured_blending_trainset.apply(Moviefunction4,axis=1)\n",
    "df_featured_blending_trainset['SimMovie5'] = df_featured_blending_trainset.apply(Moviefunction5,axis=1)"
   ]
  },
  {
   "cell_type": "markdown",
   "metadata": {},
   "source": [
    "## xgboosting case"
   ]
  },
  {
   "cell_type": "code",
   "execution_count": 24,
   "metadata": {},
   "outputs": [],
   "source": [
    "# for xgboosting\n",
    "df_val=pd.concat([dfCC,dfBL,dfSVD,dfSVDpp,dfNMF,dfKNNMovie,dfKNNUser,dfSO],ignore_index=True,axis=1)\n",
    "df_val=df_val.rename({0:'dfCC',1:'dfBL',2:'dfSVD',3:'dfSVDpp',4:'dfNMF',5:'dfKNNMovie',6:'dfKNNUser',7:'dfSO'},axis=1)"
   ]
  },
  {
   "cell_type": "code",
   "execution_count": 199,
   "metadata": {},
   "outputs": [],
   "source": [
    "df_val=pd.concat([df_val,df_sub_load],axis=1)\n"
   ]
  },
  {
   "cell_type": "code",
   "execution_count": 206,
   "metadata": {},
   "outputs": [],
   "source": [
    "file_name_full_testset = 'full_testset_pred.pk'\n",
    "df_val.to_pickle(file_name_full_testset)  \n"
   ]
  },
  {
   "cell_type": "code",
   "execution_count": 207,
   "metadata": {},
   "outputs": [],
   "source": [
    "df_val_load= pd.read_pickle(file_name_full_testset)\n"
   ]
  },
  {
   "cell_type": "code",
   "execution_count": 209,
   "metadata": {},
   "outputs": [
    {
     "data": {
      "text/html": [
       "<div>\n",
       "<style scoped>\n",
       "    .dataframe tbody tr th:only-of-type {\n",
       "        vertical-align: middle;\n",
       "    }\n",
       "\n",
       "    .dataframe tbody tr th {\n",
       "        vertical-align: top;\n",
       "    }\n",
       "\n",
       "    .dataframe thead th {\n",
       "        text-align: right;\n",
       "    }\n",
       "</style>\n",
       "<table border=\"1\" class=\"dataframe\">\n",
       "  <thead>\n",
       "    <tr style=\"text-align: right;\">\n",
       "      <th></th>\n",
       "      <th>dfCC</th>\n",
       "      <th>dfBL</th>\n",
       "      <th>dfSVD</th>\n",
       "      <th>dfSVDpp</th>\n",
       "      <th>dfNMF</th>\n",
       "      <th>dfKNNMovie</th>\n",
       "      <th>dfKNNUser</th>\n",
       "      <th>dfSO</th>\n",
       "      <th>Global_Average</th>\n",
       "      <th>User_Average</th>\n",
       "      <th>...</th>\n",
       "      <th>SimUser1</th>\n",
       "      <th>SimUser2</th>\n",
       "      <th>SimUser3</th>\n",
       "      <th>SimUser4</th>\n",
       "      <th>SimUser5</th>\n",
       "      <th>SimMovie1</th>\n",
       "      <th>SimMovie2</th>\n",
       "      <th>SimMovie3</th>\n",
       "      <th>SimMovie4</th>\n",
       "      <th>SimMovie5</th>\n",
       "    </tr>\n",
       "  </thead>\n",
       "  <tbody>\n",
       "    <tr>\n",
       "      <th>0</th>\n",
       "      <td>4.119818</td>\n",
       "      <td>3.964080</td>\n",
       "      <td>4.015291</td>\n",
       "      <td>3.960811</td>\n",
       "      <td>3.899238</td>\n",
       "      <td>3.910535</td>\n",
       "      <td>3.927553</td>\n",
       "      <td>3.960918</td>\n",
       "      <td>3.892108</td>\n",
       "      <td>3.984000</td>\n",
       "      <td>...</td>\n",
       "      <td>4.10687</td>\n",
       "      <td>4.01739</td>\n",
       "      <td>4.02871</td>\n",
       "      <td>4.34307</td>\n",
       "      <td>3.84706</td>\n",
       "      <td>3.67135</td>\n",
       "      <td>4.07113</td>\n",
       "      <td>4.11476</td>\n",
       "      <td>3.35088</td>\n",
       "      <td>3.55319</td>\n",
       "    </tr>\n",
       "    <tr>\n",
       "      <th>1</th>\n",
       "      <td>4.609463</td>\n",
       "      <td>4.567344</td>\n",
       "      <td>4.602919</td>\n",
       "      <td>4.449281</td>\n",
       "      <td>4.707938</td>\n",
       "      <td>4.166667</td>\n",
       "      <td>4.266678</td>\n",
       "      <td>4.675613</td>\n",
       "      <td>3.892108</td>\n",
       "      <td>3.645669</td>\n",
       "      <td>...</td>\n",
       "      <td>3.41216</td>\n",
       "      <td>4.0</td>\n",
       "      <td>3.86239</td>\n",
       "      <td>5.0</td>\n",
       "      <td>4.16071</td>\n",
       "      <td>4.03377</td>\n",
       "      <td>4.67221</td>\n",
       "      <td>3.0</td>\n",
       "      <td>3.0</td>\n",
       "      <td>3.0</td>\n",
       "    </tr>\n",
       "    <tr>\n",
       "      <th>2</th>\n",
       "      <td>4.150149</td>\n",
       "      <td>4.225888</td>\n",
       "      <td>4.229197</td>\n",
       "      <td>4.235194</td>\n",
       "      <td>4.512875</td>\n",
       "      <td>3.875913</td>\n",
       "      <td>4.129353</td>\n",
       "      <td>4.256987</td>\n",
       "      <td>3.892108</td>\n",
       "      <td>4.011765</td>\n",
       "      <td>...</td>\n",
       "      <td>4.34389</td>\n",
       "      <td>4.14155</td>\n",
       "      <td>3.96943</td>\n",
       "      <td>4.15723</td>\n",
       "      <td>2.0</td>\n",
       "      <td>4.02832</td>\n",
       "      <td>3.24462</td>\n",
       "      <td>3.89542</td>\n",
       "      <td>3.0</td>\n",
       "      <td>4.0</td>\n",
       "    </tr>\n",
       "    <tr>\n",
       "      <th>3</th>\n",
       "      <td>3.725314</td>\n",
       "      <td>3.733729</td>\n",
       "      <td>3.780385</td>\n",
       "      <td>3.801156</td>\n",
       "      <td>3.956574</td>\n",
       "      <td>3.727128</td>\n",
       "      <td>3.555165</td>\n",
       "      <td>3.768091</td>\n",
       "      <td>3.892108</td>\n",
       "      <td>3.931034</td>\n",
       "      <td>...</td>\n",
       "      <td>3.74468</td>\n",
       "      <td>4.0177</td>\n",
       "      <td>4.08889</td>\n",
       "      <td>3.76471</td>\n",
       "      <td>3.56716</td>\n",
       "      <td>3.6841</td>\n",
       "      <td>4.30263</td>\n",
       "      <td>4.26651</td>\n",
       "      <td>4.27586</td>\n",
       "      <td>4.2892</td>\n",
       "    </tr>\n",
       "    <tr>\n",
       "      <th>4</th>\n",
       "      <td>3.808722</td>\n",
       "      <td>3.646213</td>\n",
       "      <td>3.613137</td>\n",
       "      <td>3.752535</td>\n",
       "      <td>3.377562</td>\n",
       "      <td>3.611192</td>\n",
       "      <td>3.563142</td>\n",
       "      <td>3.646480</td>\n",
       "      <td>3.892108</td>\n",
       "      <td>3.490909</td>\n",
       "      <td>...</td>\n",
       "      <td>3.87879</td>\n",
       "      <td>3.85263</td>\n",
       "      <td>4.00746</td>\n",
       "      <td>3.72414</td>\n",
       "      <td>3.72414</td>\n",
       "      <td>3.92495</td>\n",
       "      <td>4.21165</td>\n",
       "      <td>4.55685</td>\n",
       "      <td>1.0</td>\n",
       "      <td>3.0</td>\n",
       "    </tr>\n",
       "  </tbody>\n",
       "</table>\n",
       "<p>5 rows × 21 columns</p>\n",
       "</div>"
      ],
      "text/plain": [
       "       dfCC      dfBL     dfSVD   dfSVDpp     dfNMF  dfKNNMovie  dfKNNUser  \\\n",
       "0  4.119818  3.964080  4.015291  3.960811  3.899238    3.910535   3.927553   \n",
       "1  4.609463  4.567344  4.602919  4.449281  4.707938    4.166667   4.266678   \n",
       "2  4.150149  4.225888  4.229197  4.235194  4.512875    3.875913   4.129353   \n",
       "3  3.725314  3.733729  3.780385  3.801156  3.956574    3.727128   3.555165   \n",
       "4  3.808722  3.646213  3.613137  3.752535  3.377562    3.611192   3.563142   \n",
       "\n",
       "       dfSO  Global_Average  User_Average  ...  SimUser1 SimUser2 SimUser3  \\\n",
       "0  3.960918        3.892108      3.984000  ...   4.10687  4.01739  4.02871   \n",
       "1  4.675613        3.892108      3.645669  ...   3.41216      4.0  3.86239   \n",
       "2  4.256987        3.892108      4.011765  ...   4.34389  4.14155  3.96943   \n",
       "3  3.768091        3.892108      3.931034  ...   3.74468   4.0177  4.08889   \n",
       "4  3.646480        3.892108      3.490909  ...   3.87879  3.85263  4.00746   \n",
       "\n",
       "  SimUser4 SimUser5 SimMovie1 SimMovie2 SimMovie3 SimMovie4 SimMovie5  \n",
       "0  4.34307  3.84706   3.67135   4.07113   4.11476   3.35088   3.55319  \n",
       "1      5.0  4.16071   4.03377   4.67221       3.0       3.0       3.0  \n",
       "2  4.15723      2.0   4.02832   3.24462   3.89542       3.0       4.0  \n",
       "3  3.76471  3.56716    3.6841   4.30263   4.26651   4.27586    4.2892  \n",
       "4  3.72414  3.72414   3.92495   4.21165   4.55685       1.0       3.0  \n",
       "\n",
       "[5 rows x 21 columns]"
      ]
     },
     "execution_count": 209,
     "metadata": {},
     "output_type": "execute_result"
    }
   ],
   "source": [
    "df_val_load.head()"
   ]
  },
  {
   "cell_type": "code",
   "execution_count": 222,
   "metadata": {},
   "outputs": [],
   "source": [
    "df_val_load.SimUser1=df_val_load.SimUser1.astype(float)\n",
    "df_val_load.SimUser2=df_val_load.SimUser2.astype(float)\n",
    "df_val_load.SimUser3=df_val_load.SimUser3.astype(float)\n",
    "df_val_load.SimUser4=df_val_load.SimUser4.astype(float)\n",
    "df_val_load.SimUser5=df_val_load.SimUser5.astype(float)\n",
    "df_val_load.SimMovie1=df_val_load.SimMovie1.astype(float)\n",
    "df_val_load.SimMovie2=df_val_load.SimMovie2.astype(float)\n",
    "df_val_load.SimMovie3=df_val_load.SimMovie3.astype(float)\n",
    "df_val_load.SimMovie4=df_val_load.SimMovie4.astype(float)\n",
    "df_val_load.SimMovie5=df_val_load.SimMovie5.astype(float)"
   ]
  },
  {
   "cell_type": "code",
   "execution_count": 223,
   "metadata": {},
   "outputs": [
    {
     "data": {
      "text/plain": [
       "XGBRegressor(base_score=0.5, booster='gbtree', colsample_bylevel=1,\n",
       "             colsample_bynode=1, colsample_bytree=1, gamma=0,\n",
       "             importance_type='gain', learning_rate=0.1, max_delta_step=0,\n",
       "             max_depth=3, min_child_weight=1, missing=None, n_estimators=100,\n",
       "             n_jobs=21, nthread=None, objective='reg:linear', random_state=1,\n",
       "             reg_alpha=0, reg_lambda=1, scale_pos_weight=1, seed=None,\n",
       "             silent=True, subsample=1, verbosity=1)"
      ]
     },
     "execution_count": 223,
     "metadata": {},
     "output_type": "execute_result"
    }
   ],
   "source": [
    "import xgboost as xgb\n",
    "\n",
    "model= xgb.XGBRegressor(silent=True, n_jobs=21, random_state=1,n_estimators=100)\n",
    "\n",
    "model.fit(df_val_load,y_val, eval_metric='rmse')\n"
   ]
  },
  {
   "cell_type": "code",
   "execution_count": 224,
   "metadata": {},
   "outputs": [
    {
     "data": {
      "text/plain": [
       "<matplotlib.axes._subplots.AxesSubplot at 0x1a9ff53198>"
      ]
     },
     "execution_count": 224,
     "metadata": {},
     "output_type": "execute_result"
    },
    {
     "data": {
      "image/png": "[encoded data removed]",
      "text/plain": [
       "<Figure size 432x288 with 1 Axes>"
      ]
     },
     "metadata": {
      "needs_background": "light"
     },
     "output_type": "display_data"
    }
   ],
   "source": [
    "xgb.plot_importance(model)\n"
   ]
  },
  {
   "cell_type": "code",
   "execution_count": 242,
   "metadata": {},
   "outputs": [],
   "source": [
    "ids, preds = u.predict_on_models_xgb([algoCC, algoBL,algoSVD, algoSVDpp,algoNMF,algoKNNMovie,algoKNNUser,algoSO],df_sub_load_on_full_dataset,model)"
   ]
  },
  {
   "cell_type": "code",
   "execution_count": 243,
   "metadata": {},
   "outputs": [],
   "source": [
    "list_prds=[]\n",
    "for i in preds:\n",
    "    list_prds.append(int(round(i[0])))\n",
    "    \n",
    "u.create_csv_submission(ids, list_prds, \"submissionBlendedFull.csv\")\n"
   ]
  },
  {
   "cell_type": "markdown",
   "metadata": {},
   "source": [
    "## Boosting with models only"
   ]
  },
  {
   "cell_type": "code",
   "execution_count": 34,
   "metadata": {},
   "outputs": [],
   "source": [
    "df_val=pd.concat([df_val,dfSO],ignore_index=True,axis=1)"
   ]
  },
  {
   "cell_type": "code",
   "execution_count": 30,
   "metadata": {},
   "outputs": [
    {
     "data": {
      "text/html": [
       "<div>\n",
       "<style scoped>\n",
       "    .dataframe tbody tr th:only-of-type {\n",
       "        vertical-align: middle;\n",
       "    }\n",
       "\n",
       "    .dataframe tbody tr th {\n",
       "        vertical-align: top;\n",
       "    }\n",
       "\n",
       "    .dataframe thead th {\n",
       "        text-align: right;\n",
       "    }\n",
       "</style>\n",
       "<table border=\"1\" class=\"dataframe\">\n",
       "  <thead>\n",
       "    <tr style=\"text-align: right;\">\n",
       "      <th></th>\n",
       "      <th>0</th>\n",
       "      <th>1</th>\n",
       "      <th>2</th>\n",
       "      <th>3</th>\n",
       "      <th>4</th>\n",
       "      <th>5</th>\n",
       "      <th>6</th>\n",
       "    </tr>\n",
       "  </thead>\n",
       "  <tbody>\n",
       "    <tr>\n",
       "      <td>0</td>\n",
       "      <td>3.509842</td>\n",
       "      <td>3.431631</td>\n",
       "      <td>3.371351</td>\n",
       "      <td>3.498977</td>\n",
       "      <td>3.241153</td>\n",
       "      <td>3.048282</td>\n",
       "      <td>3.159696</td>\n",
       "    </tr>\n",
       "    <tr>\n",
       "      <td>1</td>\n",
       "      <td>3.763229</td>\n",
       "      <td>3.721627</td>\n",
       "      <td>3.670139</td>\n",
       "      <td>3.691346</td>\n",
       "      <td>3.697311</td>\n",
       "      <td>3.939017</td>\n",
       "      <td>3.797680</td>\n",
       "    </tr>\n",
       "    <tr>\n",
       "      <td>2</td>\n",
       "      <td>4.790899</td>\n",
       "      <td>4.497726</td>\n",
       "      <td>4.247168</td>\n",
       "      <td>4.432649</td>\n",
       "      <td>4.641481</td>\n",
       "      <td>4.271208</td>\n",
       "      <td>4.177243</td>\n",
       "    </tr>\n",
       "    <tr>\n",
       "      <td>3</td>\n",
       "      <td>3.571419</td>\n",
       "      <td>3.517834</td>\n",
       "      <td>3.445036</td>\n",
       "      <td>3.512421</td>\n",
       "      <td>3.462475</td>\n",
       "      <td>3.535469</td>\n",
       "      <td>3.506786</td>\n",
       "    </tr>\n",
       "    <tr>\n",
       "      <td>4</td>\n",
       "      <td>4.701736</td>\n",
       "      <td>4.459169</td>\n",
       "      <td>4.754083</td>\n",
       "      <td>4.384296</td>\n",
       "      <td>4.437632</td>\n",
       "      <td>4.330050</td>\n",
       "      <td>4.281862</td>\n",
       "    </tr>\n",
       "  </tbody>\n",
       "</table>\n",
       "</div>"
      ],
      "text/plain": [
       "          0         1         2         3         4         5         6\n",
       "0  3.509842  3.431631  3.371351  3.498977  3.241153  3.048282  3.159696\n",
       "1  3.763229  3.721627  3.670139  3.691346  3.697311  3.939017  3.797680\n",
       "2  4.790899  4.497726  4.247168  4.432649  4.641481  4.271208  4.177243\n",
       "3  3.571419  3.517834  3.445036  3.512421  3.462475  3.535469  3.506786\n",
       "4  4.701736  4.459169  4.754083  4.384296  4.437632  4.330050  4.281862"
      ]
     },
     "execution_count": 30,
     "metadata": {},
     "output_type": "execute_result"
    }
   ],
   "source": [
    "df_val.head()"
   ]
  },
  {
   "cell_type": "code",
   "execution_count": 46,
   "metadata": {},
   "outputs": [],
   "source": [
    "# for xgboosting\n",
    "df_val=pd.concat([dfCC,dfBL,dfSVD,dfSVDpp,dfNMF,dfKNNMovie,dfKNNUser,dfSO,dfMFSGD,dfMFALS,dfBLGlobal,dfBLMovie, dfBLUser],ignore_index=True,axis=1)\n",
    "df_val=df_val.rename({0:'dfCC',1:'dfBL',2:'dfSVD',3:'dfSVDpp',4:'dfNMF',5:'dfKNNMovie',6:'dfKNNUser',7:'dfSO',8:'dfMFSGD',9:'dfMFALS',10:'dfBLGlobal',11:'dfBLMovie',12:'dfBLUser'},axis=1)"
   ]
  },
  {
   "cell_type": "code",
   "execution_count": 47,
   "metadata": {},
   "outputs": [
    {
     "data": {
      "text/html": [
       "<div>\n",
       "<style scoped>\n",
       "    .dataframe tbody tr th:only-of-type {\n",
       "        vertical-align: middle;\n",
       "    }\n",
       "\n",
       "    .dataframe tbody tr th {\n",
       "        vertical-align: top;\n",
       "    }\n",
       "\n",
       "    .dataframe thead th {\n",
       "        text-align: right;\n",
       "    }\n",
       "</style>\n",
       "<table border=\"1\" class=\"dataframe\">\n",
       "  <thead>\n",
       "    <tr style=\"text-align: right;\">\n",
       "      <th></th>\n",
       "      <th>dfCC</th>\n",
       "      <th>dfBL</th>\n",
       "      <th>dfSVD</th>\n",
       "      <th>dfSVDpp</th>\n",
       "      <th>dfNMF</th>\n",
       "      <th>dfKNNMovie</th>\n",
       "      <th>dfKNNUser</th>\n",
       "      <th>dfSO</th>\n",
       "      <th>dfMFSGD</th>\n",
       "      <th>dfMFALS</th>\n",
       "      <th>dfBLGlobal</th>\n",
       "      <th>dfBLMovie</th>\n",
       "      <th>dfBLUser</th>\n",
       "    </tr>\n",
       "  </thead>\n",
       "  <tbody>\n",
       "    <tr>\n",
       "      <td>0</td>\n",
       "      <td>3.509842</td>\n",
       "      <td>3.431631</td>\n",
       "      <td>3.371351</td>\n",
       "      <td>3.498977</td>\n",
       "      <td>3.241153</td>\n",
       "      <td>3.048282</td>\n",
       "      <td>3.159696</td>\n",
       "      <td>3.413288</td>\n",
       "      <td>4.276182</td>\n",
       "      <td>5.152174</td>\n",
       "      <td>3.8564</td>\n",
       "      <td>4.062500</td>\n",
       "      <td>4.382353</td>\n",
       "    </tr>\n",
       "    <tr>\n",
       "      <td>1</td>\n",
       "      <td>3.763229</td>\n",
       "      <td>3.721627</td>\n",
       "      <td>3.670139</td>\n",
       "      <td>3.691346</td>\n",
       "      <td>3.697311</td>\n",
       "      <td>3.939017</td>\n",
       "      <td>3.797680</td>\n",
       "      <td>3.626343</td>\n",
       "      <td>2.387449</td>\n",
       "      <td>2.329403</td>\n",
       "      <td>3.8564</td>\n",
       "      <td>2.270833</td>\n",
       "      <td>4.104762</td>\n",
       "    </tr>\n",
       "    <tr>\n",
       "      <td>2</td>\n",
       "      <td>4.790899</td>\n",
       "      <td>4.497726</td>\n",
       "      <td>4.247168</td>\n",
       "      <td>4.432649</td>\n",
       "      <td>4.641481</td>\n",
       "      <td>4.271208</td>\n",
       "      <td>4.177243</td>\n",
       "      <td>4.581914</td>\n",
       "      <td>4.211417</td>\n",
       "      <td>4.297415</td>\n",
       "      <td>3.8564</td>\n",
       "      <td>4.028264</td>\n",
       "      <td>4.117241</td>\n",
       "    </tr>\n",
       "    <tr>\n",
       "      <td>3</td>\n",
       "      <td>3.571419</td>\n",
       "      <td>3.517834</td>\n",
       "      <td>3.445036</td>\n",
       "      <td>3.512421</td>\n",
       "      <td>3.462475</td>\n",
       "      <td>3.535469</td>\n",
       "      <td>3.506786</td>\n",
       "      <td>3.492944</td>\n",
       "      <td>4.879998</td>\n",
       "      <td>4.563293</td>\n",
       "      <td>3.8564</td>\n",
       "      <td>4.380257</td>\n",
       "      <td>4.233184</td>\n",
       "    </tr>\n",
       "    <tr>\n",
       "      <td>4</td>\n",
       "      <td>4.701736</td>\n",
       "      <td>4.459169</td>\n",
       "      <td>4.754083</td>\n",
       "      <td>4.384296</td>\n",
       "      <td>4.437632</td>\n",
       "      <td>4.330050</td>\n",
       "      <td>4.281862</td>\n",
       "      <td>4.539478</td>\n",
       "      <td>2.681285</td>\n",
       "      <td>3.181867</td>\n",
       "      <td>3.8564</td>\n",
       "      <td>3.079365</td>\n",
       "      <td>3.487805</td>\n",
       "    </tr>\n",
       "  </tbody>\n",
       "</table>\n",
       "</div>"
      ],
      "text/plain": [
       "       dfCC      dfBL     dfSVD   dfSVDpp     dfNMF  dfKNNMovie  dfKNNUser  \\\n",
       "0  3.509842  3.431631  3.371351  3.498977  3.241153    3.048282   3.159696   \n",
       "1  3.763229  3.721627  3.670139  3.691346  3.697311    3.939017   3.797680   \n",
       "2  4.790899  4.497726  4.247168  4.432649  4.641481    4.271208   4.177243   \n",
       "3  3.571419  3.517834  3.445036  3.512421  3.462475    3.535469   3.506786   \n",
       "4  4.701736  4.459169  4.754083  4.384296  4.437632    4.330050   4.281862   \n",
       "\n",
       "       dfSO   dfMFSGD   dfMFALS  dfBLGlobal  dfBLMovie  dfBLUser  \n",
       "0  3.413288  4.276182  5.152174      3.8564   4.062500  4.382353  \n",
       "1  3.626343  2.387449  2.329403      3.8564   2.270833  4.104762  \n",
       "2  4.581914  4.211417  4.297415      3.8564   4.028264  4.117241  \n",
       "3  3.492944  4.879998  4.563293      3.8564   4.380257  4.233184  \n",
       "4  4.539478  2.681285  3.181867      3.8564   3.079365  3.487805  "
      ]
     },
     "execution_count": 47,
     "metadata": {},
     "output_type": "execute_result"
    }
   ],
   "source": [
    "df_val.head()"
   ]
  },
  {
   "cell_type": "code",
   "execution_count": 53,
   "metadata": {},
   "outputs": [
    {
     "data": {
      "text/plain": [
       "XGBRegressor(base_score=0.5, booster='gbtree', colsample_bylevel=1,\n",
       "       colsample_bynode=1, colsample_bytree=1, gamma=0,\n",
       "       importance_type='gain', learning_rate=0.1, max_delta_step=0,\n",
       "       max_depth=3, min_child_weight=1, missing=None, n_estimators=100,\n",
       "       n_jobs=12, nthread=None, objective='reg:linear', random_state=1,\n",
       "       reg_alpha=0, reg_lambda=1, scale_pos_weight=1, seed=None,\n",
       "       silent=True, subsample=1, verbosity=1)"
      ]
     },
     "execution_count": 53,
     "metadata": {},
     "output_type": "execute_result"
    }
   ],
   "source": [
    "import xgboost as xgb\n",
    "\n",
    "xgbmodel_nofeatures= xgb.XGBRegressor(silent=True, n_jobs=12, random_state=1,n_estimators=100)\n",
    "\n",
    "xgbmodel_nofeatures.fit(df_val,label_blending_trainset, eval_metric='rmse')"
   ]
  },
  {
   "cell_type": "code",
   "execution_count": 54,
   "metadata": {},
   "outputs": [
    {
     "data": {
      "text/plain": [
       "<matplotlib.axes._subplots.AxesSubplot at 0x18cd802f808>"
      ]
     },
     "execution_count": 54,
     "metadata": {},
     "output_type": "execute_result"
    },
    {
     "data": {
      "image/png": "[encoded data removed]",
      "text/plain": [
       "<Figure size 432x288 with 1 Axes>"
      ]
     },
     "metadata": {
      "needs_background": "light"
     },
     "output_type": "display_data"
    }
   ],
   "source": [
    "xgb.plot_importance(xgbmodel_nofeatures)"
   ]
  },
  {
   "cell_type": "code",
   "execution_count": 90,
   "metadata": {},
   "outputs": [
    {
     "name": "stdout",
     "output_type": "stream",
     "text": [
      "10000\n",
      "20000\n",
      "30000\n",
      "40000\n",
      "50000\n",
      "60000\n",
      "70000\n",
      "80000\n",
      "90000\n",
      "100000\n",
      "110000\n",
      "120000\n",
      "130000\n",
      "140000\n",
      "150000\n",
      "160000\n",
      "170000\n",
      "180000\n",
      "190000\n",
      "200000\n",
      "210000\n",
      "220000\n",
      "230000\n",
      "240000\n",
      "250000\n",
      "260000\n",
      "270000\n",
      "280000\n",
      "290000\n",
      "300000\n",
      "310000\n",
      "320000\n",
      "330000\n",
      "340000\n",
      "350000\n",
      "360000\n",
      "370000\n",
      "380000\n",
      "390000\n",
      "400000\n",
      "410000\n",
      "420000\n",
      "430000\n",
      "440000\n",
      "450000\n",
      "460000\n",
      "470000\n",
      "480000\n",
      "490000\n",
      "500000\n",
      "510000\n",
      "520000\n",
      "530000\n",
      "540000\n",
      "550000\n",
      "560000\n",
      "570000\n",
      "580000\n",
      "590000\n",
      "600000\n",
      "610000\n",
      "620000\n",
      "630000\n",
      "640000\n",
      "650000\n",
      "660000\n",
      "670000\n",
      "680000\n",
      "690000\n",
      "700000\n",
      "710000\n",
      "720000\n",
      "730000\n",
      "740000\n",
      "750000\n",
      "760000\n",
      "770000\n",
      "780000\n",
      "790000\n",
      "800000\n",
      "810000\n",
      "820000\n",
      "830000\n",
      "840000\n",
      "850000\n",
      "860000\n",
      "870000\n",
      "880000\n",
      "890000\n",
      "900000\n",
      "910000\n",
      "920000\n",
      "930000\n",
      "940000\n",
      "950000\n",
      "960000\n",
      "970000\n",
      "980000\n",
      "990000\n",
      "1000000\n",
      "1010000\n",
      "1020000\n",
      "1030000\n",
      "1040000\n",
      "1050000\n",
      "1060000\n",
      "1070000\n",
      "1080000\n",
      "1090000\n",
      "1100000\n",
      "1110000\n",
      "1120000\n",
      "1130000\n",
      "1140000\n",
      "1150000\n",
      "1160000\n",
      "1170000\n"
     ]
    }
   ],
   "source": [
    "#1.025\n",
    "import utils as u\n",
    "ids, preds = u.predict_on_models_only_xgb([algoCC, algoBL,algoSVD, algoSVDpp,algoNMF,algoKNNMovie,algoKNNUser,algoSO],\n",
    "                                          [user_sgd, movie_sgd],[user_als, movie_als],\n",
    "                                          baseline_global,baseline_movie,baseline_user,xgbmodel_nofeatures)"
   ]
  },
  {
   "cell_type": "code",
   "execution_count": 91,
   "metadata": {},
   "outputs": [],
   "source": [
    "u.create_csv_submission(ids, preds, \"submissionBlendedxgbModelsOnlyFixed.csv\")"
   ]
  },
  {
   "cell_type": "markdown",
   "metadata": {},
   "source": [
    "## Try one model only"
   ]
  },
  {
   "cell_type": "code",
   "execution_count": null,
   "metadata": {},
   "outputs": [],
   "source": [
    "blended all- 1.058\n",
    "blended surprise only -1.056\n",
    "blended minimize surprise only -1.061\n",
    "svdpp-1.059\n",
    "svd-1.059 (new: \t1.045)\n",
    "knnuser- 1.074\n",
    "knnmovie- 1.078\n",
    "so-1.060"
   ]
  },
  {
   "cell_type": "code",
   "execution_count": 293,
   "metadata": {},
   "outputs": [
    {
     "name": "stdout",
     "output_type": "stream",
     "text": [
      "100000\n",
      "200000\n",
      "300000\n",
      "400000\n",
      "500000\n",
      "600000\n",
      "700000\n",
      "800000\n",
      "900000\n",
      "1000000\n",
      "1100000\n"
     ]
    }
   ],
   "source": [
    "ids, preds =u.predict_on_model(algoSO)"
   ]
  },
  {
   "cell_type": "code",
   "execution_count": 294,
   "metadata": {},
   "outputs": [],
   "source": [
    "u.create_csv_submission(ids, preds, \"submissionSO.csv\")"
   ]
  },
  {
   "cell_type": "markdown",
   "metadata": {},
   "source": [
    "## our own Blending case"
   ]
  },
  {
   "cell_type": "code",
   "execution_count": 264,
   "metadata": {},
   "outputs": [
    {
     "name": "stderr",
     "output_type": "stream",
     "text": [
      "//anaconda3/lib/python3.7/site-packages/sklearn/linear_model/logistic.py:432: FutureWarning: Default solver will be changed to 'lbfgs' in 0.22. Specify a solver to silence this warning.\n",
      "  FutureWarning)\n"
     ]
    },
    {
     "name": "stdout",
     "output_type": "stream",
     "text": [
      "Check classes: [1. 2. 3. 4. 5.]\n",
      "[[-1.07464777e+00  1.11139912e+00  2.02967935e-02 -1.76004308e+00\n",
      "   4.53604552e-02 -5.67844678e-02 -2.86790739e-01 -8.72718902e-02]\n",
      " [-7.55730329e-01  1.26797560e+00  1.24639501e-01 -1.30559942e+00\n",
      "  -6.10622515e-02  3.39840726e-02 -6.13582985e-01 -4.00109478e-01]\n",
      " [-2.37027135e-01  1.11634339e+00  3.51167167e-01 -6.77209722e-01\n",
      "  -1.82977835e-01 -1.44300218e-01 -2.84786797e-01 -1.07338172e+00]\n",
      " [ 8.34977113e-01 -1.54381693e-02  1.14898049e+00 -1.36206374e-03\n",
      "  -1.33880948e-01  1.41087381e-01 -6.05193457e-02 -1.74475837e+00]\n",
      " [-4.28691594e-02 -3.63025516e+00 -9.22476799e-01  1.27349052e+00\n",
      "   1.59169244e-02  2.08962415e-01  7.20029089e-01  4.32213263e+00]]\n"
     ]
    }
   ],
   "source": [
    "from sklearn.linear_model import LogisticRegression\n",
    "\n",
    "df_val=pd.concat([dfCC,dfBL,dfSVD,dfSVDpp,dfNMF,dfKNNMovie,dfKNNUser,dfSO],axis=1)\n",
    "\n",
    "\n",
    "# model = LogisticRegression(multi_class='multinomial',solver ='newton-cg')\n",
    "model = LogisticRegression(multi_class='ovr')\n",
    "model.fit(df_val,y_val)\n",
    "print(\"Check classes:\",model.classes_)\n",
    "print(model.coef_)\n",
    "\n"
   ]
  },
  {
   "cell_type": "code",
   "execution_count": 180,
   "metadata": {},
   "outputs": [],
   "source": [
    "ids, preds = u.predict_on_models([algoCC, algoBL,algoSVD, algoSVDpp,algoNMF,algoKNNMovie,algoKNNUser,algoSO],model.coef_)\n",
    "u.create_csv_submission(ids, preds, \"submissionBlended6.csv\")"
   ]
  },
  {
   "cell_type": "code",
   "execution_count": 268,
   "metadata": {},
   "outputs": [
    {
     "ename": "KeyboardInterrupt",
     "evalue": "",
     "output_type": "error",
     "traceback": [
      "\u001b[0;31m---------------------------------------------------------------------------\u001b[0m",
      "\u001b[0;31mKeyboardInterrupt\u001b[0m                         Traceback (most recent call last)",
      "\u001b[0;32m<ipython-input-268-99aebed22c4e>\u001b[0m in \u001b[0;36m<module>\u001b[0;34m\u001b[0m\n\u001b[0;32m----> 1\u001b[0;31m \u001b[0mids\u001b[0m\u001b[0;34m,\u001b[0m \u001b[0mpreds\u001b[0m \u001b[0;34m=\u001b[0m \u001b[0mu\u001b[0m\u001b[0;34m.\u001b[0m\u001b[0mpredict_on_models2\u001b[0m\u001b[0;34m(\u001b[0m\u001b[0;34m[\u001b[0m\u001b[0malgoCC\u001b[0m\u001b[0;34m,\u001b[0m \u001b[0malgoBL\u001b[0m\u001b[0;34m,\u001b[0m\u001b[0malgoSVD\u001b[0m\u001b[0;34m,\u001b[0m \u001b[0malgoSVDpp\u001b[0m\u001b[0;34m,\u001b[0m\u001b[0malgoNMF\u001b[0m\u001b[0;34m,\u001b[0m\u001b[0malgoKNNMovie\u001b[0m\u001b[0;34m,\u001b[0m\u001b[0malgoKNNUser\u001b[0m\u001b[0;34m,\u001b[0m\u001b[0malgoSO\u001b[0m\u001b[0;34m]\u001b[0m\u001b[0;34m,\u001b[0m\u001b[0mmodel\u001b[0m\u001b[0;34m.\u001b[0m\u001b[0mcoef_\u001b[0m\u001b[0;34m)\u001b[0m\u001b[0;34m\u001b[0m\u001b[0;34m\u001b[0m\u001b[0m\n\u001b[0m\u001b[1;32m      2\u001b[0m \u001b[0mu\u001b[0m\u001b[0;34m.\u001b[0m\u001b[0mcreate_csv_submission\u001b[0m\u001b[0;34m(\u001b[0m\u001b[0mids\u001b[0m\u001b[0;34m,\u001b[0m \u001b[0mpreds\u001b[0m\u001b[0;34m,\u001b[0m \u001b[0;34m\"submissionBlendedOurs.csv\"\u001b[0m\u001b[0;34m)\u001b[0m\u001b[0;34m\u001b[0m\u001b[0;34m\u001b[0m\u001b[0m\n",
      "\u001b[0;32m~/Workspaces/Machine Leaning/ML-Project-2-EPFL/utils.py\u001b[0m in \u001b[0;36mpredict_on_models2\u001b[0;34m(models, weights)\u001b[0m\n\u001b[1;32m    139\u001b[0m \u001b[0;31m#                 print(\"m:\",m)\u001b[0m\u001b[0;34m\u001b[0m\u001b[0;34m\u001b[0m\u001b[0;34m\u001b[0m\u001b[0m\n\u001b[1;32m    140\u001b[0m \u001b[0;31m#                 print(\"w:\",w)\u001b[0m\u001b[0;34m\u001b[0m\u001b[0;34m\u001b[0m\u001b[0;34m\u001b[0m\u001b[0m\n\u001b[0;32m--> 141\u001b[0;31m                 \u001b[0mpred\u001b[0m \u001b[0;34m=\u001b[0m \u001b[0mpred\u001b[0m\u001b[0;34m+\u001b[0m\u001b[0mm\u001b[0m\u001b[0;34m.\u001b[0m\u001b[0mpredict\u001b[0m\u001b[0;34m(\u001b[0m\u001b[0muid\u001b[0m\u001b[0;34m,\u001b[0m\u001b[0miid\u001b[0m\u001b[0;34m)\u001b[0m\u001b[0;34m.\u001b[0m\u001b[0mest\u001b[0m\u001b[0;34m*\u001b[0m\u001b[0mw\u001b[0m\u001b[0;34m\u001b[0m\u001b[0;34m\u001b[0m\u001b[0m\n\u001b[0m\u001b[1;32m    142\u001b[0m \u001b[0;34m\u001b[0m\u001b[0m\n\u001b[1;32m    143\u001b[0m             \u001b[0mpred\u001b[0m \u001b[0;34m=\u001b[0m \u001b[0mnp\u001b[0m\u001b[0;34m.\u001b[0m\u001b[0mexp\u001b[0m\u001b[0;34m(\u001b[0m\u001b[0mpred\u001b[0m\u001b[0;34m)\u001b[0m \u001b[0;34m/\u001b[0m \u001b[0;34m(\u001b[0m\u001b[0;36m1\u001b[0m \u001b[0;34m+\u001b[0m \u001b[0mnp\u001b[0m\u001b[0;34m.\u001b[0m\u001b[0mexp\u001b[0m\u001b[0;34m(\u001b[0m\u001b[0mpred\u001b[0m\u001b[0;34m)\u001b[0m \u001b[0;34m)\u001b[0m\u001b[0;34m\u001b[0m\u001b[0;34m\u001b[0m\u001b[0m\n",
      "\u001b[0;32m//anaconda3/lib/python3.7/site-packages/surprise/prediction_algorithms/algo_base.py\u001b[0m in \u001b[0;36mpredict\u001b[0;34m(self, uid, iid, r_ui, clip, verbose)\u001b[0m\n\u001b[1;32m    103\u001b[0m         \u001b[0mdetails\u001b[0m \u001b[0;34m=\u001b[0m \u001b[0;34m{\u001b[0m\u001b[0;34m}\u001b[0m\u001b[0;34m\u001b[0m\u001b[0;34m\u001b[0m\u001b[0m\n\u001b[1;32m    104\u001b[0m         \u001b[0;32mtry\u001b[0m\u001b[0;34m:\u001b[0m\u001b[0;34m\u001b[0m\u001b[0;34m\u001b[0m\u001b[0m\n\u001b[0;32m--> 105\u001b[0;31m             \u001b[0mest\u001b[0m \u001b[0;34m=\u001b[0m \u001b[0mself\u001b[0m\u001b[0;34m.\u001b[0m\u001b[0mestimate\u001b[0m\u001b[0;34m(\u001b[0m\u001b[0miuid\u001b[0m\u001b[0;34m,\u001b[0m \u001b[0miiid\u001b[0m\u001b[0;34m)\u001b[0m\u001b[0;34m\u001b[0m\u001b[0;34m\u001b[0m\u001b[0m\n\u001b[0m\u001b[1;32m    106\u001b[0m \u001b[0;34m\u001b[0m\u001b[0m\n\u001b[1;32m    107\u001b[0m             \u001b[0;31m# If the details dict was also returned\u001b[0m\u001b[0;34m\u001b[0m\u001b[0;34m\u001b[0m\u001b[0;34m\u001b[0m\u001b[0m\n",
      "\u001b[0;32m//anaconda3/lib/python3.7/site-packages/surprise/prediction_algorithms/knns.py\u001b[0m in \u001b[0;36mestimate\u001b[0;34m(self, u, i)\u001b[0m\n\u001b[1;32m    108\u001b[0m         \u001b[0mx\u001b[0m\u001b[0;34m,\u001b[0m \u001b[0my\u001b[0m \u001b[0;34m=\u001b[0m \u001b[0mself\u001b[0m\u001b[0;34m.\u001b[0m\u001b[0mswitch\u001b[0m\u001b[0;34m(\u001b[0m\u001b[0mu\u001b[0m\u001b[0;34m,\u001b[0m \u001b[0mi\u001b[0m\u001b[0;34m)\u001b[0m\u001b[0;34m\u001b[0m\u001b[0;34m\u001b[0m\u001b[0m\n\u001b[1;32m    109\u001b[0m \u001b[0;34m\u001b[0m\u001b[0m\n\u001b[0;32m--> 110\u001b[0;31m         \u001b[0mneighbors\u001b[0m \u001b[0;34m=\u001b[0m \u001b[0;34m[\u001b[0m\u001b[0;34m(\u001b[0m\u001b[0mself\u001b[0m\u001b[0;34m.\u001b[0m\u001b[0msim\u001b[0m\u001b[0;34m[\u001b[0m\u001b[0mx\u001b[0m\u001b[0;34m,\u001b[0m \u001b[0mx2\u001b[0m\u001b[0;34m]\u001b[0m\u001b[0;34m,\u001b[0m \u001b[0mr\u001b[0m\u001b[0;34m)\u001b[0m \u001b[0;32mfor\u001b[0m \u001b[0;34m(\u001b[0m\u001b[0mx2\u001b[0m\u001b[0;34m,\u001b[0m \u001b[0mr\u001b[0m\u001b[0;34m)\u001b[0m \u001b[0;32min\u001b[0m \u001b[0mself\u001b[0m\u001b[0;34m.\u001b[0m\u001b[0myr\u001b[0m\u001b[0;34m[\u001b[0m\u001b[0my\u001b[0m\u001b[0;34m]\u001b[0m\u001b[0;34m]\u001b[0m\u001b[0;34m\u001b[0m\u001b[0;34m\u001b[0m\u001b[0m\n\u001b[0m\u001b[1;32m    111\u001b[0m         \u001b[0mk_neighbors\u001b[0m \u001b[0;34m=\u001b[0m \u001b[0mheapq\u001b[0m\u001b[0;34m.\u001b[0m\u001b[0mnlargest\u001b[0m\u001b[0;34m(\u001b[0m\u001b[0mself\u001b[0m\u001b[0;34m.\u001b[0m\u001b[0mk\u001b[0m\u001b[0;34m,\u001b[0m \u001b[0mneighbors\u001b[0m\u001b[0;34m,\u001b[0m \u001b[0mkey\u001b[0m\u001b[0;34m=\u001b[0m\u001b[0;32mlambda\u001b[0m \u001b[0mt\u001b[0m\u001b[0;34m:\u001b[0m \u001b[0mt\u001b[0m\u001b[0;34m[\u001b[0m\u001b[0;36m0\u001b[0m\u001b[0;34m]\u001b[0m\u001b[0;34m)\u001b[0m\u001b[0;34m\u001b[0m\u001b[0;34m\u001b[0m\u001b[0m\n\u001b[1;32m    112\u001b[0m \u001b[0;34m\u001b[0m\u001b[0m\n",
      "\u001b[0;32m//anaconda3/lib/python3.7/site-packages/surprise/prediction_algorithms/knns.py\u001b[0m in \u001b[0;36m<listcomp>\u001b[0;34m(.0)\u001b[0m\n\u001b[1;32m    108\u001b[0m         \u001b[0mx\u001b[0m\u001b[0;34m,\u001b[0m \u001b[0my\u001b[0m \u001b[0;34m=\u001b[0m \u001b[0mself\u001b[0m\u001b[0;34m.\u001b[0m\u001b[0mswitch\u001b[0m\u001b[0;34m(\u001b[0m\u001b[0mu\u001b[0m\u001b[0;34m,\u001b[0m \u001b[0mi\u001b[0m\u001b[0;34m)\u001b[0m\u001b[0;34m\u001b[0m\u001b[0;34m\u001b[0m\u001b[0m\n\u001b[1;32m    109\u001b[0m \u001b[0;34m\u001b[0m\u001b[0m\n\u001b[0;32m--> 110\u001b[0;31m         \u001b[0mneighbors\u001b[0m \u001b[0;34m=\u001b[0m \u001b[0;34m[\u001b[0m\u001b[0;34m(\u001b[0m\u001b[0mself\u001b[0m\u001b[0;34m.\u001b[0m\u001b[0msim\u001b[0m\u001b[0;34m[\u001b[0m\u001b[0mx\u001b[0m\u001b[0;34m,\u001b[0m \u001b[0mx2\u001b[0m\u001b[0;34m]\u001b[0m\u001b[0;34m,\u001b[0m \u001b[0mr\u001b[0m\u001b[0;34m)\u001b[0m \u001b[0;32mfor\u001b[0m \u001b[0;34m(\u001b[0m\u001b[0mx2\u001b[0m\u001b[0;34m,\u001b[0m \u001b[0mr\u001b[0m\u001b[0;34m)\u001b[0m \u001b[0;32min\u001b[0m \u001b[0mself\u001b[0m\u001b[0;34m.\u001b[0m\u001b[0myr\u001b[0m\u001b[0;34m[\u001b[0m\u001b[0my\u001b[0m\u001b[0;34m]\u001b[0m\u001b[0;34m]\u001b[0m\u001b[0;34m\u001b[0m\u001b[0;34m\u001b[0m\u001b[0m\n\u001b[0m\u001b[1;32m    111\u001b[0m         \u001b[0mk_neighbors\u001b[0m \u001b[0;34m=\u001b[0m \u001b[0mheapq\u001b[0m\u001b[0;34m.\u001b[0m\u001b[0mnlargest\u001b[0m\u001b[0;34m(\u001b[0m\u001b[0mself\u001b[0m\u001b[0;34m.\u001b[0m\u001b[0mk\u001b[0m\u001b[0;34m,\u001b[0m \u001b[0mneighbors\u001b[0m\u001b[0;34m,\u001b[0m \u001b[0mkey\u001b[0m\u001b[0;34m=\u001b[0m\u001b[0;32mlambda\u001b[0m \u001b[0mt\u001b[0m\u001b[0;34m:\u001b[0m \u001b[0mt\u001b[0m\u001b[0;34m[\u001b[0m\u001b[0;36m0\u001b[0m\u001b[0;34m]\u001b[0m\u001b[0;34m)\u001b[0m\u001b[0;34m\u001b[0m\u001b[0;34m\u001b[0m\u001b[0m\n\u001b[1;32m    112\u001b[0m \u001b[0;34m\u001b[0m\u001b[0m\n",
      "\u001b[0;31mKeyboardInterrupt\u001b[0m: "
     ]
    }
   ],
   "source": [
    "ids, preds = u.predict_on_models2([algoCC, algoBL,algoSVD, algoSVDpp,algoNMF,algoKNNMovie,algoKNNUser,algoSO],model.coef_)\n",
    "u.create_csv_submission(ids, preds, \"submissionBlendedOurs.csv\")"
   ]
  },
  {
   "cell_type": "markdown",
   "metadata": {},
   "source": [
    "## Blending with minimize"
   ]
  },
  {
   "cell_type": "code",
   "execution_count": 69,
   "metadata": {},
   "outputs": [],
   "source": [
    "def compute_mse(real_ratings, predictions):\n",
    "    \"\"\"\n",
    "    Computes the Mean Squared Error given the real and the predicted\n",
    "    ratings.\n",
    "    Args:\n",
    "        real_ratings: The actual ratings\n",
    "        predictions: Ratings predicted by some model\n",
    "    Returns:\n",
    "        mse: The Mean Squared Error value\n",
    "    \"\"\"\n",
    "    error_vector = real_ratings - predictions\n",
    "    return np.mean(error_vector ** 2)\n",
    "\n",
    "def compute_rmse(real_ratings, predictions):\n",
    "    \"\"\"\n",
    "    Computes the Root Mean Squared Error given the real and the\n",
    "    predicted ratings.\n",
    "    Args:\n",
    "        real_ratings: The actual ratings\n",
    "        predictions: Ratings predicted by some model\n",
    "    Returns:\n",
    "        rmse: The Root Mean Squared Error value\n",
    "    \"\"\"\n",
    "    rmse = np.sqrt(compute_mse(real_ratings, predictions))\n",
    "    return rmse"
   ]
  },
  {
   "cell_type": "code",
   "execution_count": 70,
   "metadata": {},
   "outputs": [],
   "source": [
    "models_predictions_on_test=[dfCC,dfBL,dfSVD,dfSVDpp,dfNMF,dfKNNMovie,dfKNNUser,dfSO,dfMFSGD,dfMFALS,dfBLGlobal,dfBLMovie, dfBLUser]\n",
    "weights=[1/len(models_predictions_on_test)]*len(models_predictions_on_test)"
   ]
  },
  {
   "cell_type": "code",
   "execution_count": 71,
   "metadata": {},
   "outputs": [],
   "source": [
    "def new_blending():\n",
    "    result = minimize(fun=objective_function,\n",
    "                          x0=weights,\n",
    "                          method='SLSQP')\n",
    "    print(result)\n",
    "    return result.x"
   ]
  },
  {
   "cell_type": "code",
   "execution_count": 72,
   "metadata": {},
   "outputs": [
    {
     "data": {
      "text/plain": [
       "[0.07692307692307693,\n",
       " 0.07692307692307693,\n",
       " 0.07692307692307693,\n",
       " 0.07692307692307693,\n",
       " 0.07692307692307693,\n",
       " 0.07692307692307693,\n",
       " 0.07692307692307693,\n",
       " 0.07692307692307693,\n",
       " 0.07692307692307693,\n",
       " 0.07692307692307693,\n",
       " 0.07692307692307693,\n",
       " 0.07692307692307693,\n",
       " 0.07692307692307693]"
      ]
     },
     "execution_count": 72,
     "metadata": {},
     "output_type": "execute_result"
    }
   ],
   "source": [
    "weights"
   ]
  },
  {
   "cell_type": "code",
   "execution_count": 75,
   "metadata": {},
   "outputs": [],
   "source": [
    "def objective_function(weights):\n",
    "        \"\"\"\n",
    "        Objective function to be optimized. The function is indeed the Root Mean \n",
    "        Squared Error of the weighted combination of prediction results of each model.\n",
    "        Args:\n",
    "            weights: A list containing the individual weights of each model\n",
    "        \"\"\"\n",
    "        mixed_models = 0\n",
    "        for i in range(len(models_predictions_on_test)):\n",
    "            mixed_models += weights[i] * models_predictions_on_test[i]\n",
    "        rmse = compute_rmse(df_label_blending_trainset, mixed_models)\n",
    "        return rmse"
   ]
  },
  {
   "cell_type": "code",
   "execution_count": 76,
   "metadata": {},
   "outputs": [
    {
     "name": "stdout",
     "output_type": "stream",
     "text": [
      "     fun: 0.9819054920014981\n",
      "     jac: array([-2.19844282e-04, -2.69554555e-04, -2.51546502e-04, -1.57713890e-04,\n",
      "       -2.74829566e-04,  2.82153487e-05, -2.46778131e-04, -2.58453190e-04,\n",
      "        4.24161553e-05, -3.33786011e-05, -9.71779227e-05,  3.73646617e-05,\n",
      "       -8.34167004e-05])\n",
      " message: 'Optimization terminated successfully.'\n",
      "    nfev: 602\n",
      "     nit: 40\n",
      "    njev: 40\n",
      "  status: 0\n",
      " success: True\n",
      "       x: array([-0.03708322, -0.06421525,  1.18694999, -0.46107232, -0.05491066,\n",
      "        0.23983376, -0.01308108,  0.29121978, -0.00720779,  0.00901246,\n",
      "       -0.08315719,  0.00300793, -0.00880348])\n"
     ]
    }
   ],
   "source": [
    "from scipy.optimize import minimize\n",
    "\n",
    "result=new_blending()"
   ]
  },
  {
   "cell_type": "code",
   "execution_count": 81,
   "metadata": {},
   "outputs": [],
   "source": [
    "surprise_weights = result[:8]\n",
    "model_weight = {'MFSGD' : result[8] , 'MFALS' :result[9], 'BLGlobal' :result[10],\n",
    "                'BLMovie' : result[11], 'BLUser' : result[12] }"
   ]
  },
  {
   "cell_type": "code",
   "execution_count": 86,
   "metadata": {},
   "outputs": [
    {
     "name": "stdout",
     "output_type": "stream",
     "text": [
      "10000\n",
      "20000\n",
      "30000\n",
      "40000\n",
      "50000\n",
      "60000\n",
      "70000\n",
      "80000\n",
      "90000\n",
      "100000\n",
      "110000\n",
      "120000\n",
      "130000\n",
      "140000\n",
      "150000\n",
      "160000\n",
      "170000\n",
      "180000\n",
      "190000\n",
      "200000\n",
      "210000\n",
      "220000\n",
      "230000\n",
      "240000\n",
      "250000\n",
      "260000\n",
      "270000\n",
      "280000\n",
      "290000\n",
      "300000\n",
      "310000\n",
      "320000\n",
      "330000\n",
      "340000\n",
      "350000\n",
      "360000\n",
      "370000\n",
      "380000\n",
      "390000\n",
      "400000\n",
      "410000\n",
      "420000\n",
      "430000\n",
      "440000\n",
      "450000\n",
      "460000\n",
      "470000\n",
      "480000\n",
      "490000\n",
      "500000\n",
      "510000\n",
      "520000\n",
      "530000\n",
      "540000\n",
      "550000\n",
      "560000\n",
      "570000\n",
      "580000\n",
      "590000\n",
      "600000\n",
      "610000\n",
      "620000\n",
      "630000\n",
      "640000\n",
      "650000\n",
      "660000\n",
      "670000\n",
      "680000\n",
      "690000\n",
      "700000\n",
      "710000\n",
      "720000\n",
      "730000\n",
      "740000\n",
      "750000\n",
      "760000\n",
      "770000\n",
      "780000\n",
      "790000\n",
      "800000\n",
      "810000\n",
      "820000\n",
      "830000\n",
      "840000\n",
      "850000\n",
      "860000\n",
      "870000\n",
      "880000\n",
      "890000\n",
      "900000\n",
      "910000\n",
      "920000\n",
      "930000\n",
      "940000\n",
      "950000\n",
      "960000\n",
      "970000\n",
      "980000\n",
      "990000\n",
      "1000000\n",
      "1010000\n",
      "1020000\n",
      "1030000\n",
      "1040000\n",
      "1050000\n",
      "1060000\n",
      "1070000\n",
      "1080000\n",
      "1090000\n",
      "1100000\n",
      "1110000\n",
      "1120000\n",
      "1130000\n",
      "1140000\n",
      "1150000\n",
      "1160000\n",
      "1170000\n"
     ]
    }
   ],
   "source": [
    "#1.026\n",
    "ids, preds=u.predict_on_models([algoCC, algoBL,algoSVD, algoSVDpp,algoNMF,algoKNNMovie,algoKNNUser,algoSO],\n",
    "                                 [user_sgd, movie_sgd],[user_als, movie_als],baseline_global,baseline_movie, baseline_user,\n",
    "                                 surprise_weights,model_weight)"
   ]
  },
  {
   "cell_type": "code",
   "execution_count": 89,
   "metadata": {},
   "outputs": [],
   "source": [
    "u.create_csv_submission(ids, preds, \"submissionBlendedMinimizenoFeatures.csv\")"
   ]
  },
  {
   "cell_type": "code",
   "execution_count": 427,
   "metadata": {},
   "outputs": [],
   "source": [
    "file_name = 'y_df.pk'\n",
    "df_y_val.to_pickle(file_name)  \n",
    "df = pd.read_pickle(file_name)"
   ]
  },
  {
   "cell_type": "code",
   "execution_count": null,
   "metadata": {},
   "outputs": [],
   "source": []
  }
 ],
 "metadata": {
  "kernelspec": {
   "display_name": "Python 3",
   "language": "python",
   "name": "python3"
  },
  "language_info": {
   "codemirror_mode": {
    "name": "ipython",
    "version": 3
   },
   "file_extension": ".py",
   "mimetype": "text/x-python",
   "name": "python",
   "nbconvert_exporter": "python",
   "pygments_lexer": "ipython3",
   "version": "3.7.4"
  }
 },
 "nbformat": 4,
 "nbformat_minor": 1
}
