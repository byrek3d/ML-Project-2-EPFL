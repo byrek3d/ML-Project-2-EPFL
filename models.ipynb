{
 "cells": [
  {
   "cell_type": "code",
   "execution_count": 15,
   "metadata": {},
   "outputs": [],
   "source": [
    "from surprise import BaselineOnly\n",
    "from surprise import accuracy\n",
    "from surprise import SlopeOne\n",
    "from surprise import SVD\n",
    "from surprise import KNNBasic"
   ]
  },
  {
   "cell_type": "code",
   "execution_count": 8,
   "metadata": {},
   "outputs": [],
   "source": [
    "def baseline(trainset, testset): \n",
    "    model = BaseLineOnly()\n",
    "    pred_train = model.fit_transform(trainset)\n",
    "    pred_test = model.transform(testset)\n",
    "    rmse = accuracy.rmse(pred_test)\n",
    "    return pred_train, pred_test, rmse"
   ]
  },
  {
   "cell_type": "code",
   "execution_count": 9,
   "metadata": {},
   "outputs": [],
   "source": [
    "def SlopeOne(trainset,testset):\n",
    "    model = SlopeOne()\n",
    "    pred_train = model.fit_transform(trainset)\n",
    "    pred_test = model.transform(testset)\n",
    "    rmse = accuracy.rmse(pred_test)\n",
    "    return pred_train, pred_test, rmse"
   ]
  },
  {
   "cell_type": "code",
   "execution_count": 12,
   "metadata": {},
   "outputs": [],
   "source": [
    "def SVD(trainset,testset,n_factors=20, n_epochs=40, lr_all=0.005, reg_all=0.02):\n",
    "    model = SVD(n_factors, n_epochs, lr_all, reg_all)\n",
    "    pred_train = model.fit_transform(trainset)\n",
    "    pred_test = model.transform(testset)\n",
    "    rmse = accuracy.rmse(pred_test)\n",
    "    return pred_train, pred_test, rmse"
   ]
  },
  {
   "cell_type": "code",
   "execution_count": 16,
   "metadata": {},
   "outputs": [],
   "source": [
    "def movie_knn(trainset, testset, fullset, labels, min_support=10, k=40):\n",
    "    model_parameters = {\n",
    "      'name': 'pearson',\n",
    "      'user_based': False,\n",
    "      'min_support': min_support  #minimum number of common use/item to be compared. \n",
    "    }\n",
    "    model = KNNBasic(k,sim_options=model_parameters)\n",
    "    pred_train = model.fit_transform(trainset)\n",
    "    pred_test = model.transform(testset)\n",
    "    rmse = accuracy.rmse(pred_test)\n",
    "    return pred_train, pred_test, rmse"
   ]
  },
  {
   "cell_type": "code",
   "execution_count": 20,
   "metadata": {},
   "outputs": [],
   "source": [
    "def user_knn(trainset, testset, fullset, labels, min_support=10, k=40):\n",
    "    model_parameters = {\n",
    "      'name': 'pearson',\n",
    "      'user_based': True,\n",
    "      'min_support': min_support  #minimum number of common use/item to be compared. \n",
    "    }\n",
    "    model = KNNBasic(k,sim_options=model_parameters)\n",
    "    pred_train = model.fit_transform(trainset)\n",
    "    pred_test = model.transform(testset)\n",
    "    rmse = accuracy.rmse(pred_test)\n",
    "    return pred_train, pred_test, rmse"
   ]
  },
  {
   "cell_type": "code",
   "execution_count": 21,
   "metadata": {},
   "outputs": [],
   "source": [
    "def co_clustering(trainset, testset, fullset, labels, n_clstr_usr=3, n_clstr_mv=3):\n",
    "    model = CoClustering(n_cltr_u=n_clstr_usr, n_cltr_i=n_clstr_mv)\n",
    "    pred_train = model.fit_transform(trainset)\n",
    "    pred_test = model.transform(testset)\n",
    "    rmse = accuracy.rmse(pred_test)\n",
    "    return pred_train, pred_test, rmse"
   ]
  },
  {
   "cell_type": "code",
   "execution_count": null,
   "metadata": {},
   "outputs": [],
   "source": []
  }
 ],
 "metadata": {
  "kernelspec": {
   "display_name": "Python 3",
   "language": "python",
   "name": "python3"
  },
  "language_info": {
   "codemirror_mode": {
    "name": "ipython",
    "version": 3
   },
   "file_extension": ".py",
   "mimetype": "text/x-python",
   "name": "python",
   "nbconvert_exporter": "python",
   "pygments_lexer": "ipython3",
   "version": "3.6.9"
  }
 },
 "nbformat": 4,
 "nbformat_minor": 2
}
