{
 "cells": [
  {
   "cell_type": "markdown",
   "metadata": {},
   "source": [
    "# This is the pipeline using only libraries"
   ]
  },
  {
   "cell_type": "code",
   "execution_count": 1,
   "metadata": {},
   "outputs": [],
   "source": [
    "# Useful starting lines\n",
    "%matplotlib inline\n",
    "\n",
    "import numpy as np\n",
    "import seaborn as sns \n",
    "import pandas as pd\n",
    "\n",
    "from scipy import sparse\n",
    "from scipy.sparse import csr_matrix\n",
    "\n",
    "import scipy\n",
    "import scipy.io\n",
    "import scipy.sparse as sp\n",
    "import matplotlib.pyplot as plt\n",
    "\n",
    "import models as m\n",
    "import utils as u\n",
    "\n",
    "from surprise.dataset import * \n",
    "from surprise.model_selection import train_test_split\n",
    "from surprise.model_selection import cross_validate\n",
    "from surprise.model_selection import KFold\n",
    "from surprise import accuracy\n",
    "from surprise.model_selection import GridSearchCV\n",
    "%load_ext autoreload\n",
    "%autoreload 2"
   ]
  },
  {
   "cell_type": "markdown",
   "metadata": {},
   "source": [
    "## Load data"
   ]
  },
  {
   "cell_type": "code",
   "execution_count": 2,
   "metadata": {},
   "outputs": [],
   "source": [
    "raw_data = pd.read_csv('data/data_train.csv', header=0, index_col=0, names=['Id', 'rating'])\n",
    "\n",
    "df = u.preprocess(raw_data).reset_index().drop(columns=['Id'])"
   ]
  },
  {
   "cell_type": "markdown",
   "metadata": {},
   "source": [
    "# Data Analysis"
   ]
  },
  {
   "cell_type": "code",
   "execution_count": 3,
   "metadata": {},
   "outputs": [
    {
     "data": {
      "text/html": [
       "<div>\n",
       "<style scoped>\n",
       "    .dataframe tbody tr th:only-of-type {\n",
       "        vertical-align: middle;\n",
       "    }\n",
       "\n",
       "    .dataframe tbody tr th {\n",
       "        vertical-align: top;\n",
       "    }\n",
       "\n",
       "    .dataframe thead th {\n",
       "        text-align: right;\n",
       "    }\n",
       "</style>\n",
       "<table border=\"1\" class=\"dataframe\">\n",
       "  <thead>\n",
       "    <tr style=\"text-align: right;\">\n",
       "      <th></th>\n",
       "      <th>rating</th>\n",
       "      <th>user</th>\n",
       "      <th>item</th>\n",
       "    </tr>\n",
       "  </thead>\n",
       "  <tbody>\n",
       "    <tr>\n",
       "      <th>count</th>\n",
       "      <td>1.048575e+06</td>\n",
       "      <td>1.048575e+06</td>\n",
       "      <td>1.048575e+06</td>\n",
       "    </tr>\n",
       "    <tr>\n",
       "      <th>mean</th>\n",
       "      <td>3.892523e+00</td>\n",
       "      <td>5.149863e+03</td>\n",
       "      <td>4.301103e+02</td>\n",
       "    </tr>\n",
       "    <tr>\n",
       "      <th>std</th>\n",
       "      <td>1.106656e+00</td>\n",
       "      <td>2.919123e+03</td>\n",
       "      <td>2.402626e+02</td>\n",
       "    </tr>\n",
       "    <tr>\n",
       "      <th>min</th>\n",
       "      <td>1.000000e+00</td>\n",
       "      <td>1.000000e+00</td>\n",
       "      <td>1.000000e+00</td>\n",
       "    </tr>\n",
       "    <tr>\n",
       "      <th>25%</th>\n",
       "      <td>3.000000e+00</td>\n",
       "      <td>2.604000e+03</td>\n",
       "      <td>2.160000e+02</td>\n",
       "    </tr>\n",
       "    <tr>\n",
       "      <th>50%</th>\n",
       "      <td>4.000000e+00</td>\n",
       "      <td>5.245000e+03</td>\n",
       "      <td>4.500000e+02</td>\n",
       "    </tr>\n",
       "    <tr>\n",
       "      <th>75%</th>\n",
       "      <td>5.000000e+00</td>\n",
       "      <td>7.736000e+03</td>\n",
       "      <td>6.400000e+02</td>\n",
       "    </tr>\n",
       "    <tr>\n",
       "      <th>max</th>\n",
       "      <td>5.000000e+00</td>\n",
       "      <td>1.000000e+04</td>\n",
       "      <td>8.340000e+02</td>\n",
       "    </tr>\n",
       "  </tbody>\n",
       "</table>\n",
       "</div>"
      ],
      "text/plain": [
       "             rating          user          item\n",
       "count  1.048575e+06  1.048575e+06  1.048575e+06\n",
       "mean   3.892523e+00  5.149863e+03  4.301103e+02\n",
       "std    1.106656e+00  2.919123e+03  2.402626e+02\n",
       "min    1.000000e+00  1.000000e+00  1.000000e+00\n",
       "25%    3.000000e+00  2.604000e+03  2.160000e+02\n",
       "50%    4.000000e+00  5.245000e+03  4.500000e+02\n",
       "75%    5.000000e+00  7.736000e+03  6.400000e+02\n",
       "max    5.000000e+00  1.000000e+04  8.340000e+02"
      ]
     },
     "execution_count": 3,
     "metadata": {},
     "output_type": "execute_result"
    }
   ],
   "source": [
    "df.describe()"
   ]
  },
  {
   "cell_type": "code",
   "execution_count": 4,
   "metadata": {},
   "outputs": [
    {
     "name": "stdout",
     "output_type": "stream",
     "text": [
      "Total data \n",
      "--------------------------------------------------\n",
      "\n",
      "Total no of ratings : 1048575\n",
      "Total No of Users   : 10000\n",
      "Total No of movies  : 834\n"
     ]
    }
   ],
   "source": [
    "print(\"Total data \")\n",
    "print(\"-\"*50)\n",
    "print(\"\\nTotal no of ratings :\",df.shape[0])\n",
    "print(\"Total No of Users   :\", len(np.unique(df.user)))\n",
    "print(\"Total No of movies  :\", len(np.unique(df.item)))"
   ]
  },
  {
   "cell_type": "code",
   "execution_count": 5,
   "metadata": {},
   "outputs": [
    {
     "data": {
      "text/html": [
       "<div>\n",
       "<style scoped>\n",
       "    .dataframe tbody tr th:only-of-type {\n",
       "        vertical-align: middle;\n",
       "    }\n",
       "\n",
       "    .dataframe tbody tr th {\n",
       "        vertical-align: top;\n",
       "    }\n",
       "\n",
       "    .dataframe thead th {\n",
       "        text-align: right;\n",
       "    }\n",
       "</style>\n",
       "<table border=\"1\" class=\"dataframe\">\n",
       "  <thead>\n",
       "    <tr style=\"text-align: right;\">\n",
       "      <th></th>\n",
       "      <th>rating</th>\n",
       "      <th>user</th>\n",
       "      <th>item</th>\n",
       "    </tr>\n",
       "  </thead>\n",
       "  <tbody>\n",
       "    <tr>\n",
       "      <th>0</th>\n",
       "      <td>4</td>\n",
       "      <td>44</td>\n",
       "      <td>1</td>\n",
       "    </tr>\n",
       "    <tr>\n",
       "      <th>1</th>\n",
       "      <td>3</td>\n",
       "      <td>61</td>\n",
       "      <td>1</td>\n",
       "    </tr>\n",
       "    <tr>\n",
       "      <th>2</th>\n",
       "      <td>4</td>\n",
       "      <td>67</td>\n",
       "      <td>1</td>\n",
       "    </tr>\n",
       "    <tr>\n",
       "      <th>3</th>\n",
       "      <td>3</td>\n",
       "      <td>72</td>\n",
       "      <td>1</td>\n",
       "    </tr>\n",
       "    <tr>\n",
       "      <th>4</th>\n",
       "      <td>5</td>\n",
       "      <td>86</td>\n",
       "      <td>1</td>\n",
       "    </tr>\n",
       "  </tbody>\n",
       "</table>\n",
       "</div>"
      ],
      "text/plain": [
       "   rating  user  item\n",
       "0       4    44     1\n",
       "1       3    61     1\n",
       "2       4    67     1\n",
       "3       3    72     1\n",
       "4       5    86     1"
      ]
     },
     "execution_count": 5,
     "metadata": {},
     "output_type": "execute_result"
    }
   ],
   "source": [
    "df.head()"
   ]
  },
  {
   "cell_type": "markdown",
   "metadata": {},
   "source": [
    "## Number of rating per user"
   ]
  },
  {
   "cell_type": "code",
   "execution_count": 6,
   "metadata": {},
   "outputs": [
    {
     "data": {
      "text/plain": [
       "count    10000.000000\n",
       "mean       104.857500\n",
       "std         59.048201\n",
       "min          2.000000\n",
       "25%         61.000000\n",
       "50%         94.000000\n",
       "75%        137.000000\n",
       "max        433.000000\n",
       "Name: rating, dtype: float64"
      ]
     },
     "execution_count": 6,
     "metadata": {},
     "output_type": "execute_result"
    }
   ],
   "source": [
    "number_of_rating_per_user = df.groupby(\"user\").count().rating.sort_values(ascending=False)\n",
    "number_of_rating_per_user.describe()"
   ]
  },
  {
   "cell_type": "code",
   "execution_count": 7,
   "metadata": {},
   "outputs": [
    {
     "data": {
      "image/png": "[encoded data removed]",
      "text/plain": [
       "<Figure size 1440x360 with 3 Axes>"
      ]
     },
     "metadata": {
      "needs_background": "light"
     },
     "output_type": "display_data"
    }
   ],
   "source": [
    "plt.figure(figsize=(20,5))\n",
    "\n",
    "plt.subplot(131)\n",
    "plt.plot(number_of_rating_per_user.values)\n",
    "plt.title('Distribution of the number of rating given')\n",
    "plt.xlabel('Number of ratings given')\n",
    "plt.ylabel('Number of users')\n",
    "\n",
    "plt.subplot(132)\n",
    "sns.kdeplot(number_of_rating_per_user, shade=True)\n",
    "plt.title('Distribution of the number of rating given')\n",
    "plt.xlabel('Number of ratings given')\n",
    "plt.ylabel('Proportion of users')\n",
    "\n",
    "plt.subplot(133)\n",
    "sns.kdeplot(number_of_rating_per_user, shade=True,cumulative=True,)\n",
    "plt.title('Cumulative Distribution of the number of rating given')\n",
    "plt.xlabel('Number of ratings given')\n",
    "plt.ylabel('Proportion of users')\n",
    "\n",
    "plt.show()"
   ]
  },
  {
   "cell_type": "markdown",
   "metadata": {},
   "source": [
    "##  Number of rating per movie"
   ]
  },
  {
   "cell_type": "code",
   "execution_count": 8,
   "metadata": {},
   "outputs": [
    {
     "data": {
      "text/plain": [
       "count     834.000000\n",
       "mean     1257.284173\n",
       "std       967.608495\n",
       "min        27.000000\n",
       "25%       528.000000\n",
       "50%       965.000000\n",
       "75%      1743.750000\n",
       "max      4590.000000\n",
       "Name: rating, dtype: float64"
      ]
     },
     "execution_count": 8,
     "metadata": {},
     "output_type": "execute_result"
    }
   ],
   "source": [
    "number_of_rating_per_movie = df.groupby(\"item\").count().rating.sort_values(ascending=False)\n",
    "number_of_rating_per_movie.describe()"
   ]
  },
  {
   "cell_type": "code",
   "execution_count": 9,
   "metadata": {},
   "outputs": [
    {
     "data": {
      "image/png": "[encoded data removed]",
      "text/plain": [
       "<Figure size 1440x360 with 3 Axes>"
      ]
     },
     "metadata": {
      "needs_background": "light"
     },
     "output_type": "display_data"
    }
   ],
   "source": [
    "plt.figure(figsize=(20,5))\n",
    "\n",
    "plt.subplot(131)\n",
    "plt.plot(number_of_rating_per_movie.values);\n",
    "plt.title('Distribution of the number of rating given')\n",
    "plt.xlabel('Number of ratings given')\n",
    "plt.ylabel('Number of movies')\n",
    "\n",
    "plt.subplot(132)\n",
    "sns.kdeplot(number_of_rating_per_movie, shade=True)\n",
    "plt.title('Distribution of the number of rating given')\n",
    "plt.xlabel('Number of ratings given')\n",
    "plt.ylabel('Proportion of movies')\n",
    "\n",
    "plt.subplot(133)\n",
    "sns.kdeplot(number_of_rating_per_movie, shade=True,cumulative=True,)\n",
    "plt.title('Cumulative Distribution of the number of rating given')\n",
    "plt.xlabel('Number of ratings given')\n",
    "plt.ylabel('Proportion of movies')\n",
    "\n",
    "plt.show()"
   ]
  },
  {
   "cell_type": "code",
   "execution_count": 10,
   "metadata": {},
   "outputs": [
    {
     "data": {
      "text/plain": [
       "Text(0,0.5,'Number of rating')"
      ]
     },
     "execution_count": 10,
     "metadata": {},
     "output_type": "execute_result"
    },
    {
     "data": {
      "image/png": "[encoded data removed]",
      "text/plain": [
       "<Figure size 432x288 with 1 Axes>"
      ]
     },
     "metadata": {
      "needs_background": "light"
     },
     "output_type": "display_data"
    }
   ],
   "source": [
    "df.groupby('rating').count().user.plot.bar()\n",
    "plt.title('Distribution of rating')\n",
    "plt.xlabel('Rating')\n",
    "plt.ylabel('Number of rating')"
   ]
  },
  {
   "cell_type": "markdown",
   "metadata": {},
   "source": [
    "## Sparse Matrix "
   ]
  },
  {
   "cell_type": "code",
   "execution_count": 11,
   "metadata": {},
   "outputs": [
    {
     "name": "stdout",
     "output_type": "stream",
     "text": [
      "Matrix shape is : (user, movie) :  (10000, 834)\n"
     ]
    }
   ],
   "source": [
    "sparse_matrix = sparse.csr_matrix((df.rating.values, (df.user.values-1 ,df.item.values-1)))\n",
    "print('Matrix shape is : (user, movie) : ',sparse_matrix.shape)"
   ]
  },
  {
   "cell_type": "markdown",
   "metadata": {},
   "source": [
    "Put -1 because we have movie and user numbers start at 1 and not 0 "
   ]
  },
  {
   "cell_type": "code",
   "execution_count": 12,
   "metadata": {},
   "outputs": [
    {
     "name": "stdout",
     "output_type": "stream",
     "text": [
      "Sparsity Of Train matrix : 87.4271582733813 % \n"
     ]
    }
   ],
   "source": [
    "users, movies = sparse_matrix.shape\n",
    "elem = sparse_matrix.count_nonzero()\n",
    "\n",
    "print(\"Sparsity Of Train matrix : {0} % \".format((1 - (elem / (users * movies))) * 100))"
   ]
  },
  {
   "cell_type": "markdown",
   "metadata": {},
   "source": [
    "## Rating's averages"
   ]
  },
  {
   "cell_type": "markdown",
   "metadata": {},
   "source": [
    "### Rating's average over all data"
   ]
  },
  {
   "cell_type": "code",
   "execution_count": 13,
   "metadata": {},
   "outputs": [
    {
     "name": "stdout",
     "output_type": "stream",
     "text": [
      "The average rating over all movies is : 3.892522709391317 \n"
     ]
    }
   ],
   "source": [
    "global_average = sparse_matrix.sum() / sparse_matrix.count_nonzero()\n",
    "print(\"The average rating over all movies is : {0} \".format(global_average) )"
   ]
  },
  {
   "cell_type": "markdown",
   "metadata": {},
   "source": [
    "### Rating's average per user"
   ]
  },
  {
   "cell_type": "code",
   "execution_count": 14,
   "metadata": {},
   "outputs": [],
   "source": [
    "user_mean = []   #contains the mean rating for user i at index i\n",
    "\n",
    "for user_index in range(users):\n",
    "    \n",
    "        # find the non-zero ratings for each user in the dataset\n",
    "        ratings = sparse_matrix[user_index, :]\n",
    "        nonzeros_ratings = ratings[ratings.nonzero()]\n",
    "        \n",
    "        # calculate the mean if the number of elements is not 0\n",
    "        if nonzeros_ratings.shape[1] != 0:\n",
    "            user_mean.append(nonzeros_ratings.mean())\n",
    "        else:\n",
    "            user_mean.append(0)"
   ]
  },
  {
   "cell_type": "code",
   "execution_count": 15,
   "metadata": {},
   "outputs": [
    {
     "data": {
      "image/png": "[encoded data removed]",
      "text/plain": [
       "<Figure size 432x288 with 1 Axes>"
      ]
     },
     "metadata": {
      "needs_background": "light"
     },
     "output_type": "display_data"
    }
   ],
   "source": [
    "plt.figure()\n",
    "\n",
    "sns.distplot(user_mean, hist=False,label='Pdf')\n",
    "sns.distplot(user_mean,hist=False, kde_kws=dict(cumulative=True), label='Cdf')\n",
    "\n",
    "plt.title(\"Distribution of the rating's average per user \")\n",
    "plt.xlabel('Ratings')\n",
    "plt.ylabel('Distribution')\n",
    "\n",
    "plt.show()"
   ]
  },
  {
   "cell_type": "markdown",
   "metadata": {},
   "source": [
    "### Rating's average per movie"
   ]
  },
  {
   "cell_type": "code",
   "execution_count": 16,
   "metadata": {},
   "outputs": [],
   "source": [
    "movie_mean = []   #contains the mean rating for movie j at index j\n",
    "\n",
    "for movie_index in range(movies):\n",
    "    \n",
    "        # find the non-zero ratings for each user in the dataset\n",
    "        ratings = sparse_matrix[:, movie_index]\n",
    "        nonzeros_ratings = ratings[ratings.nonzero()]\n",
    "        \n",
    "        # calculate the mean if the number of elements is not 0\n",
    "        if nonzeros_ratings.shape[1] != 0:\n",
    "            movie_mean.append(nonzeros_ratings.mean())\n",
    "        else:\n",
    "            movie_mean.append(0)"
   ]
  },
  {
   "cell_type": "code",
   "execution_count": 17,
   "metadata": {
    "scrolled": true
   },
   "outputs": [
    {
     "data": {
      "image/png": "[encoded data removed]",
      "text/plain": [
       "<Figure size 432x288 with 1 Axes>"
      ]
     },
     "metadata": {
      "needs_background": "light"
     },
     "output_type": "display_data"
    }
   ],
   "source": [
    "plt.figure()\n",
    "\n",
    "sns.distplot(movie_mean, hist=False,label='Pdf')\n",
    "sns.distplot(movie_mean,hist=False, kde_kws=dict(cumulative=True), label='Cdf')\n",
    "\n",
    "plt.title(\"Distribution of the rating's average per movie\")\n",
    "plt.xlabel('Ratings')\n",
    "plt.ylabel('Distribution')\n",
    "\n",
    "plt.show()"
   ]
  },
  {
   "cell_type": "markdown",
   "metadata": {},
   "source": [
    "### Similarity Matrix "
   ]
  },
  {
   "cell_type": "code",
   "execution_count": 63,
   "metadata": {},
   "outputs": [],
   "source": [
    "from sklearn.metrics.pairwise import cosine_similarity\n",
    "\n",
    "# get the indices of  non zero rows(users) from our sparse matrix\n",
    "row_ind, col_ind = sparse_matrix.nonzero()\n",
    "\n",
    "row_ind = sorted(set(row_ind))   #to have unique values and sorted if needed  \n",
    "col_ind = sorted(set(col_ind))"
   ]
  },
  {
   "cell_type": "code",
   "execution_count": 64,
   "metadata": {},
   "outputs": [
    {
     "data": {
      "text/plain": [
       "834"
      ]
     },
     "execution_count": 64,
     "metadata": {},
     "output_type": "execute_result"
    }
   ],
   "source": [
    "len(col_ind)"
   ]
  },
  {
   "cell_type": "markdown",
   "metadata": {},
   "source": [
    "#### User-User similarity "
   ]
  },
  {
   "cell_type": "code",
   "execution_count": 25,
   "metadata": {},
   "outputs": [
    {
     "name": "stdout",
     "output_type": "stream",
     "text": [
      "Computing top 5 similarities for each user\n"
     ]
    }
   ],
   "source": [
    "top = 5 \n",
    "print(\"Computing top\",top,\"similarities for each user\")"
   ]
  },
  {
   "cell_type": "code",
   "execution_count": 41,
   "metadata": {},
   "outputs": [
    {
     "name": "stdout",
     "output_type": "stream",
     "text": [
      "0\n",
      "1000\n",
      "2000\n",
      "3000\n",
      "4000\n",
      "5000\n",
      "6000\n",
      "7000\n",
      "8000\n",
      "9000\n",
      "Saving it to disk without the need of re-computing it again.. \n",
      "Done..\n"
     ]
    }
   ],
   "source": [
    "user_simil_matrix = []\n",
    "\n",
    "for row in row_ind: \n",
    "    if (row % 1000 == 0):   #to observe the progression as I wait...\n",
    "        print(row)\n",
    "        \n",
    "    # get the similarity row for this user with all other users\n",
    "    simil = cosine_similarity(sparse_matrix.getrow(row), sparse_matrix).ravel()\n",
    "    \n",
    "    # get the index of the top 5 \n",
    "    top_users = np.argsort((simil))[::-1][1:top+1]\n",
    "    user_simil_matrix.append(top_users)\n",
    "print(\"Saving it to disk without the need of re-computing it again.. \")\n",
    "np.savetxt(\"sim_matrix_user_user.txt\", user_simil_matrix)\n",
    "print(\"Done..\")"
   ]
  },
  {
   "cell_type": "code",
   "execution_count": 123,
   "metadata": {},
   "outputs": [
    {
     "data": {
      "text/plain": [
       "array([[8744., 2649., 2908., 8962., 8367.],\n",
       "       [7207., 1230., 6780., 2928., 5532.],\n",
       "       [ 842., 6061., 9924., 1555., 7928.],\n",
       "       ...,\n",
       "       [1448., 2774., 1679., 2657., 8170.],\n",
       "       [5108., 7253., 3210., 3022., 8945.],\n",
       "       [6615.,  867., 3465., 3809., 1548.]])"
      ]
     },
     "execution_count": 123,
     "metadata": {},
     "output_type": "execute_result"
    }
   ],
   "source": [
    "user_simil_matrix= np.loadtxt(\"sim_matrix_user_user.txt\")\n",
    "user_simil_matrix"
   ]
  },
  {
   "cell_type": "markdown",
   "metadata": {},
   "source": [
    "#### Movie-Movie similarity"
   ]
  },
  {
   "cell_type": "code",
   "execution_count": null,
   "metadata": {},
   "outputs": [],
   "source": [
    "top = 5 \n",
    "print(\"Computing top\",top,\"similarities for each movie\")"
   ]
  },
  {
   "cell_type": "code",
   "execution_count": 60,
   "metadata": {},
   "outputs": [],
   "source": [
    "movie_simil_matrix = cosine_similarity(sparse_matrix.T, dense_output=False)  #if no y's it's pairwise sim  between the row that are movie"
   ]
  },
  {
   "cell_type": "code",
   "execution_count": 94,
   "metadata": {},
   "outputs": [
    {
     "name": "stdout",
     "output_type": "stream",
     "text": [
      "0\n",
      "100\n",
      "200\n",
      "300\n",
      "400\n",
      "500\n",
      "600\n",
      "700\n",
      "800\n",
      "Saving it to disk without the need of re-computing it again.. \n",
      "Done..\n"
     ]
    }
   ],
   "source": [
    "movie_simil_matrix = []\n",
    "\n",
    "for col in col_ind: \n",
    "    if (col % 100 == 0):   #to observe the progression as I wait...\n",
    "        print(col)\n",
    "    \n",
    "    # get the similarity col for this movie with all other movies\n",
    "    simil = cosine_similarity(sparse_matrix.getcol(col).T, sparse_matrix.T).ravel()\n",
    "    # get the index of the top 5 \n",
    "    top_movies = np.argsort((simil))[::-1][1:top+1]\n",
    "    movie_simil_matrix.append(top_movies)\n",
    "\n",
    "print(\"Saving it to disk without the need of re-computing it again.. \")\n",
    "np.savetxt(\"sim_matrix_movie_movie.txt\", movie_simil_matrix)\n",
    "print(\"Done..\")"
   ]
  },
  {
   "cell_type": "code",
   "execution_count": 95,
   "metadata": {},
   "outputs": [
    {
     "data": {
      "text/plain": [
       "array([[ 52., 801., 336.,  76., 198.],\n",
       "       [484., 535., 807., 659., 173.],\n",
       "       [105., 699., 750., 790., 439.],\n",
       "       ...,\n",
       "       [705., 809.,  13., 546., 349.],\n",
       "       [457., 256.,  13., 349.,  59.],\n",
       "       [705., 155., 778., 496., 133.]])"
      ]
     },
     "execution_count": 95,
     "metadata": {},
     "output_type": "execute_result"
    }
   ],
   "source": [
    "movie_simil_matrix =  np.loadtxt(\"sim_matrix_movie_movie.txt\")\n",
    "movie_simil_matrix"
   ]
  },
  {
   "cell_type": "markdown",
   "metadata": {},
   "source": [
    "### Featurizing data"
   ]
  },
  {
   "cell_type": "markdown",
   "metadata": {},
   "source": [
    "GAvg : Average rating of all the ratings\n",
    "    \n",
    "Similar users rating of this movie:\n",
    "sur1, sur2, sur3, sur4, sur5 ( top 5 similar users who rated that movie.. )\n",
    "\n",
    "Similar movies rated by this user:\n",
    "smr1, smr2, smr3, smr4, smr5 ( top 5 similar movies rated by this movie.. )\n",
    "\n",
    "UAvg : User's Average rating\n",
    "    \n",
    "MAvg : Average rating of this movie\n",
    "    \n",
    "rating : Rating of this movie by this user."
   ]
  },
  {
   "cell_type": "code",
   "execution_count": 238,
   "metadata": {},
   "outputs": [],
   "source": [
    "row_ind, col_ind = sparse_matrix.nonzero()"
   ]
  },
  {
   "cell_type": "code",
   "execution_count": 342,
   "metadata": {},
   "outputs": [],
   "source": [
    "df_featured_data = pd.DataFrame({'User': row_ind, 'Movie' : col_ind, 'Grade' : sparse_matrix.data, 'Global_Average' : global_average })"
   ]
  },
  {
   "cell_type": "code",
   "execution_count": 343,
   "metadata": {},
   "outputs": [
    {
     "data": {
      "text/html": [
       "<div>\n",
       "<style scoped>\n",
       "    .dataframe tbody tr th:only-of-type {\n",
       "        vertical-align: middle;\n",
       "    }\n",
       "\n",
       "    .dataframe tbody tr th {\n",
       "        vertical-align: top;\n",
       "    }\n",
       "\n",
       "    .dataframe thead th {\n",
       "        text-align: right;\n",
       "    }\n",
       "</style>\n",
       "<table border=\"1\" class=\"dataframe\">\n",
       "  <thead>\n",
       "    <tr style=\"text-align: right;\">\n",
       "      <th></th>\n",
       "      <th>User</th>\n",
       "      <th>Movie</th>\n",
       "      <th>Grade</th>\n",
       "      <th>Global_Average</th>\n",
       "    </tr>\n",
       "  </thead>\n",
       "  <tbody>\n",
       "    <tr>\n",
       "      <th>0</th>\n",
       "      <td>0</td>\n",
       "      <td>9</td>\n",
       "      <td>5</td>\n",
       "      <td>3.892523</td>\n",
       "    </tr>\n",
       "    <tr>\n",
       "      <th>1</th>\n",
       "      <td>0</td>\n",
       "      <td>60</td>\n",
       "      <td>5</td>\n",
       "      <td>3.892523</td>\n",
       "    </tr>\n",
       "    <tr>\n",
       "      <th>2</th>\n",
       "      <td>0</td>\n",
       "      <td>67</td>\n",
       "      <td>4</td>\n",
       "      <td>3.892523</td>\n",
       "    </tr>\n",
       "    <tr>\n",
       "      <th>3</th>\n",
       "      <td>0</td>\n",
       "      <td>83</td>\n",
       "      <td>4</td>\n",
       "      <td>3.892523</td>\n",
       "    </tr>\n",
       "    <tr>\n",
       "      <th>4</th>\n",
       "      <td>0</td>\n",
       "      <td>205</td>\n",
       "      <td>2</td>\n",
       "      <td>3.892523</td>\n",
       "    </tr>\n",
       "  </tbody>\n",
       "</table>\n",
       "</div>"
      ],
      "text/plain": [
       "   User  Movie  Grade  Global_Average\n",
       "0     0      9      5        3.892523\n",
       "1     0     60      5        3.892523\n",
       "2     0     67      4        3.892523\n",
       "3     0     83      4        3.892523\n",
       "4     0    205      2        3.892523"
      ]
     },
     "execution_count": 343,
     "metadata": {},
     "output_type": "execute_result"
    }
   ],
   "source": [
    "df_featured_data.head()"
   ]
  },
  {
   "cell_type": "code",
   "execution_count": 344,
   "metadata": {},
   "outputs": [],
   "source": [
    "df_featured_data['User_Average'] = df_featured_data['User'].map(lambda x: user_mean[x])\n",
    "df_featured_data['Movie_Average'] = df_featured_data['Movie'].map(lambda x: movie_mean[x])"
   ]
  },
  {
   "cell_type": "code",
   "execution_count": 346,
   "metadata": {},
   "outputs": [
    {
     "data": {
      "text/html": [
       "<div>\n",
       "<style scoped>\n",
       "    .dataframe tbody tr th:only-of-type {\n",
       "        vertical-align: middle;\n",
       "    }\n",
       "\n",
       "    .dataframe tbody tr th {\n",
       "        vertical-align: top;\n",
       "    }\n",
       "\n",
       "    .dataframe thead th {\n",
       "        text-align: right;\n",
       "    }\n",
       "</style>\n",
       "<table border=\"1\" class=\"dataframe\">\n",
       "  <thead>\n",
       "    <tr style=\"text-align: right;\">\n",
       "      <th></th>\n",
       "      <th>User</th>\n",
       "      <th>Movie</th>\n",
       "      <th>Grade</th>\n",
       "      <th>Global_Average</th>\n",
       "      <th>User_Average</th>\n",
       "      <th>Movie_Average</th>\n",
       "    </tr>\n",
       "  </thead>\n",
       "  <tbody>\n",
       "    <tr>\n",
       "      <th>0</th>\n",
       "      <td>0</td>\n",
       "      <td>9</td>\n",
       "      <td>5</td>\n",
       "      <td>3.892523</td>\n",
       "      <td>4.2</td>\n",
       "      <td>3.646072</td>\n",
       "    </tr>\n",
       "    <tr>\n",
       "      <th>1</th>\n",
       "      <td>0</td>\n",
       "      <td>60</td>\n",
       "      <td>5</td>\n",
       "      <td>3.892523</td>\n",
       "      <td>4.2</td>\n",
       "      <td>3.884834</td>\n",
       "    </tr>\n",
       "    <tr>\n",
       "      <th>2</th>\n",
       "      <td>0</td>\n",
       "      <td>67</td>\n",
       "      <td>4</td>\n",
       "      <td>3.892523</td>\n",
       "      <td>4.2</td>\n",
       "      <td>3.505051</td>\n",
       "    </tr>\n",
       "    <tr>\n",
       "      <th>3</th>\n",
       "      <td>0</td>\n",
       "      <td>83</td>\n",
       "      <td>4</td>\n",
       "      <td>3.892523</td>\n",
       "      <td>4.2</td>\n",
       "      <td>4.175318</td>\n",
       "    </tr>\n",
       "    <tr>\n",
       "      <th>4</th>\n",
       "      <td>0</td>\n",
       "      <td>205</td>\n",
       "      <td>2</td>\n",
       "      <td>3.892523</td>\n",
       "      <td>4.2</td>\n",
       "      <td>3.974499</td>\n",
       "    </tr>\n",
       "  </tbody>\n",
       "</table>\n",
       "</div>"
      ],
      "text/plain": [
       "   User  Movie  Grade  Global_Average  User_Average  Movie_Average\n",
       "0     0      9      5        3.892523           4.2       3.646072\n",
       "1     0     60      5        3.892523           4.2       3.884834\n",
       "2     0     67      4        3.892523           4.2       3.505051\n",
       "3     0     83      4        3.892523           4.2       4.175318\n",
       "4     0    205      2        3.892523           4.2       3.974499"
      ]
     },
     "execution_count": 346,
     "metadata": {},
     "output_type": "execute_result"
    }
   ],
   "source": [
    "df_featured_data.head()"
   ]
  },
  {
   "cell_type": "markdown",
   "metadata": {},
   "source": [
    "Get the indices of the similar users"
   ]
  },
  {
   "cell_type": "code",
   "execution_count": 347,
   "metadata": {},
   "outputs": [],
   "source": [
    "df_featured_data['SimUser1'] = df_featured_data['User'].map(lambda x: int(user_simil_matrix[x][0]))\n",
    "df_featured_data['SimUser2'] = df_featured_data['User'].map(lambda x: int(user_simil_matrix[x][1]))\n",
    "df_featured_data['SimUser3'] = df_featured_data['User'].map(lambda x: int(user_simil_matrix[x][2]))\n",
    "df_featured_data['SimUser4'] = df_featured_data['User'].map(lambda x: int(user_simil_matrix[x][3]))\n",
    "df_featured_data['SimUser5'] = df_featured_data['User'].map(lambda x: int(user_simil_matrix[x][4]))"
   ]
  },
  {
   "cell_type": "code",
   "execution_count": 489,
   "metadata": {},
   "outputs": [
    {
     "data": {
      "text/html": [
       "<div>\n",
       "<style scoped>\n",
       "    .dataframe tbody tr th:only-of-type {\n",
       "        vertical-align: middle;\n",
       "    }\n",
       "\n",
       "    .dataframe tbody tr th {\n",
       "        vertical-align: top;\n",
       "    }\n",
       "\n",
       "    .dataframe thead th {\n",
       "        text-align: right;\n",
       "    }\n",
       "</style>\n",
       "<table border=\"1\" class=\"dataframe\">\n",
       "  <thead>\n",
       "    <tr style=\"text-align: right;\">\n",
       "      <th></th>\n",
       "      <th>User</th>\n",
       "      <th>Movie</th>\n",
       "      <th>Grade</th>\n",
       "      <th>Global_Average</th>\n",
       "      <th>User_Average</th>\n",
       "      <th>Movie_Average</th>\n",
       "      <th>SimUser1</th>\n",
       "      <th>SimUser2</th>\n",
       "      <th>SimUser3</th>\n",
       "      <th>SimUser4</th>\n",
       "      <th>SimUser5</th>\n",
       "      <th>SimMovie1</th>\n",
       "      <th>SimMovie2</th>\n",
       "      <th>SimMovie3</th>\n",
       "      <th>SimMovie4</th>\n",
       "      <th>SimMovie5</th>\n",
       "    </tr>\n",
       "  </thead>\n",
       "  <tbody>\n",
       "    <tr>\n",
       "      <th>0</th>\n",
       "      <td>0</td>\n",
       "      <td>9</td>\n",
       "      <td>5</td>\n",
       "      <td>3.892523</td>\n",
       "      <td>4.2</td>\n",
       "      <td>3.646072</td>\n",
       "      <td>8744</td>\n",
       "      <td>2649</td>\n",
       "      <td>2908</td>\n",
       "      <td>8962</td>\n",
       "      <td>8367</td>\n",
       "      <td>4.668212</td>\n",
       "      <td>4.682770</td>\n",
       "      <td>4.639421</td>\n",
       "      <td>4.446219</td>\n",
       "      <td>5.000000</td>\n",
       "    </tr>\n",
       "    <tr>\n",
       "      <th>1</th>\n",
       "      <td>0</td>\n",
       "      <td>60</td>\n",
       "      <td>5</td>\n",
       "      <td>3.892523</td>\n",
       "      <td>4.2</td>\n",
       "      <td>3.884834</td>\n",
       "      <td>8744</td>\n",
       "      <td>2649</td>\n",
       "      <td>2908</td>\n",
       "      <td>8962</td>\n",
       "      <td>8367</td>\n",
       "      <td>4.682035</td>\n",
       "      <td>5.000000</td>\n",
       "      <td>4.726254</td>\n",
       "      <td>4.354707</td>\n",
       "      <td>4.424486</td>\n",
       "    </tr>\n",
       "    <tr>\n",
       "      <th>2</th>\n",
       "      <td>0</td>\n",
       "      <td>67</td>\n",
       "      <td>4</td>\n",
       "      <td>3.892523</td>\n",
       "      <td>4.2</td>\n",
       "      <td>3.505051</td>\n",
       "      <td>8744</td>\n",
       "      <td>2649</td>\n",
       "      <td>2908</td>\n",
       "      <td>8962</td>\n",
       "      <td>8367</td>\n",
       "      <td>4.561553</td>\n",
       "      <td>4.668212</td>\n",
       "      <td>4.125744</td>\n",
       "      <td>3.953674</td>\n",
       "      <td>4.448840</td>\n",
       "    </tr>\n",
       "    <tr>\n",
       "      <th>3</th>\n",
       "      <td>0</td>\n",
       "      <td>83</td>\n",
       "      <td>4</td>\n",
       "      <td>3.892523</td>\n",
       "      <td>4.2</td>\n",
       "      <td>4.175318</td>\n",
       "      <td>8744</td>\n",
       "      <td>2649</td>\n",
       "      <td>2908</td>\n",
       "      <td>8962</td>\n",
       "      <td>8367</td>\n",
       "      <td>4.048102</td>\n",
       "      <td>4.358686</td>\n",
       "      <td>4.486889</td>\n",
       "      <td>4.239246</td>\n",
       "      <td>4.561553</td>\n",
       "    </tr>\n",
       "    <tr>\n",
       "      <th>4</th>\n",
       "      <td>0</td>\n",
       "      <td>205</td>\n",
       "      <td>2</td>\n",
       "      <td>3.892523</td>\n",
       "      <td>4.2</td>\n",
       "      <td>3.974499</td>\n",
       "      <td>8744</td>\n",
       "      <td>2649</td>\n",
       "      <td>2908</td>\n",
       "      <td>8962</td>\n",
       "      <td>8367</td>\n",
       "      <td>4.668212</td>\n",
       "      <td>4.345068</td>\n",
       "      <td>4.493464</td>\n",
       "      <td>4.365132</td>\n",
       "      <td>4.561553</td>\n",
       "    </tr>\n",
       "  </tbody>\n",
       "</table>\n",
       "</div>"
      ],
      "text/plain": [
       "   User  Movie  Grade  Global_Average  User_Average  Movie_Average  SimUser1  \\\n",
       "0     0      9      5        3.892523           4.2       3.646072      8744   \n",
       "1     0     60      5        3.892523           4.2       3.884834      8744   \n",
       "2     0     67      4        3.892523           4.2       3.505051      8744   \n",
       "3     0     83      4        3.892523           4.2       4.175318      8744   \n",
       "4     0    205      2        3.892523           4.2       3.974499      8744   \n",
       "\n",
       "   SimUser2  SimUser3  SimUser4  SimUser5  SimMovie1  SimMovie2  SimMovie3  \\\n",
       "0      2649      2908      8962      8367   4.668212   4.682770   4.639421   \n",
       "1      2649      2908      8962      8367   4.682035   5.000000   4.726254   \n",
       "2      2649      2908      8962      8367   4.561553   4.668212   4.125744   \n",
       "3      2649      2908      8962      8367   4.048102   4.358686   4.486889   \n",
       "4      2649      2908      8962      8367   4.668212   4.345068   4.493464   \n",
       "\n",
       "   SimMovie4  SimMovie5  \n",
       "0   4.446219   5.000000  \n",
       "1   4.354707   4.424486  \n",
       "2   3.953674   4.448840  \n",
       "3   4.239246   4.561553  \n",
       "4   4.365132   4.561553  "
      ]
     },
     "execution_count": 489,
     "metadata": {},
     "output_type": "execute_result"
    }
   ],
   "source": [
    "df_featured_data.head()"
   ]
  },
  {
   "cell_type": "markdown",
   "metadata": {},
   "source": [
    "For each similar user need to find the rating that he put for that movie if not available put the average rating of that user as an estimator. "
   ]
  },
  {
   "cell_type": "code",
   "execution_count": 490,
   "metadata": {},
   "outputs": [],
   "source": [
    "def Userfunction1(row):\n",
    "    if(sparse_matrix[row['SimUser1'],row['Movie']] == 0):\n",
    "        return user_mean[int(row['SimUser1'])]\n",
    "    else:\n",
    "        return sparse_matrix[row['SimUser1'],row['Movie']]"
   ]
  },
  {
   "cell_type": "code",
   "execution_count": 491,
   "metadata": {},
   "outputs": [],
   "source": [
    "df_featured_data['SimUser1'] = df_featured_data.apply(Userfunction1,axis=1)"
   ]
  },
  {
   "cell_type": "code",
   "execution_count": 492,
   "metadata": {},
   "outputs": [],
   "source": [
    "def Userfunction2(row):\n",
    "    if(sparse_matrix[row['SimUser2'],row['Movie']] == 0):\n",
    "        return user_mean[int(row['SimUser2'])]\n",
    "    else:\n",
    "        return sparse_matrix[row['SimUser2'],row['Movie']]"
   ]
  },
  {
   "cell_type": "code",
   "execution_count": 493,
   "metadata": {},
   "outputs": [],
   "source": [
    "df_featured_data['SimUser2'] = df_featured_data.apply(Userfunction2,axis=1)"
   ]
  },
  {
   "cell_type": "code",
   "execution_count": 494,
   "metadata": {},
   "outputs": [],
   "source": [
    "def Userfunction3(row):\n",
    "    if(sparse_matrix[row['SimUser3'],row['Movie']] == 0):\n",
    "        return user_mean[int(row['SimUser3'])]\n",
    "    else:\n",
    "        return sparse_matrix[row['SimUser3'],row['Movie']]"
   ]
  },
  {
   "cell_type": "code",
   "execution_count": 495,
   "metadata": {},
   "outputs": [],
   "source": [
    "df_featured_data['SimUser3'] = df_featured_data.apply(Userfunction3,axis=1)"
   ]
  },
  {
   "cell_type": "code",
   "execution_count": 496,
   "metadata": {},
   "outputs": [],
   "source": [
    "def Userfunction4(row):\n",
    "    if(sparse_matrix[row['SimUser4'],row['Movie']] == 0):\n",
    "        return user_mean[int(row['SimUser4'])]\n",
    "    else:\n",
    "        return sparse_matrix[row['SimUser4'],row['Movie']]"
   ]
  },
  {
   "cell_type": "code",
   "execution_count": 497,
   "metadata": {},
   "outputs": [],
   "source": [
    "df_featured_data['SimUser4'] = df_featured_data.apply(Userfunction4,axis=1)"
   ]
  },
  {
   "cell_type": "code",
   "execution_count": 498,
   "metadata": {},
   "outputs": [],
   "source": [
    "def Userfunction5(row):\n",
    "    if(sparse_matrix[row['SimUser5'],row['Movie']] == 0):\n",
    "        return user_mean[int(row['SimUser5'])]\n",
    "    else:\n",
    "        return sparse_matrix[row['SimUser5'],row['Movie']]"
   ]
  },
  {
   "cell_type": "code",
   "execution_count": 499,
   "metadata": {},
   "outputs": [],
   "source": [
    "df_featured_data['SimUser5'] = df_featured_data.apply(Userfunction5,axis=1)"
   ]
  },
  {
   "cell_type": "code",
   "execution_count": 500,
   "metadata": {},
   "outputs": [
    {
     "data": {
      "text/html": [
       "<div>\n",
       "<style scoped>\n",
       "    .dataframe tbody tr th:only-of-type {\n",
       "        vertical-align: middle;\n",
       "    }\n",
       "\n",
       "    .dataframe tbody tr th {\n",
       "        vertical-align: top;\n",
       "    }\n",
       "\n",
       "    .dataframe thead th {\n",
       "        text-align: right;\n",
       "    }\n",
       "</style>\n",
       "<table border=\"1\" class=\"dataframe\">\n",
       "  <thead>\n",
       "    <tr style=\"text-align: right;\">\n",
       "      <th></th>\n",
       "      <th>User</th>\n",
       "      <th>Movie</th>\n",
       "      <th>Grade</th>\n",
       "      <th>Global_Average</th>\n",
       "      <th>User_Average</th>\n",
       "      <th>Movie_Average</th>\n",
       "      <th>SimUser1</th>\n",
       "      <th>SimUser2</th>\n",
       "      <th>SimUser3</th>\n",
       "      <th>SimUser4</th>\n",
       "      <th>SimUser5</th>\n",
       "      <th>SimMovie1</th>\n",
       "      <th>SimMovie2</th>\n",
       "      <th>SimMovie3</th>\n",
       "      <th>SimMovie4</th>\n",
       "      <th>SimMovie5</th>\n",
       "    </tr>\n",
       "  </thead>\n",
       "  <tbody>\n",
       "    <tr>\n",
       "      <th>0</th>\n",
       "      <td>0</td>\n",
       "      <td>9</td>\n",
       "      <td>5</td>\n",
       "      <td>3.892523</td>\n",
       "      <td>4.200000</td>\n",
       "      <td>3.646072</td>\n",
       "      <td>5.000000</td>\n",
       "      <td>3.837209</td>\n",
       "      <td>4.148515</td>\n",
       "      <td>3.958333</td>\n",
       "      <td>4.100000</td>\n",
       "      <td>4.668212</td>\n",
       "      <td>4.682770</td>\n",
       "      <td>4.639421</td>\n",
       "      <td>4.446219</td>\n",
       "      <td>5.000000</td>\n",
       "    </tr>\n",
       "    <tr>\n",
       "      <th>1</th>\n",
       "      <td>0</td>\n",
       "      <td>60</td>\n",
       "      <td>5</td>\n",
       "      <td>3.892523</td>\n",
       "      <td>4.200000</td>\n",
       "      <td>3.884834</td>\n",
       "      <td>3.000000</td>\n",
       "      <td>4.000000</td>\n",
       "      <td>4.148515</td>\n",
       "      <td>5.000000</td>\n",
       "      <td>4.100000</td>\n",
       "      <td>4.682035</td>\n",
       "      <td>5.000000</td>\n",
       "      <td>4.726254</td>\n",
       "      <td>4.354707</td>\n",
       "      <td>4.424486</td>\n",
       "    </tr>\n",
       "    <tr>\n",
       "      <th>2</th>\n",
       "      <td>0</td>\n",
       "      <td>67</td>\n",
       "      <td>4</td>\n",
       "      <td>3.892523</td>\n",
       "      <td>4.200000</td>\n",
       "      <td>3.505051</td>\n",
       "      <td>3.966667</td>\n",
       "      <td>3.837209</td>\n",
       "      <td>3.000000</td>\n",
       "      <td>3.958333</td>\n",
       "      <td>4.000000</td>\n",
       "      <td>4.561553</td>\n",
       "      <td>4.668212</td>\n",
       "      <td>4.125744</td>\n",
       "      <td>3.953674</td>\n",
       "      <td>4.448840</td>\n",
       "    </tr>\n",
       "    <tr>\n",
       "      <th>3</th>\n",
       "      <td>0</td>\n",
       "      <td>83</td>\n",
       "      <td>4</td>\n",
       "      <td>3.892523</td>\n",
       "      <td>4.200000</td>\n",
       "      <td>4.175318</td>\n",
       "      <td>3.966667</td>\n",
       "      <td>3.837209</td>\n",
       "      <td>3.000000</td>\n",
       "      <td>4.000000</td>\n",
       "      <td>4.100000</td>\n",
       "      <td>4.048102</td>\n",
       "      <td>4.358686</td>\n",
       "      <td>4.486889</td>\n",
       "      <td>4.239246</td>\n",
       "      <td>4.561553</td>\n",
       "    </tr>\n",
       "    <tr>\n",
       "      <th>4</th>\n",
       "      <td>0</td>\n",
       "      <td>205</td>\n",
       "      <td>2</td>\n",
       "      <td>3.892523</td>\n",
       "      <td>4.200000</td>\n",
       "      <td>3.974499</td>\n",
       "      <td>3.966667</td>\n",
       "      <td>3.837209</td>\n",
       "      <td>4.148515</td>\n",
       "      <td>3.958333</td>\n",
       "      <td>4.100000</td>\n",
       "      <td>4.668212</td>\n",
       "      <td>4.345068</td>\n",
       "      <td>4.493464</td>\n",
       "      <td>4.365132</td>\n",
       "      <td>4.561553</td>\n",
       "    </tr>\n",
       "    <tr>\n",
       "      <th>...</th>\n",
       "      <td>...</td>\n",
       "      <td>...</td>\n",
       "      <td>...</td>\n",
       "      <td>...</td>\n",
       "      <td>...</td>\n",
       "      <td>...</td>\n",
       "      <td>...</td>\n",
       "      <td>...</td>\n",
       "      <td>...</td>\n",
       "      <td>...</td>\n",
       "      <td>...</td>\n",
       "      <td>...</td>\n",
       "      <td>...</td>\n",
       "      <td>...</td>\n",
       "      <td>...</td>\n",
       "      <td>...</td>\n",
       "    </tr>\n",
       "    <tr>\n",
       "      <th>1048570</th>\n",
       "      <td>9999</td>\n",
       "      <td>768</td>\n",
       "      <td>3</td>\n",
       "      <td>3.892523</td>\n",
       "      <td>4.030612</td>\n",
       "      <td>4.183138</td>\n",
       "      <td>4.000000</td>\n",
       "      <td>3.966667</td>\n",
       "      <td>3.818182</td>\n",
       "      <td>5.000000</td>\n",
       "      <td>5.000000</td>\n",
       "      <td>4.443052</td>\n",
       "      <td>4.000000</td>\n",
       "      <td>4.327196</td>\n",
       "      <td>4.000000</td>\n",
       "      <td>4.206940</td>\n",
       "    </tr>\n",
       "    <tr>\n",
       "      <th>1048571</th>\n",
       "      <td>9999</td>\n",
       "      <td>790</td>\n",
       "      <td>4</td>\n",
       "      <td>3.892523</td>\n",
       "      <td>4.030612</td>\n",
       "      <td>4.243106</td>\n",
       "      <td>5.000000</td>\n",
       "      <td>3.966667</td>\n",
       "      <td>3.818182</td>\n",
       "      <td>4.225166</td>\n",
       "      <td>5.000000</td>\n",
       "      <td>2.000000</td>\n",
       "      <td>5.000000</td>\n",
       "      <td>4.493464</td>\n",
       "      <td>4.691840</td>\n",
       "      <td>4.726254</td>\n",
       "    </tr>\n",
       "    <tr>\n",
       "      <th>1048572</th>\n",
       "      <td>9999</td>\n",
       "      <td>791</td>\n",
       "      <td>5</td>\n",
       "      <td>3.892523</td>\n",
       "      <td>4.030612</td>\n",
       "      <td>4.235588</td>\n",
       "      <td>4.105882</td>\n",
       "      <td>5.000000</td>\n",
       "      <td>5.000000</td>\n",
       "      <td>5.000000</td>\n",
       "      <td>5.000000</td>\n",
       "      <td>5.000000</td>\n",
       "      <td>4.410410</td>\n",
       "      <td>4.493441</td>\n",
       "      <td>4.448840</td>\n",
       "      <td>2.000000</td>\n",
       "    </tr>\n",
       "    <tr>\n",
       "      <th>1048573</th>\n",
       "      <td>9999</td>\n",
       "      <td>793</td>\n",
       "      <td>3</td>\n",
       "      <td>3.892523</td>\n",
       "      <td>4.030612</td>\n",
       "      <td>3.903812</td>\n",
       "      <td>4.105882</td>\n",
       "      <td>3.966667</td>\n",
       "      <td>3.818182</td>\n",
       "      <td>4.225166</td>\n",
       "      <td>3.000000</td>\n",
       "      <td>3.000000</td>\n",
       "      <td>4.394074</td>\n",
       "      <td>5.000000</td>\n",
       "      <td>4.000000</td>\n",
       "      <td>4.354707</td>\n",
       "    </tr>\n",
       "    <tr>\n",
       "      <th>1048574</th>\n",
       "      <td>9999</td>\n",
       "      <td>813</td>\n",
       "      <td>5</td>\n",
       "      <td>3.892523</td>\n",
       "      <td>4.030612</td>\n",
       "      <td>3.495185</td>\n",
       "      <td>4.105882</td>\n",
       "      <td>5.000000</td>\n",
       "      <td>3.818182</td>\n",
       "      <td>4.225166</td>\n",
       "      <td>4.146739</td>\n",
       "      <td>2.000000</td>\n",
       "      <td>4.415584</td>\n",
       "      <td>4.493441</td>\n",
       "      <td>4.561553</td>\n",
       "      <td>5.000000</td>\n",
       "    </tr>\n",
       "  </tbody>\n",
       "</table>\n",
       "<p>1048575 rows × 16 columns</p>\n",
       "</div>"
      ],
      "text/plain": [
       "         User  Movie  Grade  Global_Average  User_Average  Movie_Average  \\\n",
       "0           0      9      5        3.892523      4.200000       3.646072   \n",
       "1           0     60      5        3.892523      4.200000       3.884834   \n",
       "2           0     67      4        3.892523      4.200000       3.505051   \n",
       "3           0     83      4        3.892523      4.200000       4.175318   \n",
       "4           0    205      2        3.892523      4.200000       3.974499   \n",
       "...       ...    ...    ...             ...           ...            ...   \n",
       "1048570  9999    768      3        3.892523      4.030612       4.183138   \n",
       "1048571  9999    790      4        3.892523      4.030612       4.243106   \n",
       "1048572  9999    791      5        3.892523      4.030612       4.235588   \n",
       "1048573  9999    793      3        3.892523      4.030612       3.903812   \n",
       "1048574  9999    813      5        3.892523      4.030612       3.495185   \n",
       "\n",
       "         SimUser1  SimUser2  SimUser3  SimUser4  SimUser5  SimMovie1  \\\n",
       "0        5.000000  3.837209  4.148515  3.958333  4.100000   4.668212   \n",
       "1        3.000000  4.000000  4.148515  5.000000  4.100000   4.682035   \n",
       "2        3.966667  3.837209  3.000000  3.958333  4.000000   4.561553   \n",
       "3        3.966667  3.837209  3.000000  4.000000  4.100000   4.048102   \n",
       "4        3.966667  3.837209  4.148515  3.958333  4.100000   4.668212   \n",
       "...           ...       ...       ...       ...       ...        ...   \n",
       "1048570  4.000000  3.966667  3.818182  5.000000  5.000000   4.443052   \n",
       "1048571  5.000000  3.966667  3.818182  4.225166  5.000000   2.000000   \n",
       "1048572  4.105882  5.000000  5.000000  5.000000  5.000000   5.000000   \n",
       "1048573  4.105882  3.966667  3.818182  4.225166  3.000000   3.000000   \n",
       "1048574  4.105882  5.000000  3.818182  4.225166  4.146739   2.000000   \n",
       "\n",
       "         SimMovie2  SimMovie3  SimMovie4  SimMovie5  \n",
       "0         4.682770   4.639421   4.446219   5.000000  \n",
       "1         5.000000   4.726254   4.354707   4.424486  \n",
       "2         4.668212   4.125744   3.953674   4.448840  \n",
       "3         4.358686   4.486889   4.239246   4.561553  \n",
       "4         4.345068   4.493464   4.365132   4.561553  \n",
       "...            ...        ...        ...        ...  \n",
       "1048570   4.000000   4.327196   4.000000   4.206940  \n",
       "1048571   5.000000   4.493464   4.691840   4.726254  \n",
       "1048572   4.410410   4.493441   4.448840   2.000000  \n",
       "1048573   4.394074   5.000000   4.000000   4.354707  \n",
       "1048574   4.415584   4.493441   4.561553   5.000000  \n",
       "\n",
       "[1048575 rows x 16 columns]"
      ]
     },
     "execution_count": 500,
     "metadata": {},
     "output_type": "execute_result"
    }
   ],
   "source": [
    "df_featured_data"
   ]
  },
  {
   "cell_type": "markdown",
   "metadata": {},
   "source": [
    "Get the indices of the similar movies"
   ]
  },
  {
   "cell_type": "code",
   "execution_count": 366,
   "metadata": {},
   "outputs": [],
   "source": [
    "df_featured_data['SimMovie1'] = df_featured_data['Movie'].map(lambda x: int(movie_simil_matrix[x][0]))\n",
    "df_featured_data['SimMovie2'] = df_featured_data['Movie'].map(lambda x: int(movie_simil_matrix[x][1]))\n",
    "df_featured_data['SimMovie3'] = df_featured_data['Movie'].map(lambda x: int(movie_simil_matrix[x][2]))\n",
    "df_featured_data['SimMovie4'] = df_featured_data['Movie'].map(lambda x: int(movie_simil_matrix[x][3]))\n",
    "df_featured_data['SimMovie5'] = df_featured_data['Movie'].map(lambda x: int(movie_simil_matrix[x][4]))"
   ]
  },
  {
   "cell_type": "code",
   "execution_count": 367,
   "metadata": {},
   "outputs": [
    {
     "data": {
      "text/html": [
       "<div>\n",
       "<style scoped>\n",
       "    .dataframe tbody tr th:only-of-type {\n",
       "        vertical-align: middle;\n",
       "    }\n",
       "\n",
       "    .dataframe tbody tr th {\n",
       "        vertical-align: top;\n",
       "    }\n",
       "\n",
       "    .dataframe thead th {\n",
       "        text-align: right;\n",
       "    }\n",
       "</style>\n",
       "<table border=\"1\" class=\"dataframe\">\n",
       "  <thead>\n",
       "    <tr style=\"text-align: right;\">\n",
       "      <th></th>\n",
       "      <th>User</th>\n",
       "      <th>Movie</th>\n",
       "      <th>Grade</th>\n",
       "      <th>Global_Average</th>\n",
       "      <th>User_Average</th>\n",
       "      <th>Movie_Average</th>\n",
       "      <th>SimUser1</th>\n",
       "      <th>SimUser2</th>\n",
       "      <th>SimUser3</th>\n",
       "      <th>SimUser4</th>\n",
       "      <th>SimUser5</th>\n",
       "      <th>SimMovie1</th>\n",
       "      <th>SimMovie2</th>\n",
       "      <th>SimMovie3</th>\n",
       "      <th>SimMovie4</th>\n",
       "      <th>SimMovie5</th>\n",
       "    </tr>\n",
       "  </thead>\n",
       "  <tbody>\n",
       "    <tr>\n",
       "      <th>0</th>\n",
       "      <td>0</td>\n",
       "      <td>9</td>\n",
       "      <td>5</td>\n",
       "      <td>3.892523</td>\n",
       "      <td>4.2</td>\n",
       "      <td>3.646072</td>\n",
       "      <td>5.000000</td>\n",
       "      <td>3.837209</td>\n",
       "      <td>4.148515</td>\n",
       "      <td>3.958333</td>\n",
       "      <td>4.1</td>\n",
       "      <td>155</td>\n",
       "      <td>5</td>\n",
       "      <td>607</td>\n",
       "      <td>45</td>\n",
       "      <td>595</td>\n",
       "    </tr>\n",
       "    <tr>\n",
       "      <th>1</th>\n",
       "      <td>0</td>\n",
       "      <td>60</td>\n",
       "      <td>5</td>\n",
       "      <td>3.892523</td>\n",
       "      <td>4.2</td>\n",
       "      <td>3.884834</td>\n",
       "      <td>5.000000</td>\n",
       "      <td>5.000000</td>\n",
       "      <td>4.148515</td>\n",
       "      <td>5.000000</td>\n",
       "      <td>4.1</td>\n",
       "      <td>593</td>\n",
       "      <td>595</td>\n",
       "      <td>255</td>\n",
       "      <td>433</td>\n",
       "      <td>13</td>\n",
       "    </tr>\n",
       "    <tr>\n",
       "      <th>2</th>\n",
       "      <td>0</td>\n",
       "      <td>67</td>\n",
       "      <td>4</td>\n",
       "      <td>3.892523</td>\n",
       "      <td>4.2</td>\n",
       "      <td>3.505051</td>\n",
       "      <td>3.966667</td>\n",
       "      <td>3.837209</td>\n",
       "      <td>4.000000</td>\n",
       "      <td>3.958333</td>\n",
       "      <td>4.0</td>\n",
       "      <td>59</td>\n",
       "      <td>155</td>\n",
       "      <td>88</td>\n",
       "      <td>284</td>\n",
       "      <td>610</td>\n",
       "    </tr>\n",
       "    <tr>\n",
       "      <th>3</th>\n",
       "      <td>0</td>\n",
       "      <td>83</td>\n",
       "      <td>4</td>\n",
       "      <td>3.892523</td>\n",
       "      <td>4.2</td>\n",
       "      <td>4.175318</td>\n",
       "      <td>3.966667</td>\n",
       "      <td>3.837209</td>\n",
       "      <td>4.000000</td>\n",
       "      <td>4.000000</td>\n",
       "      <td>4.1</td>\n",
       "      <td>546</td>\n",
       "      <td>250</td>\n",
       "      <td>190</td>\n",
       "      <td>160</td>\n",
       "      <td>59</td>\n",
       "    </tr>\n",
       "    <tr>\n",
       "      <th>4</th>\n",
       "      <td>0</td>\n",
       "      <td>205</td>\n",
       "      <td>2</td>\n",
       "      <td>3.892523</td>\n",
       "      <td>4.2</td>\n",
       "      <td>3.974499</td>\n",
       "      <td>3.966667</td>\n",
       "      <td>3.837209</td>\n",
       "      <td>4.148515</td>\n",
       "      <td>3.958333</td>\n",
       "      <td>4.1</td>\n",
       "      <td>155</td>\n",
       "      <td>294</td>\n",
       "      <td>177</td>\n",
       "      <td>494</td>\n",
       "      <td>59</td>\n",
       "    </tr>\n",
       "  </tbody>\n",
       "</table>\n",
       "</div>"
      ],
      "text/plain": [
       "   User  Movie  Grade  Global_Average  User_Average  Movie_Average  SimUser1  \\\n",
       "0     0      9      5        3.892523           4.2       3.646072  5.000000   \n",
       "1     0     60      5        3.892523           4.2       3.884834  5.000000   \n",
       "2     0     67      4        3.892523           4.2       3.505051  3.966667   \n",
       "3     0     83      4        3.892523           4.2       4.175318  3.966667   \n",
       "4     0    205      2        3.892523           4.2       3.974499  3.966667   \n",
       "\n",
       "   SimUser2  SimUser3  SimUser4  SimUser5  SimMovie1  SimMovie2  SimMovie3  \\\n",
       "0  3.837209  4.148515  3.958333       4.1        155          5        607   \n",
       "1  5.000000  4.148515  5.000000       4.1        593        595        255   \n",
       "2  3.837209  4.000000  3.958333       4.0         59        155         88   \n",
       "3  3.837209  4.000000  4.000000       4.1        546        250        190   \n",
       "4  3.837209  4.148515  3.958333       4.1        155        294        177   \n",
       "\n",
       "   SimMovie4  SimMovie5  \n",
       "0         45        595  \n",
       "1        433         13  \n",
       "2        284        610  \n",
       "3        160         59  \n",
       "4        494         59  "
      ]
     },
     "execution_count": 367,
     "metadata": {},
     "output_type": "execute_result"
    }
   ],
   "source": [
    "df_featured_data.head()"
   ]
  },
  {
   "cell_type": "markdown",
   "metadata": {},
   "source": [
    "For each similar movie we need to find the rating that the user has given to it if not available give the similar movie average rating.  "
   ]
  },
  {
   "cell_type": "code",
   "execution_count": 368,
   "metadata": {},
   "outputs": [],
   "source": [
    "def Moviefunction1(row):\n",
    "    if(sparse_matrix[row['User'],row['SimMovie1']] == 0):\n",
    "        return movie_mean[int(row['SimMovie1'])]\n",
    "    else:\n",
    "        return sparse_matrix[row['User'],row['SimMovie1']]"
   ]
  },
  {
   "cell_type": "code",
   "execution_count": 369,
   "metadata": {},
   "outputs": [],
   "source": [
    "df_featured_data['SimMovie1'] = df_featured_data.apply(Moviefunction1,axis=1)"
   ]
  },
  {
   "cell_type": "code",
   "execution_count": 370,
   "metadata": {},
   "outputs": [],
   "source": [
    "def Moviefunction2(row):\n",
    "    if(sparse_matrix[row['User'],row['SimMovie2']] == 0):\n",
    "        return movie_mean[int(row['SimMovie2'])]\n",
    "    else:\n",
    "        return sparse_matrix[row['User'],row['SimMovie2']]"
   ]
  },
  {
   "cell_type": "code",
   "execution_count": 371,
   "metadata": {},
   "outputs": [],
   "source": [
    "df_featured_data['SimMovie2'] = df_featured_data.apply(Moviefunction2,axis=1)"
   ]
  },
  {
   "cell_type": "code",
   "execution_count": 374,
   "metadata": {},
   "outputs": [],
   "source": [
    "def Moviefunction3(row):\n",
    "    if(sparse_matrix[row['User'],row['SimMovie3']] == 0):\n",
    "        return movie_mean[int(row['SimMovie3'])]\n",
    "    else:\n",
    "        return sparse_matrix[row['User'],row['SimMovie3']]"
   ]
  },
  {
   "cell_type": "code",
   "execution_count": 375,
   "metadata": {},
   "outputs": [],
   "source": [
    "df_featured_data['SimMovie3'] = df_featured_data.apply(Moviefunction3,axis=1)"
   ]
  },
  {
   "cell_type": "code",
   "execution_count": 376,
   "metadata": {},
   "outputs": [],
   "source": [
    "def Moviefunction4(row):\n",
    "    if(sparse_matrix[row['User'],row['SimMovie4']] == 0):\n",
    "        return movie_mean[int(row['SimMovie4'])]\n",
    "    else:\n",
    "        return sparse_matrix[row['User'],row['SimMovie4']]"
   ]
  },
  {
   "cell_type": "code",
   "execution_count": 377,
   "metadata": {},
   "outputs": [],
   "source": [
    "df_featured_data['SimMovie4'] = df_featured_data.apply(Moviefunction4,axis=1)"
   ]
  },
  {
   "cell_type": "code",
   "execution_count": 378,
   "metadata": {},
   "outputs": [],
   "source": [
    "def Moviefunction5(row):\n",
    "    if(sparse_matrix[row['User'],row['SimMovie5']] == 0):\n",
    "        return movie_mean[int(row['SimMovie5'])]\n",
    "    else:\n",
    "        return sparse_matrix[row['User'],row['SimMovie5']]"
   ]
  },
  {
   "cell_type": "code",
   "execution_count": 379,
   "metadata": {},
   "outputs": [],
   "source": [
    "df_featured_data['SimMovie5'] = df_featured_data.apply(Moviefunction5,axis=1)"
   ]
  },
  {
   "cell_type": "markdown",
   "metadata": {},
   "source": [
    "We finnaly get the following dataframe with 13 features"
   ]
  },
  {
   "cell_type": "code",
   "execution_count": 501,
   "metadata": {},
   "outputs": [
    {
     "data": {
      "text/html": [
       "<div>\n",
       "<style scoped>\n",
       "    .dataframe tbody tr th:only-of-type {\n",
       "        vertical-align: middle;\n",
       "    }\n",
       "\n",
       "    .dataframe tbody tr th {\n",
       "        vertical-align: top;\n",
       "    }\n",
       "\n",
       "    .dataframe thead th {\n",
       "        text-align: right;\n",
       "    }\n",
       "</style>\n",
       "<table border=\"1\" class=\"dataframe\">\n",
       "  <thead>\n",
       "    <tr style=\"text-align: right;\">\n",
       "      <th></th>\n",
       "      <th>User</th>\n",
       "      <th>Movie</th>\n",
       "      <th>Grade</th>\n",
       "      <th>Global_Average</th>\n",
       "      <th>User_Average</th>\n",
       "      <th>Movie_Average</th>\n",
       "      <th>SimUser1</th>\n",
       "      <th>SimUser2</th>\n",
       "      <th>SimUser3</th>\n",
       "      <th>SimUser4</th>\n",
       "      <th>SimUser5</th>\n",
       "      <th>SimMovie1</th>\n",
       "      <th>SimMovie2</th>\n",
       "      <th>SimMovie3</th>\n",
       "      <th>SimMovie4</th>\n",
       "      <th>SimMovie5</th>\n",
       "    </tr>\n",
       "  </thead>\n",
       "  <tbody>\n",
       "    <tr>\n",
       "      <th>0</th>\n",
       "      <td>0</td>\n",
       "      <td>9</td>\n",
       "      <td>5</td>\n",
       "      <td>3.892523</td>\n",
       "      <td>4.200000</td>\n",
       "      <td>3.646072</td>\n",
       "      <td>5.000000</td>\n",
       "      <td>3.837209</td>\n",
       "      <td>4.148515</td>\n",
       "      <td>3.958333</td>\n",
       "      <td>4.100000</td>\n",
       "      <td>4.668212</td>\n",
       "      <td>4.682770</td>\n",
       "      <td>4.639421</td>\n",
       "      <td>4.446219</td>\n",
       "      <td>5.000000</td>\n",
       "    </tr>\n",
       "    <tr>\n",
       "      <th>1</th>\n",
       "      <td>0</td>\n",
       "      <td>60</td>\n",
       "      <td>5</td>\n",
       "      <td>3.892523</td>\n",
       "      <td>4.200000</td>\n",
       "      <td>3.884834</td>\n",
       "      <td>3.000000</td>\n",
       "      <td>4.000000</td>\n",
       "      <td>4.148515</td>\n",
       "      <td>5.000000</td>\n",
       "      <td>4.100000</td>\n",
       "      <td>4.682035</td>\n",
       "      <td>5.000000</td>\n",
       "      <td>4.726254</td>\n",
       "      <td>4.354707</td>\n",
       "      <td>4.424486</td>\n",
       "    </tr>\n",
       "    <tr>\n",
       "      <th>2</th>\n",
       "      <td>0</td>\n",
       "      <td>67</td>\n",
       "      <td>4</td>\n",
       "      <td>3.892523</td>\n",
       "      <td>4.200000</td>\n",
       "      <td>3.505051</td>\n",
       "      <td>3.966667</td>\n",
       "      <td>3.837209</td>\n",
       "      <td>3.000000</td>\n",
       "      <td>3.958333</td>\n",
       "      <td>4.000000</td>\n",
       "      <td>4.561553</td>\n",
       "      <td>4.668212</td>\n",
       "      <td>4.125744</td>\n",
       "      <td>3.953674</td>\n",
       "      <td>4.448840</td>\n",
       "    </tr>\n",
       "    <tr>\n",
       "      <th>3</th>\n",
       "      <td>0</td>\n",
       "      <td>83</td>\n",
       "      <td>4</td>\n",
       "      <td>3.892523</td>\n",
       "      <td>4.200000</td>\n",
       "      <td>4.175318</td>\n",
       "      <td>3.966667</td>\n",
       "      <td>3.837209</td>\n",
       "      <td>3.000000</td>\n",
       "      <td>4.000000</td>\n",
       "      <td>4.100000</td>\n",
       "      <td>4.048102</td>\n",
       "      <td>4.358686</td>\n",
       "      <td>4.486889</td>\n",
       "      <td>4.239246</td>\n",
       "      <td>4.561553</td>\n",
       "    </tr>\n",
       "    <tr>\n",
       "      <th>4</th>\n",
       "      <td>0</td>\n",
       "      <td>205</td>\n",
       "      <td>2</td>\n",
       "      <td>3.892523</td>\n",
       "      <td>4.200000</td>\n",
       "      <td>3.974499</td>\n",
       "      <td>3.966667</td>\n",
       "      <td>3.837209</td>\n",
       "      <td>4.148515</td>\n",
       "      <td>3.958333</td>\n",
       "      <td>4.100000</td>\n",
       "      <td>4.668212</td>\n",
       "      <td>4.345068</td>\n",
       "      <td>4.493464</td>\n",
       "      <td>4.365132</td>\n",
       "      <td>4.561553</td>\n",
       "    </tr>\n",
       "    <tr>\n",
       "      <th>...</th>\n",
       "      <td>...</td>\n",
       "      <td>...</td>\n",
       "      <td>...</td>\n",
       "      <td>...</td>\n",
       "      <td>...</td>\n",
       "      <td>...</td>\n",
       "      <td>...</td>\n",
       "      <td>...</td>\n",
       "      <td>...</td>\n",
       "      <td>...</td>\n",
       "      <td>...</td>\n",
       "      <td>...</td>\n",
       "      <td>...</td>\n",
       "      <td>...</td>\n",
       "      <td>...</td>\n",
       "      <td>...</td>\n",
       "    </tr>\n",
       "    <tr>\n",
       "      <th>1048570</th>\n",
       "      <td>9999</td>\n",
       "      <td>768</td>\n",
       "      <td>3</td>\n",
       "      <td>3.892523</td>\n",
       "      <td>4.030612</td>\n",
       "      <td>4.183138</td>\n",
       "      <td>4.000000</td>\n",
       "      <td>3.966667</td>\n",
       "      <td>3.818182</td>\n",
       "      <td>5.000000</td>\n",
       "      <td>5.000000</td>\n",
       "      <td>4.443052</td>\n",
       "      <td>4.000000</td>\n",
       "      <td>4.327196</td>\n",
       "      <td>4.000000</td>\n",
       "      <td>4.206940</td>\n",
       "    </tr>\n",
       "    <tr>\n",
       "      <th>1048571</th>\n",
       "      <td>9999</td>\n",
       "      <td>790</td>\n",
       "      <td>4</td>\n",
       "      <td>3.892523</td>\n",
       "      <td>4.030612</td>\n",
       "      <td>4.243106</td>\n",
       "      <td>5.000000</td>\n",
       "      <td>3.966667</td>\n",
       "      <td>3.818182</td>\n",
       "      <td>4.225166</td>\n",
       "      <td>5.000000</td>\n",
       "      <td>2.000000</td>\n",
       "      <td>5.000000</td>\n",
       "      <td>4.493464</td>\n",
       "      <td>4.691840</td>\n",
       "      <td>4.726254</td>\n",
       "    </tr>\n",
       "    <tr>\n",
       "      <th>1048572</th>\n",
       "      <td>9999</td>\n",
       "      <td>791</td>\n",
       "      <td>5</td>\n",
       "      <td>3.892523</td>\n",
       "      <td>4.030612</td>\n",
       "      <td>4.235588</td>\n",
       "      <td>4.105882</td>\n",
       "      <td>5.000000</td>\n",
       "      <td>5.000000</td>\n",
       "      <td>5.000000</td>\n",
       "      <td>5.000000</td>\n",
       "      <td>5.000000</td>\n",
       "      <td>4.410410</td>\n",
       "      <td>4.493441</td>\n",
       "      <td>4.448840</td>\n",
       "      <td>2.000000</td>\n",
       "    </tr>\n",
       "    <tr>\n",
       "      <th>1048573</th>\n",
       "      <td>9999</td>\n",
       "      <td>793</td>\n",
       "      <td>3</td>\n",
       "      <td>3.892523</td>\n",
       "      <td>4.030612</td>\n",
       "      <td>3.903812</td>\n",
       "      <td>4.105882</td>\n",
       "      <td>3.966667</td>\n",
       "      <td>3.818182</td>\n",
       "      <td>4.225166</td>\n",
       "      <td>3.000000</td>\n",
       "      <td>3.000000</td>\n",
       "      <td>4.394074</td>\n",
       "      <td>5.000000</td>\n",
       "      <td>4.000000</td>\n",
       "      <td>4.354707</td>\n",
       "    </tr>\n",
       "    <tr>\n",
       "      <th>1048574</th>\n",
       "      <td>9999</td>\n",
       "      <td>813</td>\n",
       "      <td>5</td>\n",
       "      <td>3.892523</td>\n",
       "      <td>4.030612</td>\n",
       "      <td>3.495185</td>\n",
       "      <td>4.105882</td>\n",
       "      <td>5.000000</td>\n",
       "      <td>3.818182</td>\n",
       "      <td>4.225166</td>\n",
       "      <td>4.146739</td>\n",
       "      <td>2.000000</td>\n",
       "      <td>4.415584</td>\n",
       "      <td>4.493441</td>\n",
       "      <td>4.561553</td>\n",
       "      <td>5.000000</td>\n",
       "    </tr>\n",
       "  </tbody>\n",
       "</table>\n",
       "<p>1048575 rows × 16 columns</p>\n",
       "</div>"
      ],
      "text/plain": [
       "         User  Movie  Grade  Global_Average  User_Average  Movie_Average  \\\n",
       "0           0      9      5        3.892523      4.200000       3.646072   \n",
       "1           0     60      5        3.892523      4.200000       3.884834   \n",
       "2           0     67      4        3.892523      4.200000       3.505051   \n",
       "3           0     83      4        3.892523      4.200000       4.175318   \n",
       "4           0    205      2        3.892523      4.200000       3.974499   \n",
       "...       ...    ...    ...             ...           ...            ...   \n",
       "1048570  9999    768      3        3.892523      4.030612       4.183138   \n",
       "1048571  9999    790      4        3.892523      4.030612       4.243106   \n",
       "1048572  9999    791      5        3.892523      4.030612       4.235588   \n",
       "1048573  9999    793      3        3.892523      4.030612       3.903812   \n",
       "1048574  9999    813      5        3.892523      4.030612       3.495185   \n",
       "\n",
       "         SimUser1  SimUser2  SimUser3  SimUser4  SimUser5  SimMovie1  \\\n",
       "0        5.000000  3.837209  4.148515  3.958333  4.100000   4.668212   \n",
       "1        3.000000  4.000000  4.148515  5.000000  4.100000   4.682035   \n",
       "2        3.966667  3.837209  3.000000  3.958333  4.000000   4.561553   \n",
       "3        3.966667  3.837209  3.000000  4.000000  4.100000   4.048102   \n",
       "4        3.966667  3.837209  4.148515  3.958333  4.100000   4.668212   \n",
       "...           ...       ...       ...       ...       ...        ...   \n",
       "1048570  4.000000  3.966667  3.818182  5.000000  5.000000   4.443052   \n",
       "1048571  5.000000  3.966667  3.818182  4.225166  5.000000   2.000000   \n",
       "1048572  4.105882  5.000000  5.000000  5.000000  5.000000   5.000000   \n",
       "1048573  4.105882  3.966667  3.818182  4.225166  3.000000   3.000000   \n",
       "1048574  4.105882  5.000000  3.818182  4.225166  4.146739   2.000000   \n",
       "\n",
       "         SimMovie2  SimMovie3  SimMovie4  SimMovie5  \n",
       "0         4.682770   4.639421   4.446219   5.000000  \n",
       "1         5.000000   4.726254   4.354707   4.424486  \n",
       "2         4.668212   4.125744   3.953674   4.448840  \n",
       "3         4.358686   4.486889   4.239246   4.561553  \n",
       "4         4.345068   4.493464   4.365132   4.561553  \n",
       "...            ...        ...        ...        ...  \n",
       "1048570   4.000000   4.327196   4.000000   4.206940  \n",
       "1048571   5.000000   4.493464   4.691840   4.726254  \n",
       "1048572   4.410410   4.493441   4.448840   2.000000  \n",
       "1048573   4.394074   5.000000   4.000000   4.354707  \n",
       "1048574   4.415584   4.493441   4.561553   5.000000  \n",
       "\n",
       "[1048575 rows x 16 columns]"
      ]
     },
     "execution_count": 501,
     "metadata": {},
     "output_type": "execute_result"
    }
   ],
   "source": [
    "df_featured_data"
   ]
  },
  {
   "cell_type": "markdown",
   "metadata": {},
   "source": [
    "We save the dataframe computed"
   ]
  },
  {
   "cell_type": "code",
   "execution_count": 502,
   "metadata": {},
   "outputs": [],
   "source": [
    "file_name = 'featured_data.pk'\n",
    "df_featured_data.to_pickle(file_name)  "
   ]
  },
  {
   "cell_type": "markdown",
   "metadata": {},
   "source": [
    "# XGB with 13 features"
   ]
  },
  {
   "cell_type": "markdown",
   "metadata": {},
   "source": [
    "### Training"
   ]
  },
  {
   "cell_type": "code",
   "execution_count": 503,
   "metadata": {},
   "outputs": [],
   "source": [
    "df = pd.read_pickle(file_name)"
   ]
  },
  {
   "cell_type": "code",
   "execution_count": 504,
   "metadata": {},
   "outputs": [],
   "source": [
    "import xgboost as xgb"
   ]
  },
  {
   "cell_type": "code",
   "execution_count": 505,
   "metadata": {},
   "outputs": [],
   "source": [
    "def error_metrics(true,pred):\n",
    "    rmse = np.sqrt(np.mean([ (true[i] - pred[i])**2 for i in range(len(pred)) ]))\n",
    "    mape = np.mean(np.abs( (true-pred)/true ))*100\n",
    "    return rmse, mape"
   ]
  },
  {
   "cell_type": "code",
   "execution_count": 506,
   "metadata": {},
   "outputs": [
    {
     "name": "stderr",
     "output_type": "stream",
     "text": [
      "C:\\Users\\Ridha\\Anaconda3\\lib\\site-packages\\xgboost\\core.py:587: FutureWarning: Series.base is deprecated and will be removed in a future version\n",
      "  if getattr(data, 'base', None) is not None and \\\n",
      "C:\\Users\\Ridha\\Anaconda3\\lib\\site-packages\\xgboost\\core.py:588: FutureWarning: Series.base is deprecated and will be removed in a future version\n",
      "  data.base is not None and isinstance(data, np.ndarray) \\\n"
     ]
    },
    {
     "name": "stdout",
     "output_type": "stream",
     "text": [
      "[13:08:45] WARNING: C:/Jenkins/workspace/xgboost-win64_release_0.90/src/objective/regression_obj.cu:152: reg:linear is now deprecated in favor of reg:squarederror.\n"
     ]
    }
   ],
   "source": [
    "algo = xgb.XGBRegressor(silent=False, n_jobs=13, random_state=1, n_estimators=100)\n",
    "\n",
    "x_train= df.drop(['User','Movie','Grade'],axis=1)\n",
    "y_train= df['Grade']\n",
    "\n",
    "algo.fit(x_train, y_train, eval_metric = 'rmse')\n",
    "y_train_pred = algo.predict(x_train)\n",
    "rmse_train, mape_train = error_metrics(y_train.values, y_train_pred)\n",
    "train_r = {'rmse': rmse_train,'mape' : mape_train,'predictions' : y_train_pred}"
   ]
  },
  {
   "cell_type": "code",
   "execution_count": 507,
   "metadata": {},
   "outputs": [
    {
     "data": {
      "text/plain": [
       "{'rmse': 0.9649037962541899,\n",
       " 'mape': 27.94645721556277,\n",
       " 'predictions': array([3.981151 , 4.246266 , 3.7017262, ..., 4.5438004, 3.802572 ,\n",
       "        3.5928674], dtype=float32)}"
      ]
     },
     "execution_count": 507,
     "metadata": {},
     "output_type": "execute_result"
    }
   ],
   "source": [
    "train_r"
   ]
  },
  {
   "cell_type": "code",
   "execution_count": 508,
   "metadata": {},
   "outputs": [
    {
     "data": {
      "image/png": "[encoded data removed]",
      "text/plain": [
       "<Figure size 432x288 with 1 Axes>"
      ]
     },
     "metadata": {
      "needs_background": "light"
     },
     "output_type": "display_data"
    }
   ],
   "source": [
    "xgb.plot_importance(algo)\n",
    "plt.show()"
   ]
  },
  {
   "cell_type": "markdown",
   "metadata": {},
   "source": [
    "### Prediciton"
   ]
  },
  {
   "cell_type": "markdown",
   "metadata": {},
   "source": [
    "We read the data and put it in a sparse matrix"
   ]
  },
  {
   "cell_type": "code",
   "execution_count": 606,
   "metadata": {},
   "outputs": [],
   "source": [
    "ids, users , movies=  u.read_file()"
   ]
  },
  {
   "cell_type": "code",
   "execution_count": 460,
   "metadata": {},
   "outputs": [],
   "source": [
    "pred_users_set = sorted(set(users))"
   ]
  },
  {
   "cell_type": "code",
   "execution_count": 458,
   "metadata": {},
   "outputs": [],
   "source": [
    "pred_movies_set = sorted(set(movies))"
   ]
  },
  {
   "cell_type": "code",
   "execution_count": 449,
   "metadata": {},
   "outputs": [
    {
     "name": "stdout",
     "output_type": "stream",
     "text": [
      "In submission file we have 10000 users and 1000 movies\n"
     ]
    }
   ],
   "source": [
    "print( \"In submission file we have {0} users and {1} movies\".format(len(set(users)),len(set(movies))))"
   ]
  },
  {
   "cell_type": "code",
   "execution_count": 510,
   "metadata": {},
   "outputs": [
    {
     "data": {
      "text/plain": [
       "9999"
      ]
     },
     "execution_count": 510,
     "metadata": {},
     "output_type": "execute_result"
    }
   ],
   "source": [
    "max(pred_users_set)"
   ]
  },
  {
   "cell_type": "code",
   "execution_count": 459,
   "metadata": {},
   "outputs": [
    {
     "data": {
      "text/plain": [
       "set()"
      ]
     },
     "execution_count": 459,
     "metadata": {},
     "output_type": "execute_result"
    }
   ],
   "source": [
    "pred_users_set.difference(row_ind)"
   ]
  },
  {
   "cell_type": "code",
   "execution_count": 512,
   "metadata": {},
   "outputs": [
    {
     "data": {
      "text/plain": [
       "166"
      ]
     },
     "execution_count": 512,
     "metadata": {},
     "output_type": "execute_result"
    }
   ],
   "source": [
    "new_movies = pred_movies_set.difference(col_ind)\n",
    "len(new_movies)"
   ]
  },
  {
   "cell_type": "markdown",
   "metadata": {},
   "source": [
    "We have to predict ratings for movies that are not in our training set "
   ]
  },
  {
   "cell_type": "markdown",
   "metadata": {},
   "source": [
    "Featurizing the data"
   ]
  },
  {
   "cell_type": "code",
   "execution_count": 450,
   "metadata": {},
   "outputs": [],
   "source": [
    "df_sub = pd.DataFrame({\"User\" : users, \"Movie\" : movies, \"Global_Average\" : global_average})"
   ]
  },
  {
   "cell_type": "code",
   "execution_count": 451,
   "metadata": {},
   "outputs": [
    {
     "data": {
      "text/html": [
       "<div>\n",
       "<style scoped>\n",
       "    .dataframe tbody tr th:only-of-type {\n",
       "        vertical-align: middle;\n",
       "    }\n",
       "\n",
       "    .dataframe tbody tr th {\n",
       "        vertical-align: top;\n",
       "    }\n",
       "\n",
       "    .dataframe thead th {\n",
       "        text-align: right;\n",
       "    }\n",
       "</style>\n",
       "<table border=\"1\" class=\"dataframe\">\n",
       "  <thead>\n",
       "    <tr style=\"text-align: right;\">\n",
       "      <th></th>\n",
       "      <th>User</th>\n",
       "      <th>Movie</th>\n",
       "      <th>Global_Average</th>\n",
       "    </tr>\n",
       "  </thead>\n",
       "  <tbody>\n",
       "    <tr>\n",
       "      <th>0</th>\n",
       "      <td>36</td>\n",
       "      <td>0</td>\n",
       "      <td>3.892523</td>\n",
       "    </tr>\n",
       "    <tr>\n",
       "      <th>1</th>\n",
       "      <td>72</td>\n",
       "      <td>0</td>\n",
       "      <td>3.892523</td>\n",
       "    </tr>\n",
       "    <tr>\n",
       "      <th>2</th>\n",
       "      <td>155</td>\n",
       "      <td>0</td>\n",
       "      <td>3.892523</td>\n",
       "    </tr>\n",
       "    <tr>\n",
       "      <th>3</th>\n",
       "      <td>159</td>\n",
       "      <td>0</td>\n",
       "      <td>3.892523</td>\n",
       "    </tr>\n",
       "    <tr>\n",
       "      <th>4</th>\n",
       "      <td>247</td>\n",
       "      <td>0</td>\n",
       "      <td>3.892523</td>\n",
       "    </tr>\n",
       "  </tbody>\n",
       "</table>\n",
       "</div>"
      ],
      "text/plain": [
       "   User  Movie  Global_Average\n",
       "0    36      0        3.892523\n",
       "1    72      0        3.892523\n",
       "2   155      0        3.892523\n",
       "3   159      0        3.892523\n",
       "4   247      0        3.892523"
      ]
     },
     "execution_count": 451,
     "metadata": {},
     "output_type": "execute_result"
    }
   ],
   "source": [
    "df_sub.head()"
   ]
  },
  {
   "cell_type": "code",
   "execution_count": 462,
   "metadata": {},
   "outputs": [],
   "source": [
    "df_sub['User_Average'] = df_sub['User'].map(lambda x: user_mean[x])"
   ]
  },
  {
   "cell_type": "code",
   "execution_count": 514,
   "metadata": {},
   "outputs": [],
   "source": [
    "def movie_average_function(row):\n",
    "    if(row.Movie not in new_movies):\n",
    "        return movie_mean[int(row.Movie)]\n",
    "    else: \n",
    "        return global_average    #if we don't know the movie we put the average rating "
   ]
  },
  {
   "cell_type": "code",
   "execution_count": 515,
   "metadata": {},
   "outputs": [],
   "source": [
    "df_sub['Movie_Average'] = df_sub.apply(movie_average_function, axis=1)"
   ]
  },
  {
   "cell_type": "code",
   "execution_count": 516,
   "metadata": {},
   "outputs": [
    {
     "data": {
      "text/html": [
       "<div>\n",
       "<style scoped>\n",
       "    .dataframe tbody tr th:only-of-type {\n",
       "        vertical-align: middle;\n",
       "    }\n",
       "\n",
       "    .dataframe tbody tr th {\n",
       "        vertical-align: top;\n",
       "    }\n",
       "\n",
       "    .dataframe thead th {\n",
       "        text-align: right;\n",
       "    }\n",
       "</style>\n",
       "<table border=\"1\" class=\"dataframe\">\n",
       "  <thead>\n",
       "    <tr style=\"text-align: right;\">\n",
       "      <th></th>\n",
       "      <th>User</th>\n",
       "      <th>Movie</th>\n",
       "      <th>Global_Average</th>\n",
       "      <th>User_Average</th>\n",
       "      <th>Movie_Average</th>\n",
       "      <th>SimUser1</th>\n",
       "      <th>SimUser2</th>\n",
       "      <th>SimUser3</th>\n",
       "      <th>SimUser4</th>\n",
       "      <th>SimUser5</th>\n",
       "    </tr>\n",
       "  </thead>\n",
       "  <tbody>\n",
       "    <tr>\n",
       "      <th>0</th>\n",
       "      <td>36</td>\n",
       "      <td>0</td>\n",
       "      <td>3.892523</td>\n",
       "      <td>3.732558</td>\n",
       "      <td>3.379412</td>\n",
       "      <td>3129</td>\n",
       "      <td>7951</td>\n",
       "      <td>3819</td>\n",
       "      <td>9538</td>\n",
       "      <td>8531</td>\n",
       "    </tr>\n",
       "    <tr>\n",
       "      <th>1</th>\n",
       "      <td>72</td>\n",
       "      <td>0</td>\n",
       "      <td>3.892523</td>\n",
       "      <td>3.539326</td>\n",
       "      <td>3.379412</td>\n",
       "      <td>4933</td>\n",
       "      <td>4</td>\n",
       "      <td>6852</td>\n",
       "      <td>8338</td>\n",
       "      <td>8051</td>\n",
       "    </tr>\n",
       "    <tr>\n",
       "      <th>2</th>\n",
       "      <td>155</td>\n",
       "      <td>0</td>\n",
       "      <td>3.892523</td>\n",
       "      <td>4.276860</td>\n",
       "      <td>3.379412</td>\n",
       "      <td>5901</td>\n",
       "      <td>6100</td>\n",
       "      <td>9406</td>\n",
       "      <td>823</td>\n",
       "      <td>2889</td>\n",
       "    </tr>\n",
       "    <tr>\n",
       "      <th>3</th>\n",
       "      <td>159</td>\n",
       "      <td>0</td>\n",
       "      <td>3.892523</td>\n",
       "      <td>3.746212</td>\n",
       "      <td>3.379412</td>\n",
       "      <td>5288</td>\n",
       "      <td>999</td>\n",
       "      <td>1984</td>\n",
       "      <td>5855</td>\n",
       "      <td>742</td>\n",
       "    </tr>\n",
       "    <tr>\n",
       "      <th>4</th>\n",
       "      <td>247</td>\n",
       "      <td>0</td>\n",
       "      <td>3.892523</td>\n",
       "      <td>3.899329</td>\n",
       "      <td>3.379412</td>\n",
       "      <td>5848</td>\n",
       "      <td>2356</td>\n",
       "      <td>5307</td>\n",
       "      <td>3227</td>\n",
       "      <td>5705</td>\n",
       "    </tr>\n",
       "  </tbody>\n",
       "</table>\n",
       "</div>"
      ],
      "text/plain": [
       "   User  Movie  Global_Average  User_Average  Movie_Average  SimUser1  \\\n",
       "0    36      0        3.892523      3.732558       3.379412      3129   \n",
       "1    72      0        3.892523      3.539326       3.379412      4933   \n",
       "2   155      0        3.892523      4.276860       3.379412      5901   \n",
       "3   159      0        3.892523      3.746212       3.379412      5288   \n",
       "4   247      0        3.892523      3.899329       3.379412      5848   \n",
       "\n",
       "   SimUser2  SimUser3  SimUser4  SimUser5  \n",
       "0      7951      3819      9538      8531  \n",
       "1         4      6852      8338      8051  \n",
       "2      6100      9406       823      2889  \n",
       "3       999      1984      5855       742  \n",
       "4      2356      5307      3227      5705  "
      ]
     },
     "execution_count": 516,
     "metadata": {},
     "output_type": "execute_result"
    }
   ],
   "source": [
    "df_sub.head()"
   ]
  },
  {
   "cell_type": "markdown",
   "metadata": {},
   "source": [
    "We get the user that are similar "
   ]
  },
  {
   "cell_type": "code",
   "execution_count": 480,
   "metadata": {},
   "outputs": [],
   "source": [
    "df_sub['SimUser1'] = df_sub['User'].map(lambda x: int(user_simil_matrix[x][0]))\n",
    "df_sub['SimUser2'] = df_sub['User'].map(lambda x: int(user_simil_matrix[x][1]))\n",
    "df_sub['SimUser3'] = df_sub['User'].map(lambda x: int(user_simil_matrix[x][2]))\n",
    "df_sub['SimUser4'] = df_sub['User'].map(lambda x: int(user_simil_matrix[x][3]))\n",
    "df_sub['SimUser5'] = df_sub['User'].map(lambda x: int(user_simil_matrix[x][4]))"
   ]
  },
  {
   "cell_type": "code",
   "execution_count": 482,
   "metadata": {},
   "outputs": [
    {
     "data": {
      "text/html": [
       "<div>\n",
       "<style scoped>\n",
       "    .dataframe tbody tr th:only-of-type {\n",
       "        vertical-align: middle;\n",
       "    }\n",
       "\n",
       "    .dataframe tbody tr th {\n",
       "        vertical-align: top;\n",
       "    }\n",
       "\n",
       "    .dataframe thead th {\n",
       "        text-align: right;\n",
       "    }\n",
       "</style>\n",
       "<table border=\"1\" class=\"dataframe\">\n",
       "  <thead>\n",
       "    <tr style=\"text-align: right;\">\n",
       "      <th></th>\n",
       "      <th>User</th>\n",
       "      <th>Movie</th>\n",
       "      <th>Global_Average</th>\n",
       "      <th>User_Average</th>\n",
       "      <th>Movie_Average</th>\n",
       "      <th>SimUser1</th>\n",
       "      <th>SimUser2</th>\n",
       "      <th>SimUser3</th>\n",
       "      <th>SimUser4</th>\n",
       "      <th>SimUser5</th>\n",
       "    </tr>\n",
       "  </thead>\n",
       "  <tbody>\n",
       "    <tr>\n",
       "      <th>0</th>\n",
       "      <td>36</td>\n",
       "      <td>0</td>\n",
       "      <td>3.892523</td>\n",
       "      <td>3.732558</td>\n",
       "      <td>3.379412</td>\n",
       "      <td>3129</td>\n",
       "      <td>7951</td>\n",
       "      <td>3819</td>\n",
       "      <td>9538</td>\n",
       "      <td>8531</td>\n",
       "    </tr>\n",
       "    <tr>\n",
       "      <th>1</th>\n",
       "      <td>72</td>\n",
       "      <td>0</td>\n",
       "      <td>3.892523</td>\n",
       "      <td>3.539326</td>\n",
       "      <td>3.379412</td>\n",
       "      <td>4933</td>\n",
       "      <td>4</td>\n",
       "      <td>6852</td>\n",
       "      <td>8338</td>\n",
       "      <td>8051</td>\n",
       "    </tr>\n",
       "    <tr>\n",
       "      <th>2</th>\n",
       "      <td>155</td>\n",
       "      <td>0</td>\n",
       "      <td>3.892523</td>\n",
       "      <td>4.276860</td>\n",
       "      <td>3.379412</td>\n",
       "      <td>5901</td>\n",
       "      <td>6100</td>\n",
       "      <td>9406</td>\n",
       "      <td>823</td>\n",
       "      <td>2889</td>\n",
       "    </tr>\n",
       "    <tr>\n",
       "      <th>3</th>\n",
       "      <td>159</td>\n",
       "      <td>0</td>\n",
       "      <td>3.892523</td>\n",
       "      <td>3.746212</td>\n",
       "      <td>3.379412</td>\n",
       "      <td>5288</td>\n",
       "      <td>999</td>\n",
       "      <td>1984</td>\n",
       "      <td>5855</td>\n",
       "      <td>742</td>\n",
       "    </tr>\n",
       "    <tr>\n",
       "      <th>4</th>\n",
       "      <td>247</td>\n",
       "      <td>0</td>\n",
       "      <td>3.892523</td>\n",
       "      <td>3.899329</td>\n",
       "      <td>3.379412</td>\n",
       "      <td>5848</td>\n",
       "      <td>2356</td>\n",
       "      <td>5307</td>\n",
       "      <td>3227</td>\n",
       "      <td>5705</td>\n",
       "    </tr>\n",
       "  </tbody>\n",
       "</table>\n",
       "</div>"
      ],
      "text/plain": [
       "   User  Movie  Global_Average  User_Average  Movie_Average  SimUser1  \\\n",
       "0    36      0        3.892523      3.732558       3.379412      3129   \n",
       "1    72      0        3.892523      3.539326       3.379412      4933   \n",
       "2   155      0        3.892523      4.276860       3.379412      5901   \n",
       "3   159      0        3.892523      3.746212       3.379412      5288   \n",
       "4   247      0        3.892523      3.899329       3.379412      5848   \n",
       "\n",
       "   SimUser2  SimUser3  SimUser4  SimUser5  \n",
       "0      7951      3819      9538      8531  \n",
       "1         4      6852      8338      8051  \n",
       "2      6100      9406       823      2889  \n",
       "3       999      1984      5855       742  \n",
       "4      2356      5307      3227      5705  "
      ]
     },
     "execution_count": 482,
     "metadata": {},
     "output_type": "execute_result"
    }
   ],
   "source": [
    "df_sub.head()"
   ]
  },
  {
   "cell_type": "markdown",
   "metadata": {},
   "source": [
    "For each similar user need to find the rating that he put for that movie if not available put the average rating of that user as an estimator. "
   ]
  },
  {
   "cell_type": "code",
   "execution_count": 520,
   "metadata": {},
   "outputs": [],
   "source": [
    "def PredUserfunction1(row):\n",
    "    if(row.Movie in new_movies or sparse_matrix[row['SimUser1'],row['Movie']] == 0):\n",
    "        return user_mean[int(row['SimUser1'])]\n",
    "    else:\n",
    "        return sparse_matrix[row['SimUser1'],row['Movie']]"
   ]
  },
  {
   "cell_type": "code",
   "execution_count": 521,
   "metadata": {},
   "outputs": [],
   "source": [
    "df_sub['SimUser1'] = df_sub.apply(PredUserfunction1,axis=1)"
   ]
  },
  {
   "cell_type": "code",
   "execution_count": 522,
   "metadata": {},
   "outputs": [],
   "source": [
    "def PredUserfunction2(row):\n",
    "    if(row.Movie in new_movies or sparse_matrix[row['SimUser2'],row['Movie']] == 0):\n",
    "        return user_mean[int(row['SimUser2'])]\n",
    "    else:\n",
    "        return sparse_matrix[row['SimUser2'],row['Movie']]"
   ]
  },
  {
   "cell_type": "code",
   "execution_count": 523,
   "metadata": {},
   "outputs": [],
   "source": [
    "df_sub['SimUser2'] = df_sub.apply(PredUserfunction2,axis=1)"
   ]
  },
  {
   "cell_type": "code",
   "execution_count": 524,
   "metadata": {},
   "outputs": [],
   "source": [
    "def PredUserfunction3(row):\n",
    "    if(row.Movie in new_movies or sparse_matrix[row['SimUser3'],row['Movie']] == 0):\n",
    "        return user_mean[int(row['SimUser3'])]\n",
    "    else:\n",
    "        return sparse_matrix[row['SimUser3'],row['Movie']]"
   ]
  },
  {
   "cell_type": "code",
   "execution_count": 525,
   "metadata": {},
   "outputs": [],
   "source": [
    "df_sub['SimUser3'] = df_sub.apply(PredUserfunction3,axis=1)"
   ]
  },
  {
   "cell_type": "code",
   "execution_count": 528,
   "metadata": {},
   "outputs": [],
   "source": [
    "def PredUserfunction4(row):\n",
    "    if(row.Movie in new_movies or sparse_matrix[row['SimUser4'],row['Movie']] == 0):\n",
    "        return user_mean[int(row['SimUser4'])]\n",
    "    else:\n",
    "        return sparse_matrix[row['SimUser4'],row['Movie']]"
   ]
  },
  {
   "cell_type": "code",
   "execution_count": 529,
   "metadata": {},
   "outputs": [],
   "source": [
    "df_sub['SimUser4'] = df_sub.apply(PredUserfunction4,axis=1)"
   ]
  },
  {
   "cell_type": "code",
   "execution_count": 530,
   "metadata": {},
   "outputs": [],
   "source": [
    "def PredUserfunction5(row):\n",
    "    if(row.Movie in new_movies or sparse_matrix[row['SimUser5'],row['Movie']] == 0):\n",
    "        return user_mean[int(row['SimUser5'])]\n",
    "    else:\n",
    "        return sparse_matrix[row['SimUser5'],row['Movie']]"
   ]
  },
  {
   "cell_type": "code",
   "execution_count": 531,
   "metadata": {},
   "outputs": [],
   "source": [
    "df_sub['SimUser5'] = df_sub.apply(PredUserfunction5,axis=1)"
   ]
  },
  {
   "cell_type": "code",
   "execution_count": null,
   "metadata": {},
   "outputs": [],
   "source": [
    "df_sub.head()"
   ]
  },
  {
   "cell_type": "markdown",
   "metadata": {},
   "source": [
    "We now get the movies that are similar but here we have the problem that we have missing movies sometimes so we put the average rating as an estimator. "
   ]
  },
  {
   "cell_type": "code",
   "execution_count": 544,
   "metadata": {},
   "outputs": [],
   "source": [
    "def movie_function1(row):\n",
    "    if(row.Movie in new_movies):   #if new_movie\n",
    "        return global_average\n",
    "    else:\n",
    "        \n",
    "        index_movie1 = int(movie_simil_matrix[int(row.Movie)][0])   #get index of similar movie\n",
    "        \n",
    "        if(sparse_matrix[row['User'],index_movie1] == 0):     #if not graded by the user give the movie mean rating\n",
    "            return movie_mean[index_movie1]\n",
    "        else:                                                 #if graded by the user \n",
    "            return sparse_matrix[row['User'],index_movie1]  "
   ]
  },
  {
   "cell_type": "code",
   "execution_count": 545,
   "metadata": {},
   "outputs": [],
   "source": [
    "df_sub['SimMovie1'] = df_sub.apply(movie_function1, axis=1)"
   ]
  },
  {
   "cell_type": "code",
   "execution_count": 548,
   "metadata": {},
   "outputs": [],
   "source": [
    "def movie_function2(row):\n",
    "    if(row.Movie in new_movies):   #if new_movie\n",
    "        return global_average\n",
    "    else:\n",
    "        \n",
    "        index_movie2 = int(movie_simil_matrix[int(row.Movie)][1])   #get index of similar movie\n",
    "        \n",
    "        if(sparse_matrix[row['User'],index_movie2] == 0):     #if not graded by the user give the movie mean rating\n",
    "            return movie_mean[index_movie2]\n",
    "        else:                                                 #if graded by the user \n",
    "            return sparse_matrix[row['User'],index_movie2]  "
   ]
  },
  {
   "cell_type": "code",
   "execution_count": 549,
   "metadata": {},
   "outputs": [],
   "source": [
    "df_sub['SimMovie2'] = df_sub.apply(movie_function2, axis=1)"
   ]
  },
  {
   "cell_type": "code",
   "execution_count": 552,
   "metadata": {},
   "outputs": [],
   "source": [
    "def movie_function3(row):\n",
    "    if(row.Movie in new_movies):   #if new_movie\n",
    "        return global_average\n",
    "    else:\n",
    "        \n",
    "        index_movie3 = int(movie_simil_matrix[int(row.Movie)][2])   #get index of similar movie\n",
    "        \n",
    "        if(sparse_matrix[row['User'],index_movie3] == 0):     #if not graded by the user give the movie mean rating\n",
    "            return movie_mean[index_movie3]\n",
    "        else:                                                 #if graded by the user \n",
    "            return sparse_matrix[row['User'],index_movie3]  "
   ]
  },
  {
   "cell_type": "code",
   "execution_count": 553,
   "metadata": {},
   "outputs": [],
   "source": [
    "df_sub['SimMovie3'] = df_sub.apply(movie_function3, axis=1)"
   ]
  },
  {
   "cell_type": "code",
   "execution_count": 554,
   "metadata": {},
   "outputs": [],
   "source": [
    "def movie_function4(row):\n",
    "    if(row.Movie in new_movies):   #if new_movie\n",
    "        return global_average\n",
    "    else:\n",
    "        \n",
    "        index_movie4 = int(movie_simil_matrix[int(row.Movie)][3])   #get index of similar movie\n",
    "        \n",
    "        if(sparse_matrix[row['User'],index_movie4] == 0):     #if not graded by the user give the movie mean rating\n",
    "            return movie_mean[index_movie4]\n",
    "        else:                                                 #if graded by the user \n",
    "            return sparse_matrix[row['User'],index_movie4]  "
   ]
  },
  {
   "cell_type": "code",
   "execution_count": 558,
   "metadata": {},
   "outputs": [],
   "source": [
    "df_sub['SimMovie4'] = df_sub.apply(movie_function4, axis=1)"
   ]
  },
  {
   "cell_type": "code",
   "execution_count": 556,
   "metadata": {},
   "outputs": [],
   "source": [
    "def movie_function5(row):\n",
    "    if(row.Movie in new_movies):   #if new_movie\n",
    "        return global_average\n",
    "    else:\n",
    "        \n",
    "        index_movie5 = int(movie_simil_matrix[int(row.Movie)][4])   #get index of similar movie\n",
    "        \n",
    "        if(sparse_matrix[row['User'],index_movie5] == 0):     #if not graded by the user give the movie mean rating\n",
    "            return movie_mean[index_movie5]\n",
    "        else:                                                 #if graded by the user \n",
    "            return sparse_matrix[row['User'],index_movie5]  "
   ]
  },
  {
   "cell_type": "code",
   "execution_count": 559,
   "metadata": {},
   "outputs": [],
   "source": [
    "df_sub['SimMovie5'] = df_sub.apply(movie_function5, axis=1)"
   ]
  },
  {
   "cell_type": "markdown",
   "metadata": {},
   "source": [
    "I save the data featurized"
   ]
  },
  {
   "cell_type": "code",
   "execution_count": 594,
   "metadata": {},
   "outputs": [],
   "source": [
    "file_name_pred = 'featured_data_pred.pk'\n",
    "df_sub.to_pickle(file_name_pred)  "
   ]
  },
  {
   "cell_type": "code",
   "execution_count": 595,
   "metadata": {},
   "outputs": [],
   "source": [
    "df_sub_load= pd.read_pickle(file_name_pred)"
   ]
  },
  {
   "cell_type": "code",
   "execution_count": 596,
   "metadata": {},
   "outputs": [
    {
     "data": {
      "text/html": [
       "<div>\n",
       "<style scoped>\n",
       "    .dataframe tbody tr th:only-of-type {\n",
       "        vertical-align: middle;\n",
       "    }\n",
       "\n",
       "    .dataframe tbody tr th {\n",
       "        vertical-align: top;\n",
       "    }\n",
       "\n",
       "    .dataframe thead th {\n",
       "        text-align: right;\n",
       "    }\n",
       "</style>\n",
       "<table border=\"1\" class=\"dataframe\">\n",
       "  <thead>\n",
       "    <tr style=\"text-align: right;\">\n",
       "      <th></th>\n",
       "      <th>User</th>\n",
       "      <th>Movie</th>\n",
       "      <th>Global_Average</th>\n",
       "      <th>User_Average</th>\n",
       "      <th>Movie_Average</th>\n",
       "      <th>SimUser1</th>\n",
       "      <th>SimUser2</th>\n",
       "      <th>SimUser3</th>\n",
       "      <th>SimUser4</th>\n",
       "      <th>SimUser5</th>\n",
       "      <th>SimMovie1</th>\n",
       "      <th>SimMovie2</th>\n",
       "      <th>SimMovie3</th>\n",
       "      <th>SimMovie4</th>\n",
       "      <th>SimMovie5</th>\n",
       "    </tr>\n",
       "  </thead>\n",
       "  <tbody>\n",
       "    <tr>\n",
       "      <th>0</th>\n",
       "      <td>36</td>\n",
       "      <td>0</td>\n",
       "      <td>3.892523</td>\n",
       "      <td>3.732558</td>\n",
       "      <td>3.379412</td>\n",
       "      <td>3.000000</td>\n",
       "      <td>3.537313</td>\n",
       "      <td>4.121739</td>\n",
       "      <td>3.000000</td>\n",
       "      <td>3.983193</td>\n",
       "      <td>4.000000</td>\n",
       "      <td>4.002893</td>\n",
       "      <td>3.971499</td>\n",
       "      <td>3.240566</td>\n",
       "      <td>3.240566</td>\n",
       "    </tr>\n",
       "    <tr>\n",
       "      <th>1</th>\n",
       "      <td>72</td>\n",
       "      <td>0</td>\n",
       "      <td>3.892523</td>\n",
       "      <td>3.539326</td>\n",
       "      <td>3.379412</td>\n",
       "      <td>3.775701</td>\n",
       "      <td>3.983193</td>\n",
       "      <td>3.587786</td>\n",
       "      <td>4.073913</td>\n",
       "      <td>4.157143</td>\n",
       "      <td>3.774063</td>\n",
       "      <td>4.002893</td>\n",
       "      <td>3.000000</td>\n",
       "      <td>3.240566</td>\n",
       "      <td>3.240566</td>\n",
       "    </tr>\n",
       "    <tr>\n",
       "      <th>2</th>\n",
       "      <td>155</td>\n",
       "      <td>0</td>\n",
       "      <td>3.892523</td>\n",
       "      <td>4.276860</td>\n",
       "      <td>3.379412</td>\n",
       "      <td>2.000000</td>\n",
       "      <td>4.150602</td>\n",
       "      <td>4.059925</td>\n",
       "      <td>4.251256</td>\n",
       "      <td>3.581522</td>\n",
       "      <td>4.000000</td>\n",
       "      <td>4.002893</td>\n",
       "      <td>3.000000</td>\n",
       "      <td>3.240566</td>\n",
       "      <td>3.240566</td>\n",
       "    </tr>\n",
       "    <tr>\n",
       "      <th>3</th>\n",
       "      <td>159</td>\n",
       "      <td>0</td>\n",
       "      <td>3.892523</td>\n",
       "      <td>3.746212</td>\n",
       "      <td>3.379412</td>\n",
       "      <td>4.000000</td>\n",
       "      <td>4.107817</td>\n",
       "      <td>4.464286</td>\n",
       "      <td>4.231023</td>\n",
       "      <td>4.000000</td>\n",
       "      <td>3.774063</td>\n",
       "      <td>4.002893</td>\n",
       "      <td>3.000000</td>\n",
       "      <td>3.240566</td>\n",
       "      <td>3.240566</td>\n",
       "    </tr>\n",
       "    <tr>\n",
       "      <th>4</th>\n",
       "      <td>247</td>\n",
       "      <td>0</td>\n",
       "      <td>3.892523</td>\n",
       "      <td>3.899329</td>\n",
       "      <td>3.379412</td>\n",
       "      <td>4.104265</td>\n",
       "      <td>3.000000</td>\n",
       "      <td>2.000000</td>\n",
       "      <td>4.307463</td>\n",
       "      <td>4.065934</td>\n",
       "      <td>3.774063</td>\n",
       "      <td>4.002893</td>\n",
       "      <td>3.971499</td>\n",
       "      <td>3.240566</td>\n",
       "      <td>3.240566</td>\n",
       "    </tr>\n",
       "  </tbody>\n",
       "</table>\n",
       "</div>"
      ],
      "text/plain": [
       "   User  Movie  Global_Average  User_Average  Movie_Average  SimUser1  \\\n",
       "0    36      0        3.892523      3.732558       3.379412  3.000000   \n",
       "1    72      0        3.892523      3.539326       3.379412  3.775701   \n",
       "2   155      0        3.892523      4.276860       3.379412  2.000000   \n",
       "3   159      0        3.892523      3.746212       3.379412  4.000000   \n",
       "4   247      0        3.892523      3.899329       3.379412  4.104265   \n",
       "\n",
       "   SimUser2  SimUser3  SimUser4  SimUser5  SimMovie1  SimMovie2  SimMovie3  \\\n",
       "0  3.537313  4.121739  3.000000  3.983193   4.000000   4.002893   3.971499   \n",
       "1  3.983193  3.587786  4.073913  4.157143   3.774063   4.002893   3.000000   \n",
       "2  4.150602  4.059925  4.251256  3.581522   4.000000   4.002893   3.000000   \n",
       "3  4.107817  4.464286  4.231023  4.000000   3.774063   4.002893   3.000000   \n",
       "4  3.000000  2.000000  4.307463  4.065934   3.774063   4.002893   3.971499   \n",
       "\n",
       "   SimMovie4  SimMovie5  \n",
       "0   3.240566   3.240566  \n",
       "1   3.240566   3.240566  \n",
       "2   3.240566   3.240566  \n",
       "3   3.240566   3.240566  \n",
       "4   3.240566   3.240566  "
      ]
     },
     "execution_count": 596,
     "metadata": {},
     "output_type": "execute_result"
    }
   ],
   "source": [
    "df_sub_load.head()"
   ]
  },
  {
   "cell_type": "code",
   "execution_count": 597,
   "metadata": {},
   "outputs": [],
   "source": [
    "df_sub_load = df_sub_load.drop(['User','Movie'],axis =1 )"
   ]
  },
  {
   "cell_type": "code",
   "execution_count": 598,
   "metadata": {},
   "outputs": [],
   "source": [
    "y_pred = algo.predict(df_sub_load)"
   ]
  },
  {
   "cell_type": "code",
   "execution_count": 603,
   "metadata": {},
   "outputs": [],
   "source": [
    "y_pred_rounded = []\n",
    "for i in y_pred:\n",
    "    y_pred_rounded.append(int(round(i)))"
   ]
  },
  {
   "cell_type": "code",
   "execution_count": 608,
   "metadata": {},
   "outputs": [],
   "source": [
    "u.create_csv_submission(ids,y_pred_rounded,\"geralsucks.csv\")"
   ]
  },
  {
   "cell_type": "markdown",
   "metadata": {},
   "source": [
    "# Surprise"
   ]
  },
  {
   "cell_type": "markdown",
   "metadata": {},
   "source": [
    "## Reader of Surprise"
   ]
  },
  {
   "cell_type": "code",
   "execution_count": 21,
   "metadata": {},
   "outputs": [],
   "source": [
    "reader=Reader(rating_scale=(1.0,5.0))\n",
    "formatted_data= Dataset.load_from_df(df[['user','item','rating']],reader)\n",
    "trainset = formatted_data.build_full_trainset()"
   ]
  },
  {
   "cell_type": "markdown",
   "metadata": {},
   "source": [
    "## Baseline"
   ]
  },
  {
   "cell_type": "code",
   "execution_count": 26,
   "metadata": {},
   "outputs": [
    {
     "name": "stdout",
     "output_type": "stream",
     "text": [
      "Estimating biases using sgd...\n",
      "\n",
      "\n",
      " Test ---rmse :0.9829492520266703  mape :0.28624346888312063 \n"
     ]
    }
   ],
   "source": [
    "from surprise import BaselineOnly\n",
    "\n",
    "sim_options = {'user_based' : False,'name': 'pearson_baseline','shrinkage': 100,'min_support': 2}\n",
    "bo = {'method': 'sgd'}\n",
    "\n",
    "\n",
    "bsl_options = {'method': 'sgd',\n",
    "               'learning_rate': .001\n",
    "               }\n",
    "\n",
    "algo = BaselineOnly(bsl_options=bsl_options)\n",
    "\n",
    "algo.fit(trainset)\n",
    "\n",
    "test_preds = algo.test(trainset.build_testset())\n",
    "\n",
    "actual = np.array([pred.r_ui for pred in test_preds])\n",
    "pred = np.array([pred.est for pred in test_preds])\n",
    "\n",
    "rmse = np.sqrt(np.mean((pred - actual)**2))\n",
    "mape = np.mean(np.abs(pred - actual)/actual)\n",
    "\n",
    "print('\\n\\n Test ---rmse :{}  mape :{} '.format(rmse,mape))\n",
    "\n",
    "# param_grid = {}\n",
    "# gs = GridSearchCV(BaselineOnly, param_grid, measures=['rmse', 'mae'], cv=3,joblib_verbose=1, n_jobs=-1)\n",
    "# gs.fit(trainset)\n",
    "# print(gs.best_score['rmse'])"
   ]
  },
  {
   "cell_type": "code",
   "execution_count": 27,
   "metadata": {},
   "outputs": [],
   "source": [
    "ids, preds = u.predict_on_model(algo)\n",
    "u.create_csv_submission(ids, preds, \"submissionBase.csv\")"
   ]
  },
  {
   "cell_type": "markdown",
   "metadata": {},
   "source": [
    "## SVD"
   ]
  },
  {
   "cell_type": "code",
   "execution_count": 285,
   "metadata": {},
   "outputs": [
    {
     "ename": "KeyboardInterrupt",
     "evalue": "",
     "output_type": "error",
     "traceback": [
      "\u001b[1;31m---------------------------------------------------------------------------\u001b[0m",
      "\u001b[1;31mKeyboardInterrupt\u001b[0m                         Traceback (most recent call last)",
      "\u001b[1;32m<ipython-input-285-79331c335481>\u001b[0m in \u001b[0;36m<module>\u001b[1;34m\u001b[0m\n\u001b[0;32m      3\u001b[0m \u001b[1;33m\u001b[0m\u001b[0m\n\u001b[0;32m      4\u001b[0m \u001b[0malgo\u001b[0m \u001b[1;33m=\u001b[0m \u001b[0mSVD\u001b[0m\u001b[1;33m(\u001b[0m\u001b[0mn_factors\u001b[0m\u001b[1;33m=\u001b[0m\u001b[1;36m1000\u001b[0m\u001b[1;33m,\u001b[0m \u001b[0mn_epochs\u001b[0m\u001b[1;33m=\u001b[0m\u001b[1;36m20\u001b[0m\u001b[1;33m,\u001b[0m \u001b[0mlr_all\u001b[0m\u001b[1;33m=\u001b[0m\u001b[1;36m0.005\u001b[0m\u001b[1;33m,\u001b[0m\u001b[0mreg_all\u001b[0m\u001b[1;33m=\u001b[0m\u001b[1;36m0.02\u001b[0m\u001b[1;33m)\u001b[0m\u001b[1;33m\u001b[0m\u001b[1;33m\u001b[0m\u001b[0m\n\u001b[1;32m----> 5\u001b[1;33m \u001b[0mcross_validate\u001b[0m\u001b[1;33m(\u001b[0m\u001b[0malgo\u001b[0m\u001b[1;33m,\u001b[0m \u001b[0mformatted_data\u001b[0m\u001b[1;33m,\u001b[0m \u001b[0mverbose\u001b[0m\u001b[1;33m=\u001b[0m\u001b[1;32mTrue\u001b[0m\u001b[1;33m,\u001b[0m\u001b[0mcv\u001b[0m\u001b[1;33m=\u001b[0m\u001b[1;36m3\u001b[0m\u001b[1;33m,\u001b[0m \u001b[0mmeasures\u001b[0m\u001b[1;33m=\u001b[0m\u001b[1;33m[\u001b[0m\u001b[1;34m'RMSE'\u001b[0m\u001b[1;33m,\u001b[0m \u001b[1;34m'MAE'\u001b[0m\u001b[1;33m]\u001b[0m\u001b[1;33m)\u001b[0m\u001b[1;31m# FOUND RMSE: 1.0276 locally\u001b[0m\u001b[1;33m\u001b[0m\u001b[1;33m\u001b[0m\u001b[0m\n\u001b[0m\u001b[0;32m      6\u001b[0m \u001b[1;33m\u001b[0m\u001b[0m\n\u001b[0;32m      7\u001b[0m \u001b[1;33m\u001b[0m\u001b[0m\n",
      "\u001b[1;32mC:\\Users\\Ridha\\Anaconda3\\lib\\site-packages\\surprise\\model_selection\\validation.py\u001b[0m in \u001b[0;36mcross_validate\u001b[1;34m(algo, data, measures, cv, return_train_measures, n_jobs, pre_dispatch, verbose)\u001b[0m\n\u001b[0;32m     99\u001b[0m                                            return_train_measures)\n\u001b[0;32m    100\u001b[0m                     for (trainset, testset) in cv.split(data))\n\u001b[1;32m--> 101\u001b[1;33m     \u001b[0mout\u001b[0m \u001b[1;33m=\u001b[0m \u001b[0mParallel\u001b[0m\u001b[1;33m(\u001b[0m\u001b[0mn_jobs\u001b[0m\u001b[1;33m=\u001b[0m\u001b[0mn_jobs\u001b[0m\u001b[1;33m,\u001b[0m \u001b[0mpre_dispatch\u001b[0m\u001b[1;33m=\u001b[0m\u001b[0mpre_dispatch\u001b[0m\u001b[1;33m)\u001b[0m\u001b[1;33m(\u001b[0m\u001b[0mdelayed_list\u001b[0m\u001b[1;33m)\u001b[0m\u001b[1;33m\u001b[0m\u001b[1;33m\u001b[0m\u001b[0m\n\u001b[0m\u001b[0;32m    102\u001b[0m \u001b[1;33m\u001b[0m\u001b[0m\n\u001b[0;32m    103\u001b[0m     (test_measures_dicts,\n",
      "\u001b[1;32mC:\\Users\\Ridha\\Anaconda3\\lib\\site-packages\\joblib\\parallel.py\u001b[0m in \u001b[0;36m__call__\u001b[1;34m(self, iterable)\u001b[0m\n\u001b[0;32m   1001\u001b[0m             \u001b[1;31m# remaining jobs.\u001b[0m\u001b[1;33m\u001b[0m\u001b[1;33m\u001b[0m\u001b[1;33m\u001b[0m\u001b[0m\n\u001b[0;32m   1002\u001b[0m             \u001b[0mself\u001b[0m\u001b[1;33m.\u001b[0m\u001b[0m_iterating\u001b[0m \u001b[1;33m=\u001b[0m \u001b[1;32mFalse\u001b[0m\u001b[1;33m\u001b[0m\u001b[1;33m\u001b[0m\u001b[0m\n\u001b[1;32m-> 1003\u001b[1;33m             \u001b[1;32mif\u001b[0m \u001b[0mself\u001b[0m\u001b[1;33m.\u001b[0m\u001b[0mdispatch_one_batch\u001b[0m\u001b[1;33m(\u001b[0m\u001b[0miterator\u001b[0m\u001b[1;33m)\u001b[0m\u001b[1;33m:\u001b[0m\u001b[1;33m\u001b[0m\u001b[1;33m\u001b[0m\u001b[0m\n\u001b[0m\u001b[0;32m   1004\u001b[0m                 \u001b[0mself\u001b[0m\u001b[1;33m.\u001b[0m\u001b[0m_iterating\u001b[0m \u001b[1;33m=\u001b[0m \u001b[0mself\u001b[0m\u001b[1;33m.\u001b[0m\u001b[0m_original_iterator\u001b[0m \u001b[1;32mis\u001b[0m \u001b[1;32mnot\u001b[0m \u001b[1;32mNone\u001b[0m\u001b[1;33m\u001b[0m\u001b[1;33m\u001b[0m\u001b[0m\n\u001b[0;32m   1005\u001b[0m \u001b[1;33m\u001b[0m\u001b[0m\n",
      "\u001b[1;32mC:\\Users\\Ridha\\Anaconda3\\lib\\site-packages\\joblib\\parallel.py\u001b[0m in \u001b[0;36mdispatch_one_batch\u001b[1;34m(self, iterator)\u001b[0m\n\u001b[0;32m    832\u001b[0m                 \u001b[1;32mreturn\u001b[0m \u001b[1;32mFalse\u001b[0m\u001b[1;33m\u001b[0m\u001b[1;33m\u001b[0m\u001b[0m\n\u001b[0;32m    833\u001b[0m             \u001b[1;32melse\u001b[0m\u001b[1;33m:\u001b[0m\u001b[1;33m\u001b[0m\u001b[1;33m\u001b[0m\u001b[0m\n\u001b[1;32m--> 834\u001b[1;33m                 \u001b[0mself\u001b[0m\u001b[1;33m.\u001b[0m\u001b[0m_dispatch\u001b[0m\u001b[1;33m(\u001b[0m\u001b[0mtasks\u001b[0m\u001b[1;33m)\u001b[0m\u001b[1;33m\u001b[0m\u001b[1;33m\u001b[0m\u001b[0m\n\u001b[0m\u001b[0;32m    835\u001b[0m                 \u001b[1;32mreturn\u001b[0m \u001b[1;32mTrue\u001b[0m\u001b[1;33m\u001b[0m\u001b[1;33m\u001b[0m\u001b[0m\n\u001b[0;32m    836\u001b[0m \u001b[1;33m\u001b[0m\u001b[0m\n",
      "\u001b[1;32mC:\\Users\\Ridha\\Anaconda3\\lib\\site-packages\\joblib\\parallel.py\u001b[0m in \u001b[0;36m_dispatch\u001b[1;34m(self, batch)\u001b[0m\n\u001b[0;32m    751\u001b[0m         \u001b[1;32mwith\u001b[0m \u001b[0mself\u001b[0m\u001b[1;33m.\u001b[0m\u001b[0m_lock\u001b[0m\u001b[1;33m:\u001b[0m\u001b[1;33m\u001b[0m\u001b[1;33m\u001b[0m\u001b[0m\n\u001b[0;32m    752\u001b[0m             \u001b[0mjob_idx\u001b[0m \u001b[1;33m=\u001b[0m \u001b[0mlen\u001b[0m\u001b[1;33m(\u001b[0m\u001b[0mself\u001b[0m\u001b[1;33m.\u001b[0m\u001b[0m_jobs\u001b[0m\u001b[1;33m)\u001b[0m\u001b[1;33m\u001b[0m\u001b[1;33m\u001b[0m\u001b[0m\n\u001b[1;32m--> 753\u001b[1;33m             \u001b[0mjob\u001b[0m \u001b[1;33m=\u001b[0m \u001b[0mself\u001b[0m\u001b[1;33m.\u001b[0m\u001b[0m_backend\u001b[0m\u001b[1;33m.\u001b[0m\u001b[0mapply_async\u001b[0m\u001b[1;33m(\u001b[0m\u001b[0mbatch\u001b[0m\u001b[1;33m,\u001b[0m \u001b[0mcallback\u001b[0m\u001b[1;33m=\u001b[0m\u001b[0mcb\u001b[0m\u001b[1;33m)\u001b[0m\u001b[1;33m\u001b[0m\u001b[1;33m\u001b[0m\u001b[0m\n\u001b[0m\u001b[0;32m    754\u001b[0m             \u001b[1;31m# A job can complete so quickly than its callback is\u001b[0m\u001b[1;33m\u001b[0m\u001b[1;33m\u001b[0m\u001b[1;33m\u001b[0m\u001b[0m\n\u001b[0;32m    755\u001b[0m             \u001b[1;31m# called before we get here, causing self._jobs to\u001b[0m\u001b[1;33m\u001b[0m\u001b[1;33m\u001b[0m\u001b[1;33m\u001b[0m\u001b[0m\n",
      "\u001b[1;32mC:\\Users\\Ridha\\Anaconda3\\lib\\site-packages\\joblib\\_parallel_backends.py\u001b[0m in \u001b[0;36mapply_async\u001b[1;34m(self, func, callback)\u001b[0m\n\u001b[0;32m    199\u001b[0m     \u001b[1;32mdef\u001b[0m \u001b[0mapply_async\u001b[0m\u001b[1;33m(\u001b[0m\u001b[0mself\u001b[0m\u001b[1;33m,\u001b[0m \u001b[0mfunc\u001b[0m\u001b[1;33m,\u001b[0m \u001b[0mcallback\u001b[0m\u001b[1;33m=\u001b[0m\u001b[1;32mNone\u001b[0m\u001b[1;33m)\u001b[0m\u001b[1;33m:\u001b[0m\u001b[1;33m\u001b[0m\u001b[1;33m\u001b[0m\u001b[0m\n\u001b[0;32m    200\u001b[0m         \u001b[1;34m\"\"\"Schedule a func to be run\"\"\"\u001b[0m\u001b[1;33m\u001b[0m\u001b[1;33m\u001b[0m\u001b[0m\n\u001b[1;32m--> 201\u001b[1;33m         \u001b[0mresult\u001b[0m \u001b[1;33m=\u001b[0m \u001b[0mImmediateResult\u001b[0m\u001b[1;33m(\u001b[0m\u001b[0mfunc\u001b[0m\u001b[1;33m)\u001b[0m\u001b[1;33m\u001b[0m\u001b[1;33m\u001b[0m\u001b[0m\n\u001b[0m\u001b[0;32m    202\u001b[0m         \u001b[1;32mif\u001b[0m \u001b[0mcallback\u001b[0m\u001b[1;33m:\u001b[0m\u001b[1;33m\u001b[0m\u001b[1;33m\u001b[0m\u001b[0m\n\u001b[0;32m    203\u001b[0m             \u001b[0mcallback\u001b[0m\u001b[1;33m(\u001b[0m\u001b[0mresult\u001b[0m\u001b[1;33m)\u001b[0m\u001b[1;33m\u001b[0m\u001b[1;33m\u001b[0m\u001b[0m\n",
      "\u001b[1;32mC:\\Users\\Ridha\\Anaconda3\\lib\\site-packages\\joblib\\_parallel_backends.py\u001b[0m in \u001b[0;36m__init__\u001b[1;34m(self, batch)\u001b[0m\n\u001b[0;32m    580\u001b[0m         \u001b[1;31m# Don't delay the application, to avoid keeping the input\u001b[0m\u001b[1;33m\u001b[0m\u001b[1;33m\u001b[0m\u001b[1;33m\u001b[0m\u001b[0m\n\u001b[0;32m    581\u001b[0m         \u001b[1;31m# arguments in memory\u001b[0m\u001b[1;33m\u001b[0m\u001b[1;33m\u001b[0m\u001b[1;33m\u001b[0m\u001b[0m\n\u001b[1;32m--> 582\u001b[1;33m         \u001b[0mself\u001b[0m\u001b[1;33m.\u001b[0m\u001b[0mresults\u001b[0m \u001b[1;33m=\u001b[0m \u001b[0mbatch\u001b[0m\u001b[1;33m(\u001b[0m\u001b[1;33m)\u001b[0m\u001b[1;33m\u001b[0m\u001b[1;33m\u001b[0m\u001b[0m\n\u001b[0m\u001b[0;32m    583\u001b[0m \u001b[1;33m\u001b[0m\u001b[0m\n\u001b[0;32m    584\u001b[0m     \u001b[1;32mdef\u001b[0m \u001b[0mget\u001b[0m\u001b[1;33m(\u001b[0m\u001b[0mself\u001b[0m\u001b[1;33m)\u001b[0m\u001b[1;33m:\u001b[0m\u001b[1;33m\u001b[0m\u001b[1;33m\u001b[0m\u001b[0m\n",
      "\u001b[1;32mC:\\Users\\Ridha\\Anaconda3\\lib\\site-packages\\joblib\\parallel.py\u001b[0m in \u001b[0;36m__call__\u001b[1;34m(self)\u001b[0m\n\u001b[0;32m    254\u001b[0m         \u001b[1;32mwith\u001b[0m \u001b[0mparallel_backend\u001b[0m\u001b[1;33m(\u001b[0m\u001b[0mself\u001b[0m\u001b[1;33m.\u001b[0m\u001b[0m_backend\u001b[0m\u001b[1;33m,\u001b[0m \u001b[0mn_jobs\u001b[0m\u001b[1;33m=\u001b[0m\u001b[0mself\u001b[0m\u001b[1;33m.\u001b[0m\u001b[0m_n_jobs\u001b[0m\u001b[1;33m)\u001b[0m\u001b[1;33m:\u001b[0m\u001b[1;33m\u001b[0m\u001b[1;33m\u001b[0m\u001b[0m\n\u001b[0;32m    255\u001b[0m             return [func(*args, **kwargs)\n\u001b[1;32m--> 256\u001b[1;33m                     for func, args, kwargs in self.items]\n\u001b[0m\u001b[0;32m    257\u001b[0m \u001b[1;33m\u001b[0m\u001b[0m\n\u001b[0;32m    258\u001b[0m     \u001b[1;32mdef\u001b[0m \u001b[0m__len__\u001b[0m\u001b[1;33m(\u001b[0m\u001b[0mself\u001b[0m\u001b[1;33m)\u001b[0m\u001b[1;33m:\u001b[0m\u001b[1;33m\u001b[0m\u001b[1;33m\u001b[0m\u001b[0m\n",
      "\u001b[1;32mC:\\Users\\Ridha\\Anaconda3\\lib\\site-packages\\joblib\\parallel.py\u001b[0m in \u001b[0;36m<listcomp>\u001b[1;34m(.0)\u001b[0m\n\u001b[0;32m    254\u001b[0m         \u001b[1;32mwith\u001b[0m \u001b[0mparallel_backend\u001b[0m\u001b[1;33m(\u001b[0m\u001b[0mself\u001b[0m\u001b[1;33m.\u001b[0m\u001b[0m_backend\u001b[0m\u001b[1;33m,\u001b[0m \u001b[0mn_jobs\u001b[0m\u001b[1;33m=\u001b[0m\u001b[0mself\u001b[0m\u001b[1;33m.\u001b[0m\u001b[0m_n_jobs\u001b[0m\u001b[1;33m)\u001b[0m\u001b[1;33m:\u001b[0m\u001b[1;33m\u001b[0m\u001b[1;33m\u001b[0m\u001b[0m\n\u001b[0;32m    255\u001b[0m             return [func(*args, **kwargs)\n\u001b[1;32m--> 256\u001b[1;33m                     for func, args, kwargs in self.items]\n\u001b[0m\u001b[0;32m    257\u001b[0m \u001b[1;33m\u001b[0m\u001b[0m\n\u001b[0;32m    258\u001b[0m     \u001b[1;32mdef\u001b[0m \u001b[0m__len__\u001b[0m\u001b[1;33m(\u001b[0m\u001b[0mself\u001b[0m\u001b[1;33m)\u001b[0m\u001b[1;33m:\u001b[0m\u001b[1;33m\u001b[0m\u001b[1;33m\u001b[0m\u001b[0m\n",
      "\u001b[1;32mC:\\Users\\Ridha\\Anaconda3\\lib\\site-packages\\surprise\\model_selection\\validation.py\u001b[0m in \u001b[0;36mfit_and_score\u001b[1;34m(algo, trainset, testset, measures, return_train_measures)\u001b[0m\n\u001b[0;32m    162\u001b[0m \u001b[1;33m\u001b[0m\u001b[0m\n\u001b[0;32m    163\u001b[0m     \u001b[0mstart_fit\u001b[0m \u001b[1;33m=\u001b[0m \u001b[0mtime\u001b[0m\u001b[1;33m.\u001b[0m\u001b[0mtime\u001b[0m\u001b[1;33m(\u001b[0m\u001b[1;33m)\u001b[0m\u001b[1;33m\u001b[0m\u001b[1;33m\u001b[0m\u001b[0m\n\u001b[1;32m--> 164\u001b[1;33m     \u001b[0malgo\u001b[0m\u001b[1;33m.\u001b[0m\u001b[0mfit\u001b[0m\u001b[1;33m(\u001b[0m\u001b[0mtrainset\u001b[0m\u001b[1;33m)\u001b[0m\u001b[1;33m\u001b[0m\u001b[1;33m\u001b[0m\u001b[0m\n\u001b[0m\u001b[0;32m    165\u001b[0m     \u001b[0mfit_time\u001b[0m \u001b[1;33m=\u001b[0m \u001b[0mtime\u001b[0m\u001b[1;33m.\u001b[0m\u001b[0mtime\u001b[0m\u001b[1;33m(\u001b[0m\u001b[1;33m)\u001b[0m \u001b[1;33m-\u001b[0m \u001b[0mstart_fit\u001b[0m\u001b[1;33m\u001b[0m\u001b[1;33m\u001b[0m\u001b[0m\n\u001b[0;32m    166\u001b[0m     \u001b[0mstart_test\u001b[0m \u001b[1;33m=\u001b[0m \u001b[0mtime\u001b[0m\u001b[1;33m.\u001b[0m\u001b[0mtime\u001b[0m\u001b[1;33m(\u001b[0m\u001b[1;33m)\u001b[0m\u001b[1;33m\u001b[0m\u001b[1;33m\u001b[0m\u001b[0m\n",
      "\u001b[1;32mC:\\Users\\Ridha\\Anaconda3\\lib\\site-packages\\surprise\\prediction_algorithms\\matrix_factorization.pyx\u001b[0m in \u001b[0;36msurprise.prediction_algorithms.matrix_factorization.SVD.fit\u001b[1;34m()\u001b[0m\n",
      "\u001b[1;32mC:\\Users\\Ridha\\Anaconda3\\lib\\site-packages\\surprise\\prediction_algorithms\\matrix_factorization.pyx\u001b[0m in \u001b[0;36msurprise.prediction_algorithms.matrix_factorization.SVD.sgd\u001b[1;34m()\u001b[0m\n",
      "\u001b[1;32mC:\\Users\\Ridha\\Anaconda3\\lib\\site-packages\\surprise\\trainset.py\u001b[0m in \u001b[0;36mall_ratings\u001b[1;34m(self)\u001b[0m\n\u001b[0;32m    187\u001b[0m         \u001b[1;32mfor\u001b[0m \u001b[0mu\u001b[0m\u001b[1;33m,\u001b[0m \u001b[0mu_ratings\u001b[0m \u001b[1;32min\u001b[0m \u001b[0miteritems\u001b[0m\u001b[1;33m(\u001b[0m\u001b[0mself\u001b[0m\u001b[1;33m.\u001b[0m\u001b[0mur\u001b[0m\u001b[1;33m)\u001b[0m\u001b[1;33m:\u001b[0m\u001b[1;33m\u001b[0m\u001b[1;33m\u001b[0m\u001b[0m\n\u001b[0;32m    188\u001b[0m             \u001b[1;32mfor\u001b[0m \u001b[0mi\u001b[0m\u001b[1;33m,\u001b[0m \u001b[0mr\u001b[0m \u001b[1;32min\u001b[0m \u001b[0mu_ratings\u001b[0m\u001b[1;33m:\u001b[0m\u001b[1;33m\u001b[0m\u001b[1;33m\u001b[0m\u001b[0m\n\u001b[1;32m--> 189\u001b[1;33m                 \u001b[1;32myield\u001b[0m \u001b[0mu\u001b[0m\u001b[1;33m,\u001b[0m \u001b[0mi\u001b[0m\u001b[1;33m,\u001b[0m \u001b[0mr\u001b[0m\u001b[1;33m\u001b[0m\u001b[1;33m\u001b[0m\u001b[0m\n\u001b[0m\u001b[0;32m    190\u001b[0m \u001b[1;33m\u001b[0m\u001b[0m\n\u001b[0;32m    191\u001b[0m     \u001b[1;32mdef\u001b[0m \u001b[0mbuild_testset\u001b[0m\u001b[1;33m(\u001b[0m\u001b[0mself\u001b[0m\u001b[1;33m)\u001b[0m\u001b[1;33m:\u001b[0m\u001b[1;33m\u001b[0m\u001b[1;33m\u001b[0m\u001b[0m\n",
      "\u001b[1;31mKeyboardInterrupt\u001b[0m: "
     ]
    }
   ],
   "source": [
    "from surprise import SVD\n",
    "\n",
    "\n",
    "algo = SVD(n_factors=1000, n_epochs=20, lr_all=0.005,reg_all=0.02)\n",
    "cross_validate(algo, formatted_data, verbose=True,cv=3, measures=['RMSE', 'MAE'])# FOUND RMSE: 1.0276 locally\n",
    "\n",
    "\n",
    "# param_grid = {'n_factors':[100,120],'n_epochs': [5, 10], 'lr_all': [0.002, 0.005],\n",
    "#               'reg_all': [0.4, 0.6]}\n",
    "# gs = GridSearchCV(SVD, param_grid, measures=['rmse', 'mae'], cv=3,joblib_verbose=1, n_jobs=-1)\n",
    "# gs.fit(formatted_data)\n",
    "\n",
    "# # best RMSE score\n",
    "# print(gs.best_score['rmse'])"
   ]
  },
  {
   "cell_type": "code",
   "execution_count": null,
   "metadata": {},
   "outputs": [],
   "source": [
    "ids, preds = u.predict_on_model(algo)\n",
    "u.create_csv_submission(ids, preds, \"submissionSVD.csv\")"
   ]
  },
  {
   "cell_type": "markdown",
   "metadata": {},
   "source": [
    "## KNN on Movie"
   ]
  },
  {
   "cell_type": "code",
   "execution_count": null,
   "metadata": {},
   "outputs": [],
   "source": [
    "from surprise import KNNBasic\n",
    "\n",
    "algo =m.movie_knn()\n",
    "cross_validate(algo, formatted_data, verbose=True,cv=3, measures=['RMSE', 'MAE']) # FOUND RMSE: 1.0603 locally, 1.133 online\n",
    "\n",
    "# param_grid = {'n_neighbors':[3,5,9],'n_epochs': [5, 10], 'lr_all': [0.002, 0.005],\n",
    "#               'reg_all': [0.4, 0.6]}\n",
    "# gs = GridSearchCV(KNNBasic, param_grid, measures=['rmse', 'mae'], cv=3,joblib_verbose=1, n_jobs=-1)\n",
    "# gs.fit(formatted_data)\n",
    "\n",
    "# # best RMSE score\n",
    "# print(gs.best_score['rmse'])"
   ]
  },
  {
   "cell_type": "code",
   "execution_count": null,
   "metadata": {},
   "outputs": [],
   "source": [
    "ids, preds = u.predict_on_model(algo)\n",
    "u.create_csv_submission(ids, preds, \"submissionKNNMovie.csv\")"
   ]
  },
  {
   "cell_type": "markdown",
   "metadata": {},
   "source": [
    "## KNN on User"
   ]
  },
  {
   "cell_type": "markdown",
   "metadata": {},
   "source": [
    "### Surprise KNNBaseline with user user similarities"
   ]
  },
  {
   "cell_type": "code",
   "execution_count": null,
   "metadata": {},
   "outputs": [
    {
     "name": "stdout",
     "output_type": "stream",
     "text": [
      "Estimating biases using sgd...\n"
     ]
    }
   ],
   "source": [
    "from surprise import KNNBaseline\n",
    "\n",
    "# we specify , how to compute similarities and what to consider with sim_options to our algorithm\n",
    "sim_options = {'user_based' : True,\n",
    "               'name': 'pearson_baseline',\n",
    "               'shrinkage': 100,\n",
    "               'min_support': 2\n",
    "              } \n",
    "# we keep other parameters like regularization parameter and learning_rate as default values.\n",
    "bsl_options = {'method': 'sgd'} \n",
    "\n",
    "knn_bsl_u = KNNBaseline(k=40, sim_options = sim_options, bsl_options = bsl_options)\n",
    " \n",
    "knn_bsl_u.fit(trainset)\n",
    "\n",
    "test_preds = knn_bsl_u.test(trainset.build_testset())\n",
    "\n",
    "actual = np.array([pred.r_ui for pred in test_preds])\n",
    "pred = np.array([pred.est for pred in test_preds])\n",
    "\n",
    "rmse = np.sqrt(np.mean((pred - actual)**2))\n",
    "mape = np.mean(np.abs(pred - actual)/actual)\n",
    "\n",
    "print('\\n\\n Test ---rmse :{}  mape :{} '.format(rmse,mape))\n",
    "\n",
    "\n",
    "# param_grid = {'n_neighbors':[3,5,9],'n_epochs': [5, 10], 'lr_all': [0.002, 0.005],\n",
    "#               'reg_all': [0.4, 0.6]}\n",
    "# gs = GridSearchCV(KNNBasic, param_grid, measures=['rmse', 'mae'], cv=3,joblib_verbose=1, n_jobs=-1)\n",
    "# gs.fit(formatted_data)\n",
    "\n",
    "# # best RMSE score\n",
    "# print(gs.best_score['rmse'])"
   ]
  },
  {
   "cell_type": "code",
   "execution_count": null,
   "metadata": {},
   "outputs": [],
   "source": [
    "ids, preds = u.predict_on_model(knn_bsl_u)\n",
    "u.create_csv_submission(ids, preds, \"submissionKNNUser.csv\")"
   ]
  },
  {
   "cell_type": "markdown",
   "metadata": {},
   "source": [
    "## Slope One"
   ]
  },
  {
   "cell_type": "code",
   "execution_count": null,
   "metadata": {},
   "outputs": [],
   "source": [
    "from surprise import SlopeOne\n",
    "\n",
    "algo = SlopeOne()\n",
    "cross_validate(algo, formatted_data, verbose=True,cv=5, measures=['RMSE', 'MAE'])# RMSE: 0.9923 locally, 1.143 online\n",
    "\n",
    "# param_grid = {}\n",
    "# gs = GridSearchCV(SlopeOne, param_grid, measures=['rmse', 'mae'], cv=3,joblib_verbose=1, n_jobs=-1)\n",
    "# gs.fit(formatted_data)\n",
    "# print(gs.best_score['rmse'])"
   ]
  },
  {
   "cell_type": "code",
   "execution_count": null,
   "metadata": {},
   "outputs": [],
   "source": [
    "ids, preds = u.predict_on_model(algo)\n",
    "u.create_csv_submission(ids, preds, \"submissionSlopeOne.csv\")"
   ]
  },
  {
   "cell_type": "markdown",
   "metadata": {},
   "source": [
    "## CoClustering"
   ]
  },
  {
   "cell_type": "code",
   "execution_count": 4,
   "metadata": {},
   "outputs": [
    {
     "name": "stdout",
     "output_type": "stream",
     "text": [
      "Evaluating RMSE, MAE of algorithm CoClustering on 5 split(s).\n",
      "\n",
      "                  Fold 1  Fold 2  Fold 3  Fold 4  Fold 5  Mean    Std     \n",
      "RMSE (testset)    1.0047  1.0040  1.0018  1.0041  1.0042  1.0038  0.0010  \n",
      "MAE (testset)     0.8068  0.8071  0.8056  0.8067  0.8061  0.8065  0.0005  \n",
      "Fit time          18.62   20.27   20.23   20.19   37.24   23.31   6.99    \n",
      "Test time         2.09    2.19    1.83    4.71    3.64    2.89    1.11    \n"
     ]
    },
    {
     "data": {
      "text/plain": [
       "{'test_rmse': array([1.00471382, 1.00403069, 1.00179728, 1.00409181, 1.00423735]),\n",
       " 'test_mae': array([0.80680981, 0.80712163, 0.80560541, 0.80666197, 0.80610796]),\n",
       " 'fit_time': (18.623739004135132,\n",
       "  20.274076223373413,\n",
       "  20.233531713485718,\n",
       "  20.189019918441772,\n",
       "  37.243990659713745),\n",
       " 'test_time': (2.0878589153289795,\n",
       "  2.1923019886016846,\n",
       "  1.833517074584961,\n",
       "  4.712648868560791,\n",
       "  3.6423721313476562)}"
      ]
     },
     "execution_count": 4,
     "metadata": {},
     "output_type": "execute_result"
    }
   ],
   "source": [
    "algo = m.co_clustering()\n",
    "cross_validate(algo, formatted_data, verbose=True,cv=5, measures=['RMSE', 'MAE'])# RMSE: 1.0038 locally, 1.140 online\n"
   ]
  },
  {
   "cell_type": "code",
   "execution_count": 5,
   "metadata": {},
   "outputs": [],
   "source": [
    "ids, preds = u.predict_on_model(algo)\n",
    "u.create_csv_submission(ids, preds, \"submissionCoClustering.csv\")"
   ]
  },
  {
   "cell_type": "markdown",
   "metadata": {},
   "source": [
    "# Blending"
   ]
  },
  {
   "cell_type": "code",
   "execution_count": null,
   "metadata": {},
   "outputs": [],
   "source": [
    "t"
   ]
  }
 ],
 "metadata": {
  "kernelspec": {
   "display_name": "Python 3",
   "language": "python",
   "name": "python3"
  },
  "language_info": {
   "codemirror_mode": {
    "name": "ipython",
    "version": 3
   },
   "file_extension": ".py",
   "mimetype": "text/x-python",
   "name": "python",
   "nbconvert_exporter": "python",
   "pygments_lexer": "ipython3",
   "version": "3.7.3"
  }
 },
 "nbformat": 4,
 "nbformat_minor": 1
}
