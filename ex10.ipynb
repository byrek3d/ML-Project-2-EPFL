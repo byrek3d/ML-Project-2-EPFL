{
 "cells": [
  {
   "cell_type": "code",
   "execution_count": 1,
   "metadata": {},
   "outputs": [],
   "source": [
    "# Useful starting lines\n",
    "%matplotlib inline\n",
    "\n",
    "import numpy as np\n",
    "import scipy\n",
    "import scipy.io\n",
    "import scipy.sparse as sp\n",
    "import matplotlib.pyplot as plt\n",
    "%load_ext autoreload\n",
    "%autoreload 2"
   ]
  },
  {
   "cell_type": "markdown",
   "metadata": {},
   "source": [
    "## Load the Data\n",
    "Note that `ratings` is a sparse matrix that in the shape of (num_items, num_users)"
   ]
  },
  {
   "cell_type": "code",
   "execution_count": 2,
   "metadata": {},
   "outputs": [
    {
     "name": "stdout",
     "output_type": "stream",
     "text": [
      "number of items: 10000, number of users: 1000\n"
     ]
    }
   ],
   "source": [
    "from helpers import load_data, preprocess_data\n",
    "\n",
    "path_dataset = \"data/data_train.csv\"\n",
    "ratings = load_data(path_dataset)"
   ]
  },
  {
   "cell_type": "markdown",
   "metadata": {},
   "source": [
    "### Plot the number of ratings per movie and user"
   ]
  },
  {
   "cell_type": "code",
   "execution_count": 3,
   "metadata": {
    "scrolled": true
   },
   "outputs": [
    {
     "data": {
      "image/png": "[encoded data removed]",
      "text/plain": [
       "<Figure size 432x288 with 2 Axes>"
      ]
     },
     "metadata": {
      "needs_background": "light"
     },
     "output_type": "display_data"
    },
    {
     "name": "stdout",
     "output_type": "stream",
     "text": [
      "min # of items per user = 8, min # of users per item = 3.\n"
     ]
    }
   ],
   "source": [
    "from plots import plot_raw_data\n",
    "\n",
    "num_items_per_user, num_users_per_item = plot_raw_data(ratings)\n",
    "\n",
    "print(\"min # of items per user = {}, min # of users per item = {}.\".format(\n",
    "        min(num_items_per_user), min(num_users_per_item)))"
   ]
  },
  {
   "cell_type": "markdown",
   "metadata": {},
   "source": [
    "### Split the data into a train and test set"
   ]
  },
  {
   "cell_type": "code",
   "execution_count": 4,
   "metadata": {},
   "outputs": [],
   "source": [
    "def split_data(ratings, num_items_per_user, num_users_per_item,\n",
    "               min_num_ratings, p_test=0.1):\n",
    "    \"\"\"split the ratings to training data and test data.\n",
    "    Args:\n",
    "        min_num_ratings: \n",
    "            all users and items we keep must have at least min_num_ratings per user and per item. \n",
    "    \"\"\"\n",
    "    # set seed\n",
    "    np.random.seed(988)\n",
    "    \n",
    "    # select user and item based on the condition.\n",
    "    valid_users = np.where(num_items_per_user >= min_num_ratings)[0]   #return only when it's true\n",
    "    valid_items = np.where(num_users_per_item >= min_num_ratings)[0]   \n",
    "    valid_ratings = ratings[valid_items, :][: , valid_users]  #Why not directly [valid_items,valid_users] ?  \n",
    "    \n",
    "    # ***************************************************\n",
    "    # split the data and return train and test data. \n",
    "    num_rows, num_cols = valid_ratings.shape\n",
    "    train = sp.lil_matrix((num_rows, num_cols))\n",
    "    test = sp.lil_matrix((num_rows, num_cols))\n",
    "    \n",
    "    index = valid_ratings.nonzero()  #tuple of array \n",
    "\n",
    "    order_shuffled = np.arange(0,len(index[0]))\n",
    "    np.random.shuffle(order_shuffled)\n",
    "     \n",
    "    index_shuffled = (index[0][order_shuffled],index[1][order_shuffled])\n",
    "\n",
    "    test_index_size = int(p_test*len(order_shuffled))\n",
    "    \n",
    "    index_test = (index_shuffled[0][:test_index_size],index_shuffled[1][:test_index_size])\n",
    "  \n",
    "    index_train = (index_shuffled[0][test_index_size:],index_shuffled[1][test_index_size:])\n",
    "\n",
    "    test[index_test] =  valid_ratings[index_test]\n",
    "    \n",
    "    train[index_train] = valid_ratings[index_train]\n",
    "    print(\"Total number of nonzero elements in origial data:{v}\".format(v=ratings.nnz))\n",
    "    print(\"Total number of nonzero elements in valid data:{v}\".format(v=valid_ratings.nnz))\n",
    "    print(\"Total number of nonzero elements in train data:{v}\".format(v=train.nnz))\n",
    "    print(\"Total number of nonzero elements in test data:{v}\".format(v=test.nnz))\n",
    "    return valid_ratings, train, test"
   ]
  },
  {
   "cell_type": "code",
   "execution_count": 6,
   "metadata": {
    "scrolled": false
   },
   "outputs": [
    {
     "name": "stdout",
     "output_type": "stream",
     "text": [
      "Total number of nonzero elements in origial data:1176952\n",
      "Total number of nonzero elements in valid data:1176873\n",
      "Total number of nonzero elements in train data:1059186\n",
      "Total number of nonzero elements in test data:117687\n"
     ]
    }
   ],
   "source": [
    "from plots import plot_train_test_data\n",
    "\n",
    "valid_ratings, train, test = split_data(\n",
    "    ratings, num_items_per_user, num_users_per_item, min_num_ratings=10, p_test=0.1)\n",
    "#plot_train_test_data(train, test)"
   ]
  },
  {
   "cell_type": "markdown",
   "metadata": {},
   "source": [
    "## Implementing Baselines "
   ]
  },
  {
   "cell_type": "markdown",
   "metadata": {},
   "source": [
    "### Use the global mean to do the prediction"
   ]
  },
  {
   "cell_type": "code",
   "execution_count": 7,
   "metadata": {
    "scrolled": true
   },
   "outputs": [
    {
     "data": {
      "text/plain": [
       "1.1171646234717394"
      ]
     },
     "execution_count": 7,
     "metadata": {},
     "output_type": "execute_result"
    }
   ],
   "source": [
    "from helpers import calculate_mse\n",
    "\n",
    "def baseline_global_mean(train, test):\n",
    "    \"\"\"baseline method: use the global mean.\"\"\"\n",
    "    \n",
    "    global_mean_train = train[train.nonzero()].mean()\n",
    "    \n",
    "    test_nonzero_dense = test[test.nonzero()].todense()\n",
    "    \n",
    "    mse = calculate_mse( test_nonzero_dense, global_mean_train )\n",
    "    \n",
    "    rmse = np.sqrt( mse / test_nonzero_dense.shape[1] )\n",
    "    \n",
    "    return rmse[0,0]\n",
    "    \n",
    "baseline_global_mean(train, test)"
   ]
  },
  {
   "cell_type": "markdown",
   "metadata": {},
   "source": [
    "### Use the user means as the prediction"
   ]
  },
  {
   "cell_type": "code",
   "execution_count": 8,
   "metadata": {
    "scrolled": false
   },
   "outputs": [
    {
     "data": {
      "text/plain": [
       "1.0292372231810407"
      ]
     },
     "execution_count": 8,
     "metadata": {},
     "output_type": "execute_result"
    }
   ],
   "source": [
    "def baseline_user_mean(train, test):\n",
    "    \"\"\"baseline method: use the user means as the prediction.\"\"\"\n",
    "    mse = 0\n",
    "    count = 0 \n",
    "    num_items, num_users = train.shape\n",
    "    \n",
    "    sums=train.sum(axis=0) #sum for each user\n",
    "    \n",
    "    mean_user=np.zeros((1,num_users))\n",
    "\n",
    "    for j in range(0,num_users):\n",
    "        if(sums[0,j] != 0):\n",
    "            elems = train[:,j]\n",
    "            elems_nonzero = elems[elems.nonzero()]\n",
    "            mean_user[0,j] = elems_nonzero.mean()\n",
    "    \n",
    "        for i in range(test.shape[0]):\n",
    "            if(test[i,j] != 0):\n",
    "                mean_user_elem = mean_user[0,j]\n",
    "                mse += (test[i,j]-mean_user_elem )**2\n",
    "                count+= 1\n",
    "   \n",
    "    rmse = np.sqrt( mse / count )\n",
    "    \n",
    "    return rmse\n",
    "baseline_user_mean(train, test)"
   ]
  },
  {
   "cell_type": "markdown",
   "metadata": {},
   "source": [
    "### Use the item means as the prediction"
   ]
  },
  {
   "cell_type": "code",
   "execution_count": 9,
   "metadata": {},
   "outputs": [
    {
     "data": {
      "text/plain": [
       "1.0919855243000396"
      ]
     },
     "execution_count": 9,
     "metadata": {},
     "output_type": "execute_result"
    }
   ],
   "source": [
    "def baseline_item_mean(train, test):\n",
    "    \"\"\"baseline method: use item means as the prediction.\"\"\"\n",
    "    mse = 0\n",
    "    count = 0 \n",
    "    num_items, num_users = train.shape\n",
    "    \n",
    "    sums=train.sum(axis=1) #sum for each user\n",
    "    \n",
    "    mean_item=np.zeros((num_items,1))\n",
    "\n",
    "    for i in range(0,num_items):\n",
    "        if(sums[i,0] != 0):\n",
    "            elems = train[i,:]\n",
    "            elems_nonzero = elems[elems.nonzero()]\n",
    "            mean_item[i,0] = elems_nonzero.mean()\n",
    "    \n",
    "        for j in range(test.shape[1]):\n",
    "            if(test[i,j] != 0):\n",
    "                mean_item_elem = mean_item[i,0]\n",
    "                mse += (test[i,j]-mean_item_elem)**2\n",
    "                count+= 1\n",
    "   \n",
    "    rmse = np.sqrt( mse / count )\n",
    "    \n",
    "    return rmse\n",
    "baseline_item_mean(train, test)"
   ]
  },
  {
   "cell_type": "markdown",
   "metadata": {},
   "source": [
    "The **item mean prediction** gives us the best approximation "
   ]
  },
  {
   "cell_type": "markdown",
   "metadata": {},
   "source": [
    "### Learn the Matrix Factorization using SGD"
   ]
  },
  {
   "cell_type": "markdown",
   "metadata": {},
   "source": [
    "#### Initialize matrix factorization"
   ]
  },
  {
   "cell_type": "code",
   "execution_count": 10,
   "metadata": {},
   "outputs": [],
   "source": [
    "def init_MF(train, num_features):\n",
    "    \"\"\"init the parameter for matrix factorization.\"\"\"\n",
    "    \n",
    "    num_item, num_user = train.get_shape()\n",
    "    \n",
    "    user_features = np.random.rand(num_features,num_user)  #(K,N)\n",
    "    item_features = np.random.rand(num_features,num_item)  #(K,D)\n",
    "    \n",
    "    #do we need to do anything else ? \n",
    "        \n",
    "    return user_features,item_features"
   ]
  },
  {
   "cell_type": "markdown",
   "metadata": {},
   "source": [
    "Compute the cost by the method of matrix factorization.\n"
   ]
  },
  {
   "cell_type": "code",
   "execution_count": 11,
   "metadata": {},
   "outputs": [],
   "source": [
    "def compute_error(data, user_features, item_features, nz):\n",
    "    \"\"\"compute the loss (MSE) of the prediction of nonzero elements.\"\"\"\n",
    "    mse=0\n",
    "    for row,col in nz:\n",
    "        w_d = item_features[:,row]\n",
    "        z_n = user_features[:,col]\n",
    "        prediction= w_d @ z_n.T\n",
    "        error_prediction = (data[row,col] - prediction ) **2 \n",
    "        mse+=error_prediction\n",
    "    \n",
    "    return np.sqrt(mse / len(nz))"
   ]
  },
  {
   "cell_type": "code",
   "execution_count": 16,
   "metadata": {},
   "outputs": [
    {
     "name": "stdout",
     "output_type": "stream",
     "text": [
      "learn the matrix factorization using SGD...\n",
      "iter: 0, RMSE on training set: 1.0396454698328181.\n",
      "iter: 1, RMSE on training set: 1.0349595382492598.\n",
      "iter: 2, RMSE on training set: 1.0349705134397549.\n",
      "iter: 3, RMSE on training set: 1.0329840001506103.\n",
      "iter: 4, RMSE on training set: 1.0314520506262004.\n",
      "iter: 5, RMSE on training set: 1.0300808532240444.\n",
      "iter: 6, RMSE on training set: 1.0285397866898172.\n",
      "iter: 7, RMSE on training set: 1.0273312057023696.\n",
      "iter: 8, RMSE on training set: 1.0266935358979976.\n",
      "iter: 9, RMSE on training set: 1.026072190435157.\n",
      "iter: 10, RMSE on training set: 1.026056677957059.\n",
      "iter: 11, RMSE on training set: 1.0256322871361312.\n",
      "iter: 12, RMSE on training set: 1.0255265448223012.\n",
      "iter: 13, RMSE on training set: 1.0253143200675616.\n",
      "iter: 14, RMSE on training set: 1.0251330057401447.\n",
      "iter: 15, RMSE on training set: 1.0252774077749784.\n",
      "iter: 16, RMSE on training set: 1.025199164616075.\n",
      "iter: 17, RMSE on training set: 1.0251349855343557.\n",
      "iter: 18, RMSE on training set: 1.0252174562988263.\n",
      "iter: 19, RMSE on training set: 1.025096519021199.\n",
      "RMSE on test data: 1.0328153623669527.\n"
     ]
    }
   ],
   "source": [
    "def matrix_factorization_SGD(train, test,reg=True):\n",
    "    \"\"\"matrix factorization by SGD.\"\"\"\n",
    "    # define parameters\n",
    "    gamma = 0.01\n",
    "    num_features = 20   # K in the lecture notes\n",
    "    lambda_user = 0.1\n",
    "    lambda_item = 0.7\n",
    "    num_epochs = 20     # number of full passes through the train set\n",
    "    errors = [0]\n",
    "    \n",
    "    # set seed\n",
    "    np.random.seed(988)\n",
    "\n",
    "    # init matrix\n",
    "    user_features, item_features = init_MF(train, num_features)   #Z0.T,W0\n",
    "    \n",
    "    # find the non-zero ratings indices \n",
    "    nz_row, nz_col = train.nonzero()\n",
    "    nz_train = list(zip(nz_row, nz_col))\n",
    "    nz_row, nz_col = test.nonzero()\n",
    "    nz_test = list(zip(nz_row, nz_col))\n",
    "\n",
    "    print(\"learn the matrix factorization using SGD...\")\n",
    "    for it in range(num_epochs):        \n",
    "        # shuffle the training rating indices\n",
    "        np.random.shuffle(nz_train)\n",
    "        \n",
    "        # decrease step size\n",
    "        gamma /= 1.2\n",
    "        \n",
    "        for d, n in nz_train:\n",
    "            \n",
    "            item_data = item_features[:,d]  \n",
    "            user_data = user_features[:,n]\n",
    "            \n",
    "            prediciton_error = train[d, n] - item_data @ user_data.T\n",
    "        \n",
    "            #compute derivative wrt w\n",
    "            grad_w = -prediciton_error * user_data  \n",
    "                \n",
    "            #compute derivative wrt z \n",
    "            grad_z = -prediciton_error * item_data\n",
    "   \n",
    "            #update \n",
    "            if(reg):\n",
    "            \n",
    "                item_features[:,d]-= gamma * ( grad_w + lambda_item * item_data)\n",
    "                user_features[:,n]-= gamma * ( grad_z + lambda_user * user_data)\n",
    "            \n",
    "            else:\n",
    "                item_features[:,d]-= gamma * grad_w\n",
    "                user_features[:,n]-= gamma * grad_z\n",
    "        \n",
    "        rmse = compute_error(train, user_features, item_features, nz_train)\n",
    "        print(\"iter: {}, RMSE on training set: {}.\".format(it, rmse))\n",
    "        \n",
    "        errors.append(rmse)\n",
    "\n",
    "    rmse = compute_error(test, user_features, item_features, nz_test)\n",
    "    print(\"RMSE on test data: {}.\".format(rmse))\n",
    "    \n",
    "    return item_features, user_features\n",
    "\n",
    "item_features, user_features = matrix_factorization_SGD(train, test)    #Regularized\n",
    "\n",
    "\n",
    "##matrix_factorization_SGD(train, test, False) #Not regularized"
   ]
  },
  {
   "cell_type": "markdown",
   "metadata": {},
   "source": [
    "## Prediction for submission"
   ]
  },
  {
   "cell_type": "code",
   "execution_count": 33,
   "metadata": {},
   "outputs": [
    {
     "name": "stdout",
     "output_type": "stream",
     "text": [
      "(9990, 20)\n",
      "(20, 999)\n"
     ]
    }
   ],
   "source": [
    "import csv \n",
    "\n",
    "print(item_features.T.shape)\n",
    "print(user_features.shape)\n",
    "\n",
    "X = item_features.T @ user_features\n",
    "\n",
    "with open('submission.csv' , 'w') as writeFile: \n",
    "    writer = csv.writer(writeFile)\n",
    "    \n",
    "    for j in range(X.shape[1]):\n",
    "        for i in range(X.shape[0]):\n",
    "            if(X[i,j] != 0):\n",
    "                s= \"r{0}_c{1}\".format(i+1,j+1)\n",
    "                row= [s, str(X[i,j])]\n",
    "                writer.writerows(row)\n",
    "\n",
    "writeFile.close()"
   ]
  },
  {
   "cell_type": "markdown",
   "metadata": {},
   "source": [
    "### Learn the Matrix Factorization using Alternating Least Squares"
   ]
  },
  {
   "cell_type": "code",
   "execution_count": 20,
   "metadata": {},
   "outputs": [],
   "source": [
    "def update_user_feature(\n",
    "        train, item_features, lambda_user,\n",
    "        nnz_items_per_user, nz_user_itemindices):\n",
    "    \"\"\"update user feature matrix.\"\"\"\n",
    "    \"\"\"the best lambda is assumed to be nnz_items_per_user[user] * lambda_user\"\"\"\n",
    "    \n",
    "    \n",
    "    num_user = nnz_items_per_user.shape[0]\n",
    "    num_feature = item_features.shape[0]\n",
    "    lambda_I = lambda_user * np.eye(num_feature)\n",
    "    updated_user_features = np.zeros((num_feature, num_user))\n",
    "\n",
    "    for user, items in nz_user_itemindices:\n",
    "        # extract the columns corresponding to the prediction for given item\n",
    "        M = item_features[:, items]\n",
    "        \n",
    "        # update column row of user features\n",
    "        V = M @ train[items, user]\n",
    "        A = M @ M.T + nnz_items_per_user[user] * lambda_I\n",
    "        X = np.linalg.solve(A, V)\n",
    "        updated_user_features[:, user] = np.copy(X.T)\n",
    "    return updated_user_features\n",
    "\n",
    "def update_item_feature(\n",
    "        train, user_features, lambda_item,\n",
    "        nnz_users_per_item, nz_item_userindices):\n",
    "    \"\"\"update item feature matrix.\"\"\"\n",
    "    \"\"\"the best lambda is assumed to be nnz_items_per_item[item] * lambda_item\"\"\"\n",
    "    num_item = nnz_users_per_item.shape[0]\n",
    "    num_feature = user_features.shape[0]\n",
    "    lambda_I = lambda_item * sp.eye(num_feature)\n",
    "    updated_item_features = np.zeros((num_feature, num_item))\n",
    "\n",
    "    for item, users in nz_item_userindices:\n",
    "        # extract the columns corresponding to the prediction for given user\n",
    "        M = user_features[:, users]\n",
    "        V = M @ train[item, users].T\n",
    "        A = M @ M.T + nnz_users_per_item[item] * lambda_I\n",
    "        X = np.linalg.solve(A, V)\n",
    "        updated_item_features[:, item] = np.copy(X.T)\n",
    "    return updated_item_features"
   ]
  },
  {
   "cell_type": "code",
   "execution_count": 21,
   "metadata": {},
   "outputs": [
    {
     "name": "stdout",
     "output_type": "stream",
     "text": [
      "\n",
      "start the ALS algorithm...\n",
      "RMSE on training set: 1.2268608177178733.\n",
      "RMSE on training set: 1.0679719056734243.\n",
      "RMSE on training set: 1.011176082495169.\n",
      "RMSE on training set: 0.9809366938195246.\n",
      "RMSE on training set: 0.9626783232194683.\n",
      "RMSE on training set: 0.9515927754786456.\n",
      "RMSE on training set: 0.9448637043216529.\n",
      "RMSE on training set: 0.940663999584706.\n",
      "RMSE on training set: 0.937942581733915.\n",
      "RMSE on training set: 0.9361197282526463.\n",
      "RMSE on training set: 0.9348679291407508.\n",
      "RMSE on training set: 0.9339931005581322.\n",
      "RMSE on training set: 0.9333744071964116.\n",
      "RMSE on training set: 0.9329333817287765.\n",
      "RMSE on training set: 0.9326173771071264.\n",
      "RMSE on training set: 0.932390212919941.\n",
      "RMSE on training set: 0.9322265982307127.\n",
      "RMSE on training set: 0.9321086434183049.\n",
      "RMSE on training set: 0.9320235906035975.\n",
      "test RMSE after running ALS: 0.9610301226500155.\n"
     ]
    }
   ],
   "source": [
    "from helpers import build_index_groups\n",
    "\n",
    "\n",
    "def ALS(train, test):\n",
    "    \"\"\"Alternating Least Squares (ALS) algorithm.\"\"\"\n",
    "    # define parameters\n",
    "    num_features = 20   # K in the lecture notes\n",
    "    lambda_user = 0.1\n",
    "    lambda_item = 0.7\n",
    "    stop_criterion = 1e-4\n",
    "    change = 1\n",
    "    error_list = [0, 0]\n",
    "    \n",
    "    # set seed\n",
    "    np.random.seed(988)\n",
    "\n",
    "    # init ALS\n",
    "    user_features, item_features = init_MF(train, num_features)\n",
    "    \n",
    "    # get the number of non-zero ratings for each user and item\n",
    "    nnz_items_per_user, nnz_users_per_item = train.getnnz(axis=0), train.getnnz(axis=1)\n",
    "    \n",
    "    # group the indices by row or column index\n",
    "    nz_train, nz_item_userindices, nz_user_itemindices = build_index_groups(train)\n",
    "\n",
    "    # run ALS\n",
    "    print(\"\\nstart the ALS algorithm...\")\n",
    "    while change > stop_criterion:\n",
    "        # update user feature & item feature\n",
    "        user_features = update_user_feature(\n",
    "            train, item_features, lambda_user,\n",
    "            nnz_items_per_user, nz_user_itemindices)\n",
    "        item_features = update_item_feature(\n",
    "            train, user_features, lambda_item,\n",
    "            nnz_users_per_item, nz_item_userindices)\n",
    "\n",
    "        error = compute_error(train, user_features, item_features, nz_train)\n",
    "        print(\"RMSE on training set: {}.\".format(error))\n",
    "        error_list.append(error)\n",
    "        change = np.fabs(error_list[-1] - error_list[-2])\n",
    "\n",
    "    # evaluate the test error\n",
    "    nnz_row, nnz_col = test.nonzero()\n",
    "    nnz_test = list(zip(nnz_row, nnz_col))\n",
    "    rmse = compute_error(test, user_features, item_features, nnz_test)\n",
    "    print(\"test RMSE after running ALS: {v}.\".format(v=rmse))\n",
    "\n",
    "ALS(train, test)"
   ]
  }
 ],
 "metadata": {
  "kernelspec": {
   "display_name": "Python 3",
   "language": "python",
   "name": "python3"
  },
  "language_info": {
   "codemirror_mode": {
    "name": "ipython",
    "version": 3
   },
   "file_extension": ".py",
   "mimetype": "text/x-python",
   "name": "python",
   "nbconvert_exporter": "python",
   "pygments_lexer": "ipython3",
   "version": "3.6.9"
  }
 },
 "nbformat": 4,
 "nbformat_minor": 1
}
